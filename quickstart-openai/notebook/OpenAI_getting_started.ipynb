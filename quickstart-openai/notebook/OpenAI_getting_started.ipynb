{
 "cells": [
  {
   "attachments": {},
   "cell_type": "markdown",
   "metadata": {
    "nteract": {
     "transient": {
      "deleting": false
     }
    }
   },
   "source": [
    "# OpenAI Quickstart"
   ]
  },
  {
   "attachments": {},
   "cell_type": "markdown",
   "metadata": {
    "nteract": {
     "transient": {
      "deleting": false
     }
    }
   },
   "source": [
    "# Overview  \n",
    "\"Large language models are functions that map text to text. Given an input string of text, a large language model tries to predict the text that will come next\"(1). This \"quickstart\" notebook will introduce users to high-level LLM concepts, core package requirements for getting started with AML, an soft introduction to prompt design, and severa short examples of different use cases.  \n",
    "\n",
    "For more quickstart examples please refer to the official Azure Open AI Quickstart Documentation https://learn.microsoft.com/en-us/azure/cognitive-services/openai/quickstart?pivots=programming-language-studio"
   ]
  },
  {
   "attachments": {},
   "cell_type": "markdown",
   "metadata": {
    "nteract": {
     "transient": {
      "deleting": false
     }
    }
   },
   "source": [
    "## Table of Contents  \n",
    "\n",
    "[Overview](#overview)  \n",
    "[How to use OpenAI Service](#how-to-use-openai-service)  \n",
    "[1. Creating your OpenAI Service](#1.-creating-your-openai-service)  \n",
    "[2. Installation](#2.-installation)    \n",
    "[3. Credentials](#3.-credentials)  \n",
    "\n",
    "[Use Cases](#use-cases)    \n",
    "[1. Summarize Text](#1.-summarize-text)  \n",
    "[2. Classify Text](#2.-classify-text)  \n",
    "[3. Generate New Product Names](#3.-generate-new-product-names)  \n",
    "[4. Fine Tune a Classifier](#4.fine-tune-a-classifier)  \n",
    "[5. Embeddings!]((#5.-embeddings!))\n",
    "\n",
    "[References](#references)"
   ]
  },
  {
   "attachments": {},
   "cell_type": "markdown",
   "metadata": {
    "nteract": {
     "transient": {
      "deleting": false
     }
    }
   },
   "source": [
    "### Getting started with Azure OpenAI Service\n",
    "\n",
    "New customers will need to [apply for access](https://aka.ms/oai/access) to Azure OpenAI Service.  \n",
    "After approval is complete, customers can log into the Azure portal, create an Azure OpenAI Service resource, and start experimenting with models via the studio  \n",
    "\n",
    "[Great resource for getting started quickly](https://techcommunity.microsoft.com/t5/educator-developer-blog/azure-openai-is-now-generally-available/ba-p/3719177 )\n"
   ]
  },
  {
   "attachments": {},
   "cell_type": "markdown",
   "metadata": {
    "nteract": {
     "transient": {
      "deleting": false
     }
    }
   },
   "source": [
    "### Build your first prompt  \n",
    "This short exercise will provide a basic introduction for submitting prompts to an OpenAI model for a simple task \"summarization\".  \n",
    "\n",
    "![](images/generative-AI-models-reduced.jpg)  \n",
    "\n",
    "\n",
    "**Steps**:  \n",
    "1. Install OpenAI library in your python environment  \n",
    "2. Load standard helper libraries and set your typical OpenAI security credentials for the OpenAI Service that you've created  \n",
    "3. Choose a model for your task  \n",
    "4. Create a simple prompt for the model  \n",
    "5. Submit your request to the model API!"
   ]
  },
  {
   "attachments": {},
   "cell_type": "markdown",
   "metadata": {
    "nteract": {
     "transient": {
      "deleting": false
     }
    }
   },
   "source": [
    "### 1. Import helper libraries and instantiate credentials"
   ]
  },
  {
   "cell_type": "code",
   "execution_count": 10,
   "metadata": {},
   "outputs": [
    {
     "name": "stdout",
     "output_type": "stream",
     "text": [
      "Note: you may need to restart the kernel to use updated packages.\n"
     ]
    }
   ],
   "source": [
    "pip freeze > requirements.txt\n"
   ]
  },
  {
   "cell_type": "code",
   "execution_count": 9,
   "metadata": {
    "collapsed": false,
    "gather": {
     "logged": 1674829434433
    },
    "jupyter": {
     "outputs_hidden": false,
     "source_hidden": false
    },
    "nteract": {
     "transient": {
      "deleting": false
     }
    }
   },
   "outputs": [],
   "source": [
    "import re\n",
    "import requests\n",
    "import sys\n",
    "import os\n",
    "from openai import AzureOpenAI\n",
    "import tiktoken\n",
    "from dotenv import load_dotenv\n",
    "load_dotenv()\n",
    "\n",
    "client = AzureOpenAI(\n",
    "  azure_endpoint = os.getenv(\"AZURE_OPENAI_ENDPOINT\"), \n",
    "  api_key=os.getenv(\"AZURE_OPENAI_API_KEY\"),  \n",
    "  api_version=\"2024-02-15-preview\"\n",
    ")"
   ]
  },
  {
   "attachments": {},
   "cell_type": "markdown",
   "metadata": {
    "nteract": {
     "transient": {
      "deleting": false
     }
    }
   },
   "source": [
    "### 2. Finding the right model  \n",
    "The GPT-3.5-turbi or GPT-4 models can understand and generate natural language. The service offers four model capabilities, each with different levels of power and speed suitable for different tasks. \n",
    "\n",
    "[Azure OpenAI models](https://learn.microsoft.com/en-us/azure/cognitive-services/openai/concepts/models)  \n",
    "![](images/a-b-c-d-models-reduced.jpg)  \n"
   ]
  },
  {
   "cell_type": "code",
   "execution_count": 63,
   "metadata": {
    "gather": {
     "logged": 1674742720788
    },
    "nteract": {
     "transient": {
      "deleting": false
     }
    }
   },
   "outputs": [
    {
     "name": "stdout",
     "output_type": "stream",
     "text": [
      "assistant: Orange who?\n"
     ]
    }
   ],
   "source": [
    "# Select the GPT-4o model for text\n",
    "\n",
    "model = \"gpt-4o-mini\"\n",
    "response = client.chat.completions.create(\n",
    "    model=model,\n",
    "    messages=[\n",
    "        {\"role\": \"system\", \"content\": \"You are a helpful assistant.\"},\n",
    "        {\"role\": \"user\", \"content\": \"Knock knock.\"},\n",
    "        {\"role\": \"assistant\", \"content\": \"Who's there?\"},\n",
    "        {\"role\": \"user\", \"content\": \"Orange.\"},\n",
    "    ],\n",
    "    temperature=0,\n",
    ")\n",
    "\n",
    "print(f\"{response.choices[0].message.role}: {response.choices[0].message.content}\")"
   ]
  },
  {
   "attachments": {},
   "cell_type": "markdown",
   "metadata": {
    "nteract": {
     "transient": {
      "deleting": false
     }
    }
   },
   "source": [
    "### 3. Prompt Design  \n",
    "\n",
    "\"The magic of large language models is that by being trained to minimize this prediction error over vast quantities of text, the models end up learning concepts useful for these predictions. For example, they learn concepts like\"(1):\n",
    "\n",
    "* how to spell\n",
    "* how grammar works\n",
    "* how to paraphrase\n",
    "* how to answer questions\n",
    "* how to hold a conversation\n",
    "* how to write in many languages\n",
    "* how to code\n",
    "* etc.\n",
    "\n",
    "#### How to control a large language model  \n",
    "\"Of all the inputs to a large language model, by far the most influential is the text prompt(1).\n",
    "\n",
    "Large language models can be prompted to produce output in a few ways:\n",
    "\n",
    "Instruction: Tell the model what you want\n",
    "Completion: Induce the model to complete the beginning of what you want\n",
    "Demonstration: Show the model what you want, with either:\n",
    "A few examples in the prompt\n",
    "Many hundreds or thousands of examples in a fine-tuning training dataset\"\n",
    "\n",
    "\n",
    "\n",
    "#### There are three basic guidelines to creating prompts:\n",
    "\n",
    "**Show and tell**. Make it clear what you want either through instructions, examples, or a combination of the two. If you want the model to rank a list of items in alphabetical order or to classify a paragraph by sentiment, show it that's what you want.\n",
    "\n",
    "**Provide quality data**. If you're trying to build a classifier or get the model to follow a pattern, make sure that there are enough examples. Be sure to proofread your examples — the model is usually smart enough to see through basic spelling mistakes and give you a response, but it also might assume this is intentional and it can affect the response.\n",
    "\n",
    "**Check your settings.** The temperature and top_p settings control how deterministic the model is in generating a response. If you're asking it for a response where there's only one right answer, then you'd want to set these lower. If you're looking for more diverse responses, then you might want to set them higher. The number one mistake people use with these settings is assuming that they're \"cleverness\" or \"creativity\" controls.\n",
    "\n",
    "\n",
    "Source: https://github.com/Azure/OpenAI/blob/main/How%20to/Completions.md"
   ]
  },
  {
   "attachments": {},
   "cell_type": "markdown",
   "metadata": {
    "nteract": {
     "transient": {
      "deleting": false
     }
    }
   },
   "source": [
    "![](images/prompt_design.jpg)\n",
    "image is creating your first text prompt!"
   ]
  },
  {
   "attachments": {},
   "cell_type": "markdown",
   "metadata": {
    "nteract": {
     "transient": {
      "deleting": false
     }
    }
   },
   "source": [
    "### 4. Submit!"
   ]
  },
  {
   "cell_type": "code",
   "execution_count": 65,
   "metadata": {
    "collapsed": false,
    "gather": {
     "logged": 1674494935186
    },
    "jupyter": {
     "outputs_hidden": false,
     "source_hidden": false
    },
    "nteract": {
     "transient": {
      "deleting": false
     }
    }
   },
   "outputs": [
    {
     "data": {
      "text/plain": [
       "'The use of the Oxford comma, also known as the serial comma, is a matter of style and preference rather than a strict rule of grammar. The Oxford comma is the comma placed before the conjunction (usually \"and\" or \"or\") in a list of three or more items. For example, in the list \"apples, oranges, and bananas,\" the comma after \"oranges\" is the Oxford comma.\\n\\nHere are a few points to consider regarding its use:\\n\\n1. **Clarity**: The Oxford comma can enhance clarity in complex lists. For example, in the sentence \"I love my parents, Madonna and Elvis,\" without the Oxford comma, it could suggest that Madonna and Elvis are the speaker\\'s parents. Using the Oxford comma (\"I love my parents, Madonna, and Elvis\") avoids this ambiguity.\\n\\n2. **Style Guides**: Different style guides have different rules regarding the Oxford comma. For example:\\n   - The Chicago Manual of Style advocates for its use.\\n   - The Associated Press (AP) Stylebook suggests omitting it unless its absence leads to confusion.\\n\\n3. **Consistency**: It\\'s important to be consistent in your use of the Oxford comma. If you choose to use it in one list, it\\'s best to use it throughout your writing.\\n\\nUltimately, whether to use the Oxford comma depends on your audience, the style guide you are following, and your personal preference. It can be a useful tool for clarity, so if you\\'re ever in doubt, consider using it.'"
      ]
     },
     "execution_count": 65,
     "metadata": {},
     "output_type": "execute_result"
    }
   ],
   "source": [
    "# Create your first prompt\n",
    "text_prompt = \"Should oxford commas always be used?\"\n",
    "\n",
    "response = client.chat.completions.create(\n",
    "  model=model,\n",
    "  messages = [{\"role\":\"system\", \"content\":\"You are a helpful assistant.\"},\n",
    "               {\"role\":\"user\",\"content\":text_prompt},])\n",
    "\n",
    "response.choices[0].message.content"
   ]
  },
  {
   "attachments": {},
   "cell_type": "markdown",
   "metadata": {
    "nteract": {
     "transient": {
      "deleting": false
     }
    }
   },
   "source": [
    "### Repeat the same call, how do the results compare?"
   ]
  },
  {
   "cell_type": "code",
   "execution_count": 67,
   "metadata": {
    "collapsed": false,
    "gather": {
     "logged": 1674494940872
    },
    "jupyter": {
     "outputs_hidden": false,
     "source_hidden": false
    },
    "nteract": {
     "transient": {
      "deleting": false
     }
    }
   },
   "outputs": [
    {
     "data": {
      "text/plain": [
       "'The use of the Oxford comma, also known as the serial comma, is a matter of style preference. It is used before the conjunction (usually \"and\" or \"or\") in a list of three or more items. For example, in the list \"apples, oranges, and bananas,\" the Oxford comma is the one placed before \"and.\"\\n\\nHere are some points to consider regarding the usage of the Oxford comma:\\n\\n1. **Clarity**: The Oxford comma can prevent ambiguity in sentences. For example:\\n   - Without the Oxford comma: “I love my parents, Lady Gaga and Humpty Dumpty.” (This could imply that Lady Gaga and Humpty Dumpty are your parents.)\\n   - With the Oxford comma: “I love my parents, Lady Gaga, and Humpty Dumpty.” (This clarifies that they are distinct entities.)\\n\\n2. **Consistency**: If you are writing in a context that advocates for or against the Oxford comma, it’s best to be consistent in your usage throughout the document.\\n\\n3. **Style Guides**: Different style guides have different rules regarding the Oxford comma. For instance:\\n   - The Chicago Manual of Style advocates for its use.\\n   - The Associated Press (AP) Stylebook generally advises against it, except when necessary for clarity.\\n\\nUltimately, whether to use the Oxford comma depends on the context and the style you are following. If in doubt, consider your audience and the potential for misunderstanding in your sentences. If clarity is at stake, it\\'s often better to use it.'"
      ]
     },
     "execution_count": 67,
     "metadata": {},
     "output_type": "execute_result"
    }
   ],
   "source": [
    "\n",
    "response = client.chat.completions.create(\n",
    "  model=model,\n",
    "  messages = [{\"role\":\"system\", \"content\":\"You are a helpful assistant.\"},\n",
    "               {\"role\":\"user\",\"content\":text_prompt},])\n",
    "\n",
    "response.choices[0].message.content"
   ]
  },
  {
   "attachments": {},
   "cell_type": "markdown",
   "metadata": {
    "nteract": {
     "transient": {
      "deleting": false
     }
    }
   },
   "source": [
    "## Summarize Text  \n",
    "#### Challenge  \n",
    "Summarize text by adding a 'tl;dr:' to the end of a text passage. Notice how the model understands how to perform a number of tasks with no additional instructions. You can experiment with more descriptive prompts than tl;dr to modify the model’s behavior and customize the summarization you receive(3).  \n",
    "\n",
    "Recent work has demonstrated substantial gains on many NLP tasks and benchmarks by pre-training on a large corpus of text followed by fine-tuning on a specific task. While typically task-agnostic in architecture, this method still requires task-specific fine-tuning datasets of thousands or tens of thousands of examples. By contrast, humans can generally perform a new language task from only a few examples or from simple instructions - something which current NLP systems still largely struggle to do. Here we show that scaling up language models greatly improves task-agnostic, few-shot performance, sometimes even reaching competitiveness with prior state-of-the-art fine-tuning approaches. \n",
    "\n",
    "\n",
    "\n",
    "Tl;dr"
   ]
  },
  {
   "attachments": {},
   "cell_type": "markdown",
   "metadata": {
    "nteract": {
     "transient": {
      "deleting": false
     }
    }
   },
   "source": [
    "# Exercises for several use cases  \n",
    "1. Summarize Text  \n",
    "2. Classify Text  \n",
    "3. Generate New Product Names\n",
    "4. Embeddings\n",
    "5. Fine tune a classifier"
   ]
  },
  {
   "cell_type": "code",
   "execution_count": 69,
   "metadata": {
    "collapsed": false,
    "gather": {
     "logged": 1674495198534
    },
    "jupyter": {
     "outputs_hidden": false,
     "source_hidden": false
    },
    "nteract": {
     "transient": {
      "deleting": false
     }
    }
   },
   "outputs": [],
   "source": [
    "prompt = \"Recent work has demonstrated substantial gains on many NLP tasks and benchmarks by pre-training on a large corpus of text followed by fine-tuning on a specific task. While typically task-agnostic in architecture, this method still requires task-specific fine-tuning datasets of thousands or tens of thousands of examples. By contrast, humans can generally perform a new language task from only a few examples or from simple instructions - something which current NLP systems still largely struggle to do. Here we show that scaling up language models greatly improves task-agnostic, few-shot performance, sometimes even reaching competitiveness with prior state-of-the-art fine-tuning approaches.\\n\\nTl;dr\"\n"
   ]
  },
  {
   "cell_type": "code",
   "execution_count": 71,
   "metadata": {
    "collapsed": false,
    "gather": {
     "logged": 1674495201868
    },
    "jupyter": {
     "outputs_hidden": false,
     "source_hidden": false
    },
    "nteract": {
     "transient": {
      "deleting": false
     }
    }
   },
   "outputs": [
    {
     "data": {
      "text/plain": [
       "'Recent work shows that scaling up language models significantly enhances their few-shot performance on NLP tasks, enabling them to compete with traditional fine-tuning methods, which typically require large task-specific datasets.'"
      ]
     },
     "execution_count": 71,
     "metadata": {},
     "output_type": "execute_result"
    }
   ],
   "source": [
    "#Setting a few additional, typical parameters during API Call\n",
    "\n",
    "response = client.chat.completions.create(\n",
    "  model=model,\n",
    "  messages = [{\"role\":\"system\", \"content\":\"You are a helpful assistant.\"},\n",
    "               {\"role\":\"user\",\"content\":prompt},])\n",
    "\n",
    "response.choices[0].message.content"
   ]
  },
  {
   "attachments": {},
   "cell_type": "markdown",
   "metadata": {
    "nteract": {
     "transient": {
      "deleting": false
     }
    }
   },
   "source": [
    "## Classify Text  \n",
    "#### Challenge  \n",
    "Classify items into categories provided at inference time. In the following example we provide both the categories and the text to classify in the prompt(*playground_reference). \n",
    "\n",
    "Customer Inquiry: Hello, one of the keys on my laptop keyboard broke recently and I'll need a replacement:\n",
    "\n",
    "Classified category:\n"
   ]
  },
  {
   "cell_type": "code",
   "execution_count": 74,
   "metadata": {
    "collapsed": false,
    "gather": {
     "logged": 1674499424645
    },
    "jupyter": {
     "outputs_hidden": false,
     "source_hidden": false
    },
    "nteract": {
     "transient": {
      "deleting": false
     }
    }
   },
   "outputs": [
    {
     "name": "stdout",
     "output_type": "stream",
     "text": [
      "Classify the following inquiry into one of the following: categories: [Pricing, Hardware Support, Software Support]\n",
      "\n",
      "inquiry: Hello, one of the keys on my laptop keyboard broke recently and I'll need a replacement:\n",
      "\n",
      "Classified category:\n"
     ]
    }
   ],
   "source": [
    "prompt = \"Classify the following inquiry into one of the following: categories: [Pricing, Hardware Support, Software Support]\\n\\ninquiry: Hello, one of the keys on my laptop keyboard broke recently and I'll need a replacement:\\n\\nClassified category:\"\n",
    "print(prompt)"
   ]
  },
  {
   "cell_type": "code",
   "execution_count": 76,
   "metadata": {
    "collapsed": false,
    "gather": {
     "logged": 1674499378518
    },
    "jupyter": {
     "outputs_hidden": false,
     "source_hidden": false
    },
    "nteract": {
     "transient": {
      "deleting": false
     }
    }
   },
   "outputs": [
    {
     "data": {
      "text/plain": [
       "'Classified category: Hardware Support'"
      ]
     },
     "execution_count": 76,
     "metadata": {},
     "output_type": "execute_result"
    }
   ],
   "source": [
    "#Setting a few additional, typical parameters during API Call\n",
    "\n",
    "response = client.chat.completions.create(\n",
    "       model=model,\n",
    "  messages = [{\"role\":\"system\", \"content\":\"You are a helpful assistant.\"},\n",
    "               {\"role\":\"user\",\"content\":prompt},])\n",
    "\n",
    "response.choices[0].message.content"
   ]
  },
  {
   "attachments": {},
   "cell_type": "markdown",
   "metadata": {
    "nteract": {
     "transient": {
      "deleting": false
     }
    }
   },
   "source": [
    "## Generate New Product Names\n",
    "#### Challenge\n",
    "Create product names from examples words. Here we include in the prompt information about the product we are going to generate names for. We also provide a similar example to show the pattern we wish to receive. We have also set the temperature value high to increase randomness and more innovative responses.\n",
    "\n",
    "Product description: A home milkshake maker\n",
    "Seed words: fast, healthy, compact.\n",
    "Product names: HomeShaker, Fit Shaker, QuickShake, Shake Maker\n",
    "\n",
    "Product description: A pair of shoes that can fit any foot size.\n",
    "Seed words: adaptable, fit, omni-fit."
   ]
  },
  {
   "cell_type": "code",
   "execution_count": 79,
   "metadata": {
    "collapsed": false,
    "gather": {
     "logged": 1674257087279
    },
    "jupyter": {
     "outputs_hidden": false,
     "source_hidden": false
    },
    "nteract": {
     "transient": {
      "deleting": false
     }
    }
   },
   "outputs": [
    {
     "name": "stdout",
     "output_type": "stream",
     "text": [
      "Product description: A home milkshake maker\n",
      "Seed words: fast, healthy, compact.\n",
      "Product names: HomeShaker, Fit Shaker, QuickShake, Shake Maker\n",
      "\n",
      "Product description: A pair of shoes that can fit any foot size.\n",
      "Seed words: adaptable, fit, omni-fit.\n"
     ]
    }
   ],
   "source": [
    "prompt = \"Product description: A home milkshake maker\\nSeed words: fast, healthy, compact.\\nProduct names: HomeShaker, Fit Shaker, QuickShake, Shake Maker\\n\\nProduct description: A pair of shoes that can fit any foot size.\\nSeed words: adaptable, fit, omni-fit.\"\n",
    "\n",
    "print(prompt)"
   ]
  },
  {
   "cell_type": "code",
   "execution_count": 81,
   "metadata": {
    "collapsed": false,
    "jupyter": {
     "outputs_hidden": false,
     "source_hidden": false
    },
    "nteract": {
     "transient": {
      "deleting": false
     }
    }
   },
   "outputs": [
    {
     "data": {
      "text/plain": [
       "'Here are some product names based on the attributes and seed words for the adaptable shoes:\\n\\n1. FlexiFit\\n2. AdaptShoe\\n3. OmniStep\\n4. SizeSmart\\n5. FitAll\\n6. AnyFit\\n7. VersatileWalk\\n8. ShoeMorph\\n9. UniversalFit\\n10. ComfortCinch\\n\\nLet me know if you need more options or variations!'"
      ]
     },
     "execution_count": 81,
     "metadata": {},
     "output_type": "execute_result"
    }
   ],
   "source": [
    "#Setting a few additional, typical parameters during API Call\n",
    "response = client.chat.completions.create(\n",
    "       model=model,\n",
    "  messages = [{\"role\":\"system\", \"content\":\"You are a helpful assistant.\"},\n",
    "               {\"role\":\"user\",\"content\":prompt},]\n",
    ")\n",
    "\n",
    "response.choices[0].message.content"
   ]
  },
  {
   "attachments": {},
   "cell_type": "markdown",
   "metadata": {
    "nteract": {
     "transient": {
      "deleting": false
     }
    }
   },
   "source": [
    "## Embeddings!  \n",
    "This section will show how to retrieve embeddings, and find similarity between words, sentences, and documents"
   ]
  },
  {
   "attachments": {},
   "cell_type": "markdown",
   "metadata": {
    "nteract": {
     "transient": {
      "deleting": false
     }
    }
   },
   "source": [
    "### Model Taxonomy - Choosing a similarity model\n",
    "Let's choose a similarity model, using the  most powerful model (davinci)\n",
    "\n",
    "**Model taxonomy**: {family} - {capability} - {input-type} - {identifier}  \n",
    "\n",
    "{family}     --> text-similarity  (general text GPT-3 model)  \n",
    "{capability} --> davincie         (curie is second most powerful in ada-babbage-curie-davinci family)  \n",
    "{input-type} --> n/a              (only specified for search models)  \n",
    "{identifier} --> 001              (version 001)  \n",
    "\n",
    "model = 'text-embedding-ada-002'"
   ]
  },
  {
   "cell_type": "code",
   "execution_count": 85,
   "metadata": {
    "collapsed": false,
    "gather": {
     "logged": 1674829364153
    },
    "jupyter": {
     "outputs_hidden": false,
     "source_hidden": false
    },
    "nteract": {
     "transient": {
      "deleting": false
     }
    }
   },
   "outputs": [],
   "source": [
    "import numpy as np\n",
    "model=\"text-embedding-ada-002\"\n",
    "def cosine_similarity(query_embedding, embeddings, distance_metric='cosine'):\n",
    "    if distance_metric == 'cosine':\n",
    "        distances = np.dot(embeddings, query_embedding) / (np.linalg.norm(embeddings) * np.linalg.norm(query_embedding))\n",
    "        distances = 1 - distances  \n",
    "    else:\n",
    "        raise ValueError(\"Métrica de distância não suportada. Utilize 'cosine'.\")\n",
    "\n",
    "    return distances"
   ]
  },
  {
   "cell_type": "code",
   "execution_count": null,
   "metadata": {
    "collapsed": false,
    "gather": {
     "logged": 1674829424097
    },
    "jupyter": {
     "outputs_hidden": false,
     "source_hidden": false
    },
    "nteract": {
     "transient": {
      "deleting": false
     }
    }
   },
   "outputs": [],
   "source": [
    "text = 'the quick brown fox jumped over the lazy dog'\n",
    "client.embeddings.create(input=[text], model=\"text-embedding-ada-002\").data[0].embedding\n"
   ]
  },
  {
   "cell_type": "code",
   "execution_count": 89,
   "metadata": {
    "collapsed": false,
    "gather": {
     "logged": 1674829555255
    },
    "jupyter": {
     "outputs_hidden": false,
     "source_hidden": false
    },
    "nteract": {
     "transient": {
      "deleting": false
     }
    }
   },
   "outputs": [
    {
     "name": "stdout",
     "output_type": "stream",
     "text": [
      "0.08432575427242661\n",
      "0.16712270943943375\n",
      "0.21808605456406338\n"
     ]
    }
   ],
   "source": [
    "# compare several words\n",
    "automobile_embedding    = client.embeddings.create(input='automobile', model=model).data[0].embedding\n",
    "vehicle_embedding       = client.embeddings.create(input='vehicle', model=model).data[0].embedding\n",
    "dinosaur_embedding      = client.embeddings.create(input='dinosaur', model=model).data[0].embedding\n",
    "stick_embedding         = client.embeddings.create(input='stick', model=model).data[0].embedding\n",
    "\n",
    "print(cosine_similarity(automobile_embedding, vehicle_embedding))\n",
    "print(cosine_similarity(automobile_embedding, dinosaur_embedding))\n",
    "print(cosine_similarity(automobile_embedding, stick_embedding))"
   ]
  },
  {
   "attachments": {},
   "cell_type": "markdown",
   "metadata": {
    "nteract": {
     "transient": {
      "deleting": false
     }
    }
   },
   "source": [
    "## Comparing article from cnn daily news dataset\n",
    "source: https://huggingface.co/datasets/cnn_dailymail\n"
   ]
  },
  {
   "cell_type": "code",
   "execution_count": 92,
   "metadata": {
    "collapsed": false,
    "gather": {
     "logged": 1674831122093
    },
    "jupyter": {
     "outputs_hidden": false,
     "source_hidden": false
    },
    "nteract": {
     "transient": {
      "deleting": false
     }
    }
   },
   "outputs": [
    {
     "data": {
      "text/html": [
       "<div>\n",
       "<style scoped>\n",
       "    .dataframe tbody tr th:only-of-type {\n",
       "        vertical-align: middle;\n",
       "    }\n",
       "\n",
       "    .dataframe tbody tr th {\n",
       "        vertical-align: top;\n",
       "    }\n",
       "\n",
       "    .dataframe thead th {\n",
       "        text-align: right;\n",
       "    }\n",
       "</style>\n",
       "<table border=\"1\" class=\"dataframe\">\n",
       "  <thead>\n",
       "    <tr style=\"text-align: right;\">\n",
       "      <th></th>\n",
       "      <th>articles</th>\n",
       "      <th>highligths</th>\n",
       "    </tr>\n",
       "  </thead>\n",
       "  <tbody>\n",
       "    <tr>\n",
       "      <th>0</th>\n",
       "      <td>BREMEN, Germany -- Carlos Alberto, who scored ...</td>\n",
       "      <td>Werder Bremen pay a club record $10.7 million ...</td>\n",
       "    </tr>\n",
       "    <tr>\n",
       "      <th>1</th>\n",
       "      <td>(CNN) -- Football superstar, celebrity, fashio...</td>\n",
       "      <td>Beckham has agreed to a five-year contract wit...</td>\n",
       "    </tr>\n",
       "    <tr>\n",
       "      <th>2</th>\n",
       "      <td>LOS ANGELES, California (CNN) -- Youssif, the ...</td>\n",
       "      <td>Boy on meeting Spider-Man: \"It was my favorite...</td>\n",
       "    </tr>\n",
       "  </tbody>\n",
       "</table>\n",
       "</div>"
      ],
      "text/plain": [
       "                                            articles  \\\n",
       "0  BREMEN, Germany -- Carlos Alberto, who scored ...   \n",
       "1  (CNN) -- Football superstar, celebrity, fashio...   \n",
       "2  LOS ANGELES, California (CNN) -- Youssif, the ...   \n",
       "\n",
       "                                          highligths  \n",
       "0  Werder Bremen pay a club record $10.7 million ...  \n",
       "1  Beckham has agreed to a five-year contract wit...  \n",
       "2  Boy on meeting Spider-Man: \"It was my favorite...  "
      ]
     },
     "execution_count": 92,
     "metadata": {},
     "output_type": "execute_result"
    }
   ],
   "source": [
    "import pandas as pd\n",
    "cnn_daily_articles = ['BREMEN, Germany -- Carlos Alberto, who scored in FC Porto\\'s Champions League final victory against Monaco in 2004, has joined Bundesliga club Werder Bremen for a club record fee of 7.8 million euros ($10.7 million). Carlos Alberto enjoyed success at FC Porto under Jose Mourinho. \"I\\'m here to win titles with Werder,\" the 22-year-old said after his first training session with his new club. \"I like Bremen and would only have wanted to come here.\" Carlos Alberto started his career with Fluminense, and helped them to lift the Campeonato Carioca in 2002. In January 2004 he moved on to FC Porto, who were coached by José Mourinho, and the club won the Portuguese title as well as the Champions League. Early in 2005, he moved to Corinthians, where he impressed as they won the Brasileirão,but in 2006 Corinthians had a poor season and Carlos Alberto found himself at odds with manager, Emerson Leão. Their poor relationship came to a climax at a Copa Sul-Americana game against Club Atlético Lanús, and Carlos Alberto declared that he would not play for Corinthians again while Leão remained as manager. Since January this year he has been on loan with his first club Fluminense. Bundesliga champions VfB Stuttgart said on Sunday that they would sign a loan agreement with Real Zaragoza on Monday for Ewerthon, the third top Brazilian player to join the German league in three days. A VfB spokesman said Ewerthon, who played in the Bundesliga for Borussia Dortmund from 2001 to 2005, was expected to join the club for their pre-season training in Austria on Monday. On Friday, Ailton returned to Germany where he was the league\\'s top scorer in 2004, signing a one-year deal with Duisburg on a transfer from Red Star Belgrade. E-mail to a friend .',\n",
    "                        '(CNN) -- Football superstar, celebrity, fashion icon, multimillion-dollar heartthrob. Now, David Beckham is headed for the Hollywood Hills as he takes his game to U.S. Major League Soccer. CNN looks at how Bekham fulfilled his dream of playing for Manchester United, and his time playing for England. The world\\'s famous footballer has begun a five-year contract with the Los Angeles Galaxy team, and on Friday Beckham will meet the press and reveal his new shirt number. This week, we take an in depth look at the life and times of Beckham, as CNN\\'s very own \"Becks,\" Becky Anderson, sets out to examine what makes the man tick -- as footballer, fashion icon and global phenomenon. It\\'s a long way from the streets of east London to the Hollywood Hills and Becky charts Beckham\\'s incredible rise to football stardom, a journey that has seen his skills grace the greatest stages in world soccer. She goes in pursuit of the current hottest property on the sports/celebrity circuit in the U.S. and along the way explores exactly what\\'s behind the man with the golden boot. CNN will look back at the life of Beckham, the wonderfully talented youngster who fulfilled his dream of playing for Manchester United, his marriage to pop star Victoria, and the trials and tribulations of playing for England. We\\'ll look at the highs (scoring against Greece), the lows (being sent off during the World Cup), the Man. U departure for the Galacticos of Madrid -- and now the Home Depot stadium in L.A. We\\'ll ask how Beckham and his family will adapt to life in Los Angeles -- the people, the places to see and be seen and the celebrity endorsement. Beckham is no stranger to exposure. He has teamed with Reggie Bush in an Adidas commercial, is the face of Motorola, is the face on a PlayStation game and doesn\\'t need fashion tips as he has his own international clothing line. But what does the star couple need to do to become an accepted part of Tinseltown\\'s glitterati? The road to major league football in the U.S.A. is a well-worn route for some of the world\\'s greatest players. We talk to some of the former greats who came before him and examine what impact these overseas stars had on U.S. soccer and look at what is different now. We also get a rare glimpse inside the David Beckham academy in L.A, find out what drives the kids and who are their heroes. The perception that in the U.S.A. soccer is a \"game for girls\" after the teenage years is changing. More and more young kids are choosing the European game over the traditional U.S. sports. E-mail to a friend .',\n",
    "                        'LOS ANGELES, California (CNN) -- Youssif, the 5-year-old burned Iraqi boy, rounded the corner at Universal Studios when suddenly the little boy hero met his favorite superhero. Youssif has always been a huge Spider-Man fan. Meeting him was \"my favorite thing,\" he said. Spider-Man was right smack dab in front of him, riding a four-wheeler amid a convoy of other superheroes. The legendary climber of buildings and fighter of evil dismounted, walked over to Youssif and introduced himself. Spidey then gave the boy from a far-away land a gentle hug, embracing him in his iconic blue and red tights. He showed Youssif a few tricks, like how to shoot a web from his wrist. Only this time, no web was spun. \"All right Youssif!\" Spider-Man said after the boy mimicked his wrist movement. Other superheroes crowded around to get a closer look. Even the Green Goblin stopped his villainous ways to tell the boy hi. Youssif remained unfazed. He didn\\'t take a liking to Spider-Man\\'s nemesis. Spidey was just too cool. \"It was my favorite thing,\" the boy said later. \"I want to see him again.\" He then felt compelled to add: \"I know it\\'s not the real Spider-Man.\" This was the day of dreams when the boy\\'s nightmares were, at least temporarily, forgotten. He met SpongeBob, Lassie and a 3-year-old orangutan named Archie. The hairy, brownish-red primate took to the boy, grabbing his hand and holding it. Even when Youssif pulled away, Archie would inch his hand back toward the boy\\'s and then snatch it. See Youssif enjoy being a boy again » . The boy giggled inside a play area where sponge-like balls shot out of toy guns. It was a far different artillery than what he was used to seeing in central Baghdad, as recently as a week ago. He squealed with delight and raced around the room collecting as many balls as he could. He rode a tram through the back stages at Universal Studios. At one point, the car shook. Fire and smoke filled the air, debris cascaded down and a big rig skidded toward the vehicle. The boy and his family survived the pretend earthquake unscathed. \"Even I was scared,\" the dad said. \"Well, I wasn\\'t,\" Youssif replied. The father and mother grinned from ear to ear throughout the day. Youssif pushed his 14-month-old sister, Ayaa, in a stroller. \"Did you even need to ask us if we were interested in coming here?\" Youssif\\'s father said in amazement. \"Other than my wedding day, this is the happiest day of my life,\" he said. Just a day earlier, the mother and father talked about their journey out of Iraq and to the United States. They also discussed that day nine months ago when masked men grabbed their son outside the family home, doused him in gas and set him on fire. His mother heard her boy screaming from inside. The father sought help for his boy across Baghdad, but no one listened. He remembers his son\\'s two months of hospitalization. The doctors didn\\'t use anesthetics. He could hear his boy\\'s piercing screams from the other side of the hospital. Watch Youssif meet his doctor and play with his little sister » . The father knew that speaking to CNN would put his family\\'s lives in jeopardy. The possibility of being killed was better than seeing his son suffer, he said. \"Anything for Youssif,\" he said. \"We had to do it.\" They described a life of utter chaos in Baghdad. Neighbors had recently given birth to a baby girl. Shortly afterward, the father was kidnapped and killed. Then, there was the time when some girls wore tanktops and jeans. They were snatched off the street by gunmen. The stories can be even more gruesome. The couple said they had heard reports that a young girl was kidnapped and beheaded --and her killers sewed a dog\\'s head on the corpse and delivered it to her family\\'s doorstep. \"These are just some of the stories,\" said Youssif\\'s mother, Zainab. Under Saddam Hussein, there was more security and stability, they said. There was running water and electricity most of the time. But still life was tough under the dictator, like the time when Zainab\\'s uncle disappeared and was never heard from again after he read a \"religious book,\" she said. Sitting in the parking lot of a Target in suburban Los Angeles, Youssif\\'s father watched as husbands and wives, boyfriends and girlfriends, parents and their children, came and went. Some held hands. Others smiled and laughed. \"Iraq finished,\" he said in what few English words he knows. He elaborated in Arabic: His homeland won\\'t be enjoying such freedoms anytime soon. It\\'s just not possible. Too much violence. Too many killings. His two children have only seen war. But this week, the family has seen a much different side of America -- an outpouring of generosity and a peaceful nation at home. \"It\\'s been a dream,\" the father said. He used to do a lot of volunteer work back in Baghdad. \"Maybe that\\'s why I\\'m being helped now,\" the father said. At Universal Studios, he looked out across the valley below. The sun glistened off treetops and buildings. It was a picturesque sight fit for a Hollywood movie. \"Good America, good America,\" he said in English. E-mail to a friend . CNN\\'s Arwa Damon contributed to this report.'\n",
    "]\n",
    "\n",
    "cnn_daily_article_highlights = ['Werder Bremen pay a club record $10.7 million for Carlos Alberto .\\nThe Brazilian midfielder won the Champions League with FC Porto in 2004 .\\nSince January he has been on loan with his first club, Fluminense .',\n",
    "                                'Beckham has agreed to a five-year contract with Los Angeles Galaxy .\\nNew contract took effect July 1, 2007 .\\nFormer English captain to meet press, unveil new shirt number Friday .\\nCNN to look at Beckham as footballer, fashion icon and global phenomenon .',\n",
    "                                'Boy on meeting Spider-Man: \"It was my favorite thing\"\\nYoussif also met SpongeBob, Lassie and an orangutan at Universal Studios .\\nDad: \"Other than my wedding day, this is the happiest day of my life\"' \n",
    "]\n",
    "\n",
    "cnn_df = pd.DataFrame({\"articles\":cnn_daily_articles, \"highligths\":cnn_daily_article_highlights})\n",
    "\n",
    "cnn_df.head()                      "
   ]
  },
  {
   "cell_type": "code",
   "execution_count": 94,
   "metadata": {
    "collapsed": false,
    "gather": {
     "logged": 1674831294043
    },
    "jupyter": {
     "outputs_hidden": false,
     "source_hidden": false
    },
    "nteract": {
     "transient": {
      "deleting": false
     }
    }
   },
   "outputs": [
    {
     "name": "stdout",
     "output_type": "stream",
     "text": [
      "0.23841659796484627\n",
      "0.2904369599725425\n"
     ]
    }
   ],
   "source": [
    "article1_embedding    = client.embeddings.create(input=cnn_df.articles.iloc[0], model=model).data[0].embedding\n",
    "article2_embedding    = client.embeddings.create(input=cnn_df.articles.iloc[1], model=model).data[0].embedding\n",
    "article3_embedding    = client.embeddings.create(input=cnn_df.articles.iloc[2], model=model).data[0].embedding\n",
    "\n",
    "print(cosine_similarity(article1_embedding, article2_embedding))\n",
    "print(cosine_similarity(article1_embedding, article3_embedding))"
   ]
  },
  {
   "attachments": {},
   "cell_type": "markdown",
   "metadata": {
    "nteract": {
     "transient": {
      "deleting": false
     }
    }
   },
   "source": [
    "# References  \n",
    "-Azure Reference Documentation  \n",
    "-Azure OpenAI GitHub Repo\n",
    "-cookbooks  \n",
    "-OpenAI website  \n",
    "\n",
    "1 - [Openai Cookbook](https://github.com/openai/openai-cookbook)  \n",
    "2 - [Azure Documentation - Azure Open AI Models](https://learn.microsoft.com/en-us/azure/cognitive-services/openai/concepts/models)  \n",
    "3 - [OpenAI Studio Examples](https://oai.azure.com/portal)  \n",
    "4 - [[PUBLIC] Best practices for fine-tuning GPT-3 to classify text](https://docs.google.com/document/d/1rqj7dkuvl7Byd5KQPUJRxc19BJt8wo0yHNwK84KfU3Q/edit#)"
   ]
  },
  {
   "cell_type": "markdown",
   "metadata": {},
   "source": [
    "## Ejercicio 1: Generar Resumen de Artículo con Esquema\n",
    "Enunciado: Dado un artículo largo, el modelo debe ser capaz de generar un resumen estructurado en formato de esquema (con títulos y subtítulos). El usuario debe ingresar un artículo y el modelo devolverá un resumen que resalte los puntos clave con jerarquía y estructura.\n",
    "\n",
    "Objetivo: Mejorar la capacidad del modelo para organizar información importante en un formato claro y ordenado.\n",
    "\n",
    "Resultado Esperado:\n",
    "\n",
    "\"\"\"Resumen:\n",
    "1. Introducción\n",
    "   - El cambio climático es un desafío global.\n",
    "2. Causas\n",
    "   - Actividad humana (quema de combustibles fósiles).\n",
    "3. Consecuencias\n",
    "   - Impacto en ecosistemas, biodiversidad y salud humana.\n",
    "4. Proyección Futura\n",
    "   - Efectos irreversibles si no se toman medidas.\n",
    "Explicación: El modelo organiza el artículo en una estructura jerárquica, haciendo que los puntos clave sean fácilmente comprensibles.\"\"\""
   ]
  },
  {
   "cell_type": "code",
   "execution_count": 99,
   "metadata": {},
   "outputs": [
    {
     "name": "stdout",
     "output_type": "stream",
     "text": [
      "# Esquema del Artículo sobre el Cambio Climático\n",
      "\n",
      "## I. Introducción\n",
      "   A. Desafío del siglo XXI\n",
      "   B. Importancia del tema\n",
      "\n",
      "## II. Causas del Cambio Climático\n",
      "   A. Actividad humana\n",
      "      1. Quema de combustibles fósiles\n",
      "   B. Aumento en las temperaturas globales\n",
      "\n",
      "## III. Consecuencias del Cambio Climático\n",
      "   A. Impacto en los ecosistemas\n",
      "   B. Efectos sobre la biodiversidad\n",
      "   C. Afectaciones a la salud humana\n",
      "\n",
      "## IV. Futuro del Cambio Climático\n",
      "   A. Proyecciones sin medidas drásticas\n",
      "   B. Irreversibilidad de los efectos\n",
      "\n",
      "## V. Conclusión\n",
      "   A. Urgencia de acciones efectivas\n",
      "   B. Necesidad de un cambio inmediato\n"
     ]
    },
    {
     "data": {
      "text/plain": [
       "'Resumen:\\n1. Introducción\\n   - El cambio climático es un desafío global.\\n2. Causas\\n   - Actividad humana (quema de combustibles fósiles).\\n3. Consecuencias\\n   - Impacto en ecosistemas, biodiversidad y salud humana.\\n4. Proyección Futura\\n   - Efectos irreversibles si no se toman medidas.\\nExplicación: El modelo organiza el artículo en una estructura jerárquica, haciendo que los puntos clave sean fácilmente comprensibles.'"
      ]
     },
     "execution_count": 99,
     "metadata": {},
     "output_type": "execute_result"
    }
   ],
   "source": [
    "\n",
    "# Ingresar un artículo largo\n",
    "text = \"\"\"\n",
    "El cambio climático es uno de los mayores desafíos a los que se enfrenta la humanidad en el siglo XXI. \n",
    "Los científicos han demostrado que la actividad humana, como la quema de combustibles fósiles, es responsable de un aumento sin precedentes en las temperaturas globales. \n",
    "Este fenómeno tiene consecuencias devastadoras para los ecosistemas, la biodiversidad, y la salud humana. Se prevé que si no se toman medidas drásticas, los efectos del cambio climático serán irreversibles.\n",
    "\"\"\"\n",
    "\n",
    "# Crear el prompt para obtener un resumen estructurado\n",
    "prompt = f\"Genera un resumen estructurado en formato de esquema con títulos y subtítulos del siguiente artículo:\\n\\n{text}\"\n",
    "\n",
    "# Llamada a la API de OpenAI\n",
    "response = #FIXME\n",
    "\n",
    "# Mostrar el resultado\n",
    "print()#FIXME\n"
   ]
  },
  {
   "cell_type": "markdown",
   "metadata": {},
   "source": [
    "## Ejercicio 2: Clasificación de Sentimiento con Nuevas Categorías\n",
    "Enunciado: Clasifica los comentarios de los usuarios en tres categorías: \"Positivo\", \"Neutral\" y \"Negativo\". Se debe generar un prompt dinámico para clasificar los comentarios en función del sentimiento general de cada uno.\n",
    "\n",
    "Objetivo: Demostrar cómo OpenAI puede adaptarse para identificar sentimientos más complejos y hacer la clasificación en tres categorías.\n",
    "\n",
    "Resultado Esperado:\n",
    "\n",
    "Categoría de sentimiento: Positivo\n",
    "Explicación: El modelo identifica que el comentario tiene un tono positivo y lo clasifica correctamente en la categoría \"Positivo\".\n"
   ]
  },
  {
   "cell_type": "code",
   "execution_count": 103,
   "metadata": {},
   "outputs": [
    {
     "name": "stdout",
     "output_type": "stream",
     "text": [
      "Categoría de sentimiento: Positivo\n"
     ]
    }
   ],
   "source": [
    "\n",
    "# Comentario de ejemplo\n",
    "comment = \"Me encanta este producto, superó todas mis expectativas.\"\n",
    "\n",
    "# Crear el prompt para la clasificación de sentimiento\n",
    "prompt = f\"Clasifica el siguiente comentario en las categorías: [Positivo, Neutral, Negativo]\\n\\nComentario: {comment}\\n\\nCategoría de sentimiento:\"\n",
    "\n",
    "# Llamada a la API de OpenAI\n",
    "response = #FIXME\n",
    "\n",
    "# Mostrar el resultado\n",
    "print()#FIXME\n"
   ]
  },
  {
   "cell_type": "markdown",
   "metadata": {},
   "source": [
    "## Ejercicio 3: Generación de Ideas para Startups\n",
    "Enunciado: Utiliza OpenAI para generar 10 ideas de negocio para una startup tecnológica en el área de inteligencia artificial. Los usuarios deben proporcionar una breve descripción de lo que buscan, y el modelo generará las ideas.\n",
    "\n",
    "Objetivo: Mostrar cómo OpenAI puede generar ideas innovadoras basadas en una solicitud creativa.\n",
    "\n",
    "Resultado Esperado:\n",
    "\n",
    "1. AI-powered health diagnostics platform for early disease detection.\n",
    "2. AI-driven personalized wellness recommendations based on individual health data.\n",
    "3. A machine learning model for predicting mental health conditions based on social media activity.\n",
    "4. AI-enhanced telemedicine consultations with real-time diagnostic tools.\n",
    "5. AI for drug discovery, predicting the efficacy of new medications.\n",
    "6. AI-powered wearable devices that monitor health metrics in real time.\n",
    "7. A chatbot for mental health support using natural language processing.\n",
    "8. AI tools for streamlining hospital management and patient flow.\n",
    "9. Machine learning models for predicting the spread of infectious diseases.\n",
    "10. An AI platform for remote health monitoring of elderly patients.\n",
    "Explicación: El modelo ofrece 10 ideas interesantes para una startup en el campo de IA aplicada a la salud, lo que muestra cómo se pueden generar ideas comerciales creativas.\n"
   ]
  },
  {
   "cell_type": "code",
   "execution_count": 107,
   "metadata": {},
   "outputs": [
    {
     "name": "stdout",
     "output_type": "stream",
     "text": [
      "Aquí tienes 10 ideas innovadoras para una startup tecnológica en el campo de inteligencia artificial enfocada en la salud:\n",
      "\n",
      "1. **Asistente de Diagnóstico AI**: Desarrollar una plataforma que utilice inteligencia artificial para analizar síntomas ingresados por los pacientes y proporcionar recomendaciones sobre posibles diagnósticos, así como consejos para buscar atención médica adecuada.\n",
      "\n",
      "2. **Monitoreo de Salud Predictivo**: Crear un sistema de IA que analice datos de wearables (dispositivos portátiles) y registros médicos electrónicos para prever crisis de salud, como ataques al corazón o episodios de diabetes, y notifique a los pacientes y a sus médicos.\n",
      "\n",
      "3. **Chatbot para Salud Mental**: Implementar un chatbot impulsado por IA que brinde apoyo psicológico y recursos de salud mental a los usuarios, permitiendo la identificación temprana de problemas y ofreciendo estrategias personalizadas de manejo del estrés y ansiedad.\n",
      "\n",
      "4. **Plataforma de Telemedicina Inteligente**: Desarrollar una herramienta de telemedicina que utilice IA para analizar historiales médicos y síntomas en tiempo real durante las consultas virtuales, proporcionando a los médicos información relevante y recomendaciones para el tratamiento.\n",
      "\n",
      "5. **Optimización de Ensayos Clínicos**: Crear un software que utilice IA para seleccionar candidatos óptimos para ensayos clínicos, analizando datos demográficos y médicos para mejorar el reclutamiento y la eficiencia en la investigación.\n",
      "\n",
      "6. **Análisis de Imagen Médica**: Desarrollar una solución que aplique algoritmos de aprendizaje profundo para el análisis automatizado de imágenes médicas (radiografías, resonancias magnéticas, etc.) para detectar condiciones como tumores o fracturas con alta precisión.\n",
      "\n",
      "7. **Sistema de Recomendaciones de Tratamiento Personalizado**: Crear una plataforma que use IA para personalizar tratamientos médicos basándose en el perfil genético del paciente, historial médico y datos clínicos, mejorando así la eficacia de los tratamientos.\n",
      "\n",
      "8. **Gestionador de Medicación Inteligente**: Desarrollar una aplicación que use IA para recordar a los pacientes cuándo tomar su medicación y monitorizar la adherencia al tratamiento, integrando notificaciones y consejos sobre efectos secundarios.\n",
      "\n",
      "9. **Asistente Virtual para Cuidado de Ancianos**: Crear un asistente virtual que utilice IA para ayudar a familiares y cuidadores en la atención de adultos mayores, monitorizando su salud, recordando citas médicas y asegurando que sigan rutinas de medicación.\n",
      "\n",
      "10. **Plataforma de Investigación de Salud Colectiva**: Desarrollar un ecosistema donde se compartan datos anonimizados de salud, permitiendo a investigadores de IA identificar tendencias y patrones de enfermedades en poblaciones específicas, facilitando la investigación y la respuesta ante brotes.\n",
      "\n",
      "Cada una de estas ideas tiene el potencial de transformar la manera en que se brinda atención médica y se gestionan las condiciones de salud, contribuyendo a un sistema de salud más eficiente y centrado en el paciente.\n"
     ]
    }
   ],
   "source": [
    "\n",
    "# Descripción de la startup\n",
    "description = \"Estamos buscando ideas para una startup en el campo de inteligencia artificial, enfocada en la salud.\"\n",
    "\n",
    "# Crear el prompt para generar ideas\n",
    "prompt = f\"Genera 10 ideas de negocios para una startup tecnológica en el área de inteligencia artificial. La idea debe estar enfocada en: {description}\"\n",
    "\n",
    "# Llamada a la API de OpenAI\n",
    "response = #FIXME\n",
    "\n",
    "# Mostrar el resultado\n",
    "print()#FIXME\n",
    "\n"
   ]
  },
  {
   "cell_type": "markdown",
   "metadata": {},
   "source": [
    "## Ejercicio 4: Generación de Código Python con Prompt Específico\n",
    "Dado un problema matemático, generar un código en Python que lo resuelva. El modelo debe ser capaz de entender la descripción del problema y generar el código adecuado.\n",
    "\n",
    "Objetivo: Asegurar que OpenAI puede generar código útil para la resolución de problemas prácticos.\n",
    "\n",
    "Resultado Esperado:\n",
    "\n",
    "# Código generado en Python\n",
    "\n",
    "def calcular_area_triangulo(base, altura):\n",
    "\n",
    "    return (base * altura) / 2\n",
    "\n",
    "Explicación: El modelo genera un código funcional que resuelve el problema planteado, permitiendo que los estudiantes vean cómo la IA puede ser aplicada en la programación."
   ]
  },
  {
   "cell_type": "code",
   "execution_count": 119,
   "metadata": {},
   "outputs": [
    {
     "name": "stdout",
     "output_type": "stream",
     "text": [
      "¡Por supuesto! Aquí tienes un programa en Python que calcula el área de un triángulo a partir de su base y su altura:\n",
      "\n",
      "```python\n",
      "# Programa para calcular el área de un triángulo\n",
      "\n",
      "def calcular_area_triangulo(base, altura):\n",
      "    \"\"\"\n",
      "    Calcula el área de un triángulo dado su base y altura.\n",
      "    \n",
      "    :param base: Base del triángulo (float o int)\n",
      "    :param altura: Altura del triángulo (float o int)\n",
      "    :return: Área del triángulo (float)\n",
      "    \"\"\"\n",
      "    return (base * altura) / 2\n",
      "\n",
      "# Solicitar al usuario que ingrese la base y la altura\n",
      "try:\n",
      "    base = float(input(\"Introduce la base del triángulo: \"))\n",
      "    altura = float(input(\"Introduce la altura del triángulo: \"))\n",
      "\n",
      "    # Validar que los valores sean positivos\n",
      "    if base <= 0 or altura <= 0:\n",
      "        print(\"La base y la altura deben ser valores positivos.\")\n",
      "    else:\n",
      "        # Calcular y mostrar el área\n",
      "        area = calcular_area_triangulo(base, altura)\n",
      "        print(f\"El área del triángulo con base {base} y altura {altura} es: {area:.2f}\")\n",
      "except ValueError:\n",
      "    print(\"Por favor, introduce valores numéricos válidos.\")\n",
      "```\n",
      "\n",
      "### Explicación del programa:\n",
      "1. **Función `calcular_area_triangulo`**:\n",
      "   - Este bloque de código contiene una función que recibe la base y la altura del triángulo, y devuelve el área aplicando la fórmula:  \n",
      "     \\[ \\text{Área} = \\frac{\\text{base} \\times \\text{altura}}{2} \\]\n",
      "2. **Entrada del usuario**:\n",
      "   - El programa solicita al usuario que ingrese los valores de la base y la altura del triángulo.\n",
      "   - Se convierten los valores ingresados a `float` para permitir cálculos con números decimales.\n",
      "3. **Validación**:\n",
      "   - Se verifica que los valores ingresados sean positivos.\n",
      "4. **Manejo de excepciones**:\n",
      "   - Si el usuario ingresa un valor que no es numérico, el programa muestra un mensaje de error sin interrumpir la ejecución.\n",
      "5. **Salida**:\n",
      "   - Si los valores ingresados son adecuados, el programa calcula el área y la imprime con dos decimales.\n",
      "\n",
      "Puedes probar este código fácilmente copiándolo en cualquier entorno de desarrollo de Python. ¡Espero que te sea útil! 😊\n"
     ]
    }
   ],
   "source": [
    "\n",
    "# Problema matemático\n",
    "problem = \"Escribe un programa en Python que calcule el área de un triángulo dado su base y su altura.\"\n",
    "\n",
    "# Crear el prompt para generar código\n",
    "prompt = f\"Escribe un código en Python para resolver el siguiente problema: {problem}\"\n",
    "system = \"Eres un experto en programación Python.\"\n",
    "# Llamada a la API de OpenAI\n",
    "response = #FIXME\n",
    "\n",
    "# Mostrar el código generado\n",
    "print() #FIXME\n",
    "\n",
    "# Ejemplo de uso\n",
    "base = 5\n",
    "altura = 10\n",
    "##area = calcular_area_triangulo(base, altura)\n",
    "##print(f\"El área del triángulo es: {area}\")\n"
   ]
  },
  {
   "cell_type": "markdown",
   "metadata": {},
   "source": [
    "## Ejercicio 5: Generación de Respuestas de Asistente Virtual en Diferentes Contextos\n",
    "El modelo debe generar respuestas apropiadas según el contexto, como si fuera un asistente virtual, para varias preguntas. Los usuarios deben interactuar con el modelo para obtener respuestas en diferentes contextos.\n",
    "\n",
    "Objetivo: Desarrollar la capacidad del modelo para generar respuestas coherentes en función de distintos escenarios.\n",
    "\n",
    "Resultado Esperado:\n",
    "\n",
    "1. Síntomas comunes de la gripe: fiebre, dolor de garganta, tos, dolor muscular y fatiga. Consulta con un médico si los síntomas persisten.\n",
    "2. Política de devoluciones: Los productos pueden ser devueltos dentro de los 30 días posteriores a la compra, siempre que estén en su embalaje original y sin usar.\n",
    "Explicación: El modelo responde con información específica según el contexto proporcionado, demostrando su capacidad para cambiar el tono y la naturaleza de las respuestas.\n"
   ]
  },
  {
   "cell_type": "code",
   "execution_count": 127,
   "metadata": {},
   "outputs": [
    {
     "name": "stdout",
     "output_type": "stream",
     "text": [
      "Los síntomas comunes de la gripe incluyen:\n",
      "\n",
      "1. Fiebre: A menudo alta, aunque no siempre está presente.\n",
      "2. Escalofríos: Sensación de frío y temblores.\n",
      "3. Dolores musculares: Generalmente en todo el cuerpo.\n",
      "4. Fatiga: Sensación de cansancio extremo y debilidad.\n",
      "5. Tos: Seca y persistente.\n",
      "6. Congestión nasal: Puede incluir secreción o bloqueo nasal.\n",
      "7. Dolor de garganta: Irritación o dolor al tragar.\n",
      "8. Cefalea: Dolor de cabeza persistente.\n",
      "9. Estornudos: No siempre presente, pero común.\n",
      "\n",
      "Es importante recordar que los síntomas pueden variar en gravedad y duración entre diferentes personas. Si tienes preocupaciones sobre tus síntomas o si son severos, es recomendable consultar a un profesional de la salud.\n",
      "Nuestra política de devoluciones permite que los clientes devuelvan productos en un plazo de 30 días a partir de la fecha de compra. Para ser elegibles para una devolución, los artículos deben estar en su estado original, sin usar, y en su embalaje original. \n",
      "\n",
      "Para iniciar el proceso de devolución, por favor, sigue estos pasos:\n",
      "\n",
      "1. **Contacta a nuestro servicio al cliente**: Informa sobre tu intención de devolver el producto y proporciona tu número de pedido.\n",
      "   \n",
      "2. **Recibe la autorización**: Nuestro equipo te proporcionará una autorización de devolución y, si es necesario, una etiqueta de envío.\n",
      "\n",
      "3. **Empaqueta el producto**: Asegúrate de empaquetar el producto de manera segura para evitar daños durante el envío.\n",
      "\n",
      "4. **Envía el paquete**: Devuélvelo a la dirección proporcionada.\n",
      "\n",
      "Una vez que recibamos el artículo y lo verifiquemos, procesaremos tu reembolso. Ten en cuenta que los gastos de envío originales no son reembolsables, y el tiempo de procesamiento del reembolso puede variar.\n",
      "\n",
      "Si recibiste un producto dañado o incorrecto, por favor contáctanos de inmediato para resolver el problema de manera rápida y eficiente. Si tienes más preguntas o necesitas asistencia adicional, no dudes en consultar. ¡Estamos aquí para ayudarte!\n"
     ]
    }
   ],
   "source": [
    "\n",
    "# Contextos de preguntas\n",
    "questions = [\n",
    "    {\"context\": \"Responde como un asistente virtual médico.\", \"question\": \"¿Cuáles son los síntomas comunes de la gripe?\"},\n",
    "    {\"context\": \"Responde como un asistente virtual para clientes.\", \"question\": \"¿Cuál es la política de devoluciones de productos?\"}\n",
    "]\n",
    "\n",
    "# Llamada a la API para cada pregunta\n",
    "for q in questions:\n",
    "    prompt = f\"Contexto: {q['context']}\\nPregunta: {q['question']}\\nRespuesta:\"\n",
    "    response = #FIXME\n",
    "    print(response.choices[0].message.content)\n"
   ]
  },
  {
   "cell_type": "code",
   "execution_count": null,
   "metadata": {},
   "outputs": [],
   "source": []
  }
 ],
 "metadata": {
  "kernel_info": {
   "name": "python310-sdkv2"
  },
  "kernelspec": {
   "display_name": ".venv",
   "language": "python",
   "name": "python3"
  },
  "language_info": {
   "codemirror_mode": {
    "name": "ipython",
    "version": 3
   },
   "file_extension": ".py",
   "mimetype": "text/x-python",
   "name": "python",
   "nbconvert_exporter": "python",
   "pygments_lexer": "ipython3",
   "version": "3.12.6"
  },
  "microsoft": {
   "host": {
    "AzureML": {
     "notebookHasBeenCompleted": true
    }
   }
  },
  "nteract": {
   "version": "nteract-front-end@1.0.0"
  }
 },
 "nbformat": 4,
 "nbformat_minor": 4
}
