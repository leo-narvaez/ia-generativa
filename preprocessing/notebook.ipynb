{
 "cells": [
  {
   "cell_type": "markdown",
   "metadata": {
    "application/vnd.databricks.v1+cell": {
     "cellMetadata": {
      "byteLimit": 2048000,
      "rowLimit": 10000
     },
     "inputWidgets": {},
     "nuid": "d1673935-0c5d-447b-9f6d-c5ebaa882615",
     "showTitle": false,
     "tableResultSettingsMap": {},
     "title": ""
    }
   },
   "source": [
    "# Data Preprocessing and Cleaning\n",
    "\n",
    "Data cleaning is an essential step in the process of preparing data for further processing and serving into a large language model. Without data cleaning, the language model would be limited in its ability to interpret and process the data accurately. Data cleaning helps to ensure that the data is in a consistent format, free of any inconsistencies or errors that could lead to incorrect results. It also helps to reduce the amount of time needed to process the data, as it eliminates the need to manually check for any inconsistencies or errors. Additionally, data cleaning can help to improve the accuracy of the language model by removing any irrelevant or incorrect data. By taking the time to properly clean the data, the language model can more accurately interpret and process the data, leading to better results.\n",
    "\n",
    "> 📍 Fill out the missing pieces in the source source to get everything working (indicated by `#FIXME`)."
   ]
  },
  {
   "cell_type": "markdown",
   "metadata": {
    "application/vnd.databricks.v1+cell": {
     "cellMetadata": {
      "byteLimit": 2048000,
      "rowLimit": 10000
     },
     "inputWidgets": {},
     "nuid": "ed1129fd-5289-4abc-9f7d-a0b0fec073e7",
     "showTitle": false,
     "tableResultSettingsMap": {},
     "title": ""
    }
   },
   "source": [
    "## Count tokens\n",
    "\n",
    "> **Important note**\n",
    ">\n",
    "> *You do not need to manually tokenize strings before feeding texts into the model. This will be done automatically once you put instructions into the `prompt` parameter. However, you can use the `tiktoken` library to check how a string is tokenized and count the numbers of tokens to calculate the cost of an API call. Learn more [here](https://platform.openai.com/docs/introduction/tokens).*\n",
    "\n",
    "Tokenizing text strings is an important step in natural language processing (NLP) as it helps models like GPT-3 understand the structure of a text string. Tokenizing breaks a text string into smaller pieces called tokens, which can then be analyzed and used by the model. By understanding the structure of a text string, models can better understand the meaning of the text. Additionally, tokenizing helps to determine the cost of an Azure OpenAI Service API call, as usage is priced by token. Furthermore, different models use different encodings, so it is important to tokenize text strings in the appropriate format.\n",
    "\n",
    "`tiktoken` supports three encodings used by Azure OpenAI Service models:\n",
    "\n",
    "| Encoding name | Azure OpenAI Service models |\n",
    "| ------------- | -------------- |\n",
    "| gpt2 (or r50k_base) | Most GPT-3 models |\n",
    "| p50k_base | Code models, text-davinci-002, text-davinci-003 |\n",
    "| cl100k_base | text-embedding-ada-002 |\n",
    "\n",
    "Tokens in English typically range from one character to one word (e.g. \"t\" or \"great\"), though some languages may have tokens that are shorter or longer than one character or word. Spaces are usually placed at the beginning of words (e.g. \" is\" instead of \"is \" or \"+\"is\"). You can use the Tokenizer to quickly check how a string is tokenized."
   ]
  },
  {
   "cell_type": "markdown",
   "metadata": {
    "application/vnd.databricks.v1+cell": {
     "cellMetadata": {
      "byteLimit": 2048000,
      "rowLimit": 10000
     },
     "inputWidgets": {},
     "nuid": "d7520c44-f113-42c4-a498-ddf5cad8efbe",
     "showTitle": false,
     "tableResultSettingsMap": {},
     "title": ""
    }
   },
   "source": [
    "To show it briefly, we will use `tiktoken` to tokenize a text string and see how the output looks like."
   ]
  },
  {
   "cell_type": "code",
   "execution_count": 0,
   "metadata": {
    "application/vnd.databricks.v1+cell": {
     "cellMetadata": {
      "byteLimit": 2048000,
      "rowLimit": 10000
     },
     "collapsed": true,
     "inputWidgets": {},
     "nuid": "383bbee8-69d5-445d-af36-307a4bb77e1c",
     "showTitle": false,
     "tableResultSettingsMap": {},
     "title": ""
    }
   },
   "outputs": [
    {
     "output_type": "stream",
     "name": "stdout",
     "output_type": "stream",
     "text": [
      "Collecting tiktoken\r\n  Downloading tiktoken-0.8.0-cp39-cp39-manylinux_2_17_x86_64.manylinux2014_x86_64.whl (1.2 MB)\r\n\u001B[?25l\r\u001B[K     |▎                               | 10 kB 12.9 MB/s eta 0:00:01\r\u001B[K     |▋                               | 20 kB 6.0 MB/s eta 0:00:01\r\u001B[K     |▉                               | 30 kB 8.2 MB/s eta 0:00:01\r\u001B[K     |█▏                              | 40 kB 4.4 MB/s eta 0:00:01\r\u001B[K     |█▍                              | 51 kB 5.3 MB/s eta 0:00:01\r\u001B[K     |█▊                              | 61 kB 6.2 MB/s eta 0:00:01\r\u001B[K     |██                              | 71 kB 4.1 MB/s eta 0:00:01\r\u001B[K     |██▎                             | 81 kB 4.4 MB/s eta 0:00:01\r\u001B[K     |██▌                             | 92 kB 4.9 MB/s eta 0:00:01\r\u001B[K     |██▉                             | 102 kB 5.2 MB/s eta 0:00:01\r\u001B[K     |███                             | 112 kB 5.2 MB/s eta 0:00:01\r\u001B[K     |███▍                            | 122 kB 5.2 MB/s eta 0:00:01\r\u001B[K     |███▋                            | 133 kB 5.2 MB/s eta 0:00:01\r\u001B[K     |████                            | 143 kB 5.2 MB/s eta 0:00:01\r\u001B[K     |████▏                           | 153 kB 5.2 MB/s eta 0:00:01\r\u001B[K     |████▌                           | 163 kB 5.2 MB/s eta 0:00:01\r\u001B[K     |████▊                           | 174 kB 5.2 MB/s eta 0:00:01\r\u001B[K     |█████                           | 184 kB 5.2 MB/s eta 0:00:01\r\u001B[K     |█████▎                          | 194 kB 5.2 MB/s eta 0:00:01\r\u001B[K     |█████▋                          | 204 kB 5.2 MB/s eta 0:00:01\r\u001B[K     |█████▉                          | 215 kB 5.2 MB/s eta 0:00:01\r\u001B[K     |██████▏                         | 225 kB 5.2 MB/s eta 0:00:01\r\u001B[K     |██████▍                         | 235 kB 5.2 MB/s eta 0:00:01\r\u001B[K     |██████▊                         | 245 kB 5.2 MB/s eta 0:00:01\r\u001B[K     |███████                         | 256 kB 5.2 MB/s eta 0:00:01\r\u001B[K     |███████▎                        | 266 kB 5.2 MB/s eta 0:00:01\r\u001B[K     |███████▌                        | 276 kB 5.2 MB/s eta 0:00:01\r\u001B[K     |███████▉                        | 286 kB 5.2 MB/s eta 0:00:01\r\u001B[K     |████████                        | 296 kB 5.2 MB/s eta 0:00:01\r\u001B[K     |████████▍                       | 307 kB 5.2 MB/s eta 0:00:01\r\u001B[K     |████████▋                       | 317 kB 5.2 MB/s eta 0:00:01\r\u001B[K     |█████████                       | 327 kB 5.2 MB/s eta 0:00:01\r\u001B[K     |█████████▏                      | 337 kB 5.2 MB/s eta 0:00:01\r\u001B[K     |█████████▌                      | 348 kB 5.2 MB/s eta 0:00:01\r\u001B[K     |█████████▊                      | 358 kB 5.2 MB/s eta 0:00:01\r\u001B[K     |██████████                      | 368 kB 5.2 MB/s eta 0:00:01\r\u001B[K     |██████████▎                     | 378 kB 5.2 MB/s eta 0:00:01\r\u001B[K     |██████████▋                     | 389 kB 5.2 MB/s eta 0:00:01\r\u001B[K     |██████████▉                     | 399 kB 5.2 MB/s eta 0:00:01\r\u001B[K     |███████████▏                    | 409 kB 5.2 MB/s eta 0:00:01\r\u001B[K     |███████████▍                    | 419 kB 5.2 MB/s eta 0:00:01\r\u001B[K     |███████████▊                    | 430 kB 5.2 MB/s eta 0:00:01\r\u001B[K     |████████████                    | 440 kB 5.2 MB/s eta 0:00:01\r\u001B[K     |████████████▎                   | 450 kB 5.2 MB/s eta 0:00:01\r\u001B[K     |████████████▌                   | 460 kB 5.2 MB/s eta 0:00:01\r\u001B[K     |████████████▉                   | 471 kB 5.2 MB/s eta 0:00:01\r\u001B[K     |█████████████                   | 481 kB 5.2 MB/s eta 0:00:01\r\u001B[K     |█████████████▍                  | 491 kB 5.2 MB/s eta 0:00:01\r\u001B[K     |█████████████▋                  | 501 kB 5.2 MB/s eta 0:00:01\r\u001B[K     |██████████████                  | 512 kB 5.2 MB/s eta 0:00:01\r\u001B[K     |██████████████▏                 | 522 kB 5.2 MB/s eta 0:00:01\r\u001B[K     |██████████████▌                 | 532 kB 5.2 MB/s eta 0:00:01\r\u001B[K     |██████████████▊                 | 542 kB 5.2 MB/s eta 0:00:01\r\u001B[K     |███████████████                 | 552 kB 5.2 MB/s eta 0:00:01\r\u001B[K     |███████████████▎                | 563 kB 5.2 MB/s eta 0:00:01\r\u001B[K     |███████████████▋                | 573 kB 5.2 MB/s eta 0:00:01\r\u001B[K     |███████████████▉                | 583 kB 5.2 MB/s eta 0:00:01\r\u001B[K     |████████████████▏               | 593 kB 5.2 MB/s eta 0:00:01\r\u001B[K     |████████████████▍               | 604 kB 5.2 MB/s eta 0:00:01\r\u001B[K     |████████████████▊               | 614 kB 5.2 MB/s eta 0:00:01\r\u001B[K     |█████████████████               | 624 kB 5.2 MB/s eta 0:00:01\r\u001B[K     |█████████████████▎              | 634 kB 5.2 MB/s eta 0:00:01\r\u001B[K     |█████████████████▌              | 645 kB 5.2 MB/s eta 0:00:01\r\u001B[K     |█████████████████▉              | 655 kB 5.2 MB/s eta 0:00:01\r\u001B[K     |██████████████████              | 665 kB 5.2 MB/s eta 0:00:01\r\u001B[K     |██████████████████▍             | 675 kB 5.2 MB/s eta 0:00:01\r\u001B[K     |██████████████████▋             | 686 kB 5.2 MB/s eta 0:00:01\r\u001B[K     |███████████████████             | 696 kB 5.2 MB/s eta 0:00:01\r\u001B[K     |███████████████████▏            | 706 kB 5.2 MB/s eta 0:00:01\r\u001B[K     |███████████████████▌            | 716 kB 5.2 MB/s eta 0:00:01\r\u001B[K     |███████████████████▊            | 727 kB 5.2 MB/s eta 0:00:01\r\u001B[K     |████████████████████            | 737 kB 5.2 MB/s eta 0:00:01\r\u001B[K     |████████████████████▎           | 747 kB 5.2 MB/s eta 0:00:01\r\u001B[K     |████████████████████▋           | 757 kB 5.2 MB/s eta 0:00:01\r\u001B[K     |████████████████████▉           | 768 kB 5.2 MB/s eta 0:00:01\r\u001B[K     |█████████████████████▏          | 778 kB 5.2 MB/s eta 0:00:01\r\u001B[K     |█████████████████████▍          | 788 kB 5.2 MB/s eta 0:00:01\r\u001B[K     |█████████████████████▊          | 798 kB 5.2 MB/s eta 0:00:01\r\u001B[K     |██████████████████████          | 808 kB 5.2 MB/s eta 0:00:01\r\u001B[K     |██████████████████████▎         | 819 kB 5.2 MB/s eta 0:00:01\r\u001B[K     |██████████████████████▌         | 829 kB 5.2 MB/s eta 0:00:01\r\u001B[K     |██████████████████████▉         | 839 kB 5.2 MB/s eta 0:00:01\r\u001B[K     |███████████████████████         | 849 kB 5.2 MB/s eta 0:00:01\r\u001B[K     |███████████████████████▍        | 860 kB 5.2 MB/s eta 0:00:01\r\u001B[K     |███████████████████████▋        | 870 kB 5.2 MB/s eta 0:00:01\r\u001B[K     |████████████████████████        | 880 kB 5.2 MB/s eta 0:00:01\r\u001B[K     |████████████████████████▏       | 890 kB 5.2 MB/s eta 0:00:01\r\u001B[K     |████████████████████████▌       | 901 kB 5.2 MB/s eta 0:00:01\r\u001B[K     |████████████████████████▊       | 911 kB 5.2 MB/s eta 0:00:01\r\u001B[K     |█████████████████████████       | 921 kB 5.2 MB/s eta 0:00:01\r\u001B[K     |█████████████████████████▎      | 931 kB 5.2 MB/s eta 0:00:01\r\u001B[K     |█████████████████████████▋      | 942 kB 5.2 MB/s eta 0:00:01\r\u001B[K     |█████████████████████████▉      | 952 kB 5.2 MB/s eta 0:00:01\r\u001B[K     |██████████████████████████▏     | 962 kB 5.2 MB/s eta 0:00:01\r\u001B[K     |██████████████████████████▍     | 972 kB 5.2 MB/s eta 0:00:01\r\u001B[K     |██████████████████████████▊     | 983 kB 5.2 MB/s eta 0:00:01\r\u001B[K     |███████████████████████████     | 993 kB 5.2 MB/s eta 0:00:01\r\u001B[K     |███████████████████████████▎    | 1.0 MB 5.2 MB/s eta 0:00:01\r\u001B[K     |███████████████████████████▌    | 1.0 MB 5.2 MB/s eta 0:00:01\r\u001B[K     |███████████████████████████▉    | 1.0 MB 5.2 MB/s eta 0:00:01\r\u001B[K     |████████████████████████████    | 1.0 MB 5.2 MB/s eta 0:00:01\r\u001B[K     |████████████████████████████▍   | 1.0 MB 5.2 MB/s eta 0:00:01\r\u001B[K     |████████████████████████████▋   | 1.1 MB 5.2 MB/s eta 0:00:01\r\u001B[K     |█████████████████████████████   | 1.1 MB 5.2 MB/s eta 0:00:01\r\u001B[K     |█████████████████████████████▏  | 1.1 MB 5.2 MB/s eta 0:00:01\r\u001B[K     |█████████████████████████████▌  | 1.1 MB 5.2 MB/s eta 0:00:01\r\u001B[K     |█████████████████████████████▊  | 1.1 MB 5.2 MB/s eta 0:00:01\r\u001B[K     |██████████████████████████████  | 1.1 MB 5.2 MB/s eta 0:00:01\r\u001B[K     |██████████████████████████████▎ | 1.1 MB 5.2 MB/s eta 0:00:01\r\u001B[K     |██████████████████████████████▋ | 1.1 MB 5.2 MB/s eta 0:00:01\r\u001B[K     |██████████████████████████████▉ | 1.1 MB 5.2 MB/s eta 0:00:01\r\u001B[K     |███████████████████████████████▏| 1.1 MB 5.2 MB/s eta 0:00:01\r\u001B[K     |███████████████████████████████▍| 1.2 MB 5.2 MB/s eta 0:00:01\r\u001B[K     |███████████████████████████████▊| 1.2 MB 5.2 MB/s eta 0:00:01\r\u001B[K     |████████████████████████████████| 1.2 MB 5.2 MB/s eta 0:00:01\r\u001B[K     |████████████████████████████████| 1.2 MB 5.2 MB/s \r\n\u001B[?25hRequirement already satisfied: requests>=2.26.0 in /databricks/python3/lib/python3.9/site-packages (from tiktoken) (2.27.1)\r\nCollecting regex>=2022.1.18\r\n  Downloading regex-2024.11.6-cp39-cp39-manylinux_2_17_x86_64.manylinux2014_x86_64.whl (780 kB)\r\n\u001B[?25l\r\u001B[K     |▍                               | 10 kB 31.8 MB/s eta 0:00:01\r\u001B[K     |▉                               | 20 kB 41.1 MB/s eta 0:00:01\r\u001B[K     |█▎                              | 30 kB 51.4 MB/s eta 0:00:01\r\u001B[K     |█▊                              | 40 kB 53.2 MB/s eta 0:00:01\r\u001B[K     |██                              | 51 kB 57.7 MB/s eta 0:00:01\r\u001B[K     |██▌                             | 61 kB 63.3 MB/s eta 0:00:01\r\u001B[K     |███                             | 71 kB 61.8 MB/s eta 0:00:01\r\u001B[K     |███▍                            | 81 kB 63.1 MB/s eta 0:00:01\r\u001B[K     |███▊                            | 92 kB 65.6 MB/s eta 0:00:01\r\u001B[K     |████▏                           | 102 kB 64.8 MB/s eta 0:00:01\r\u001B[K     |████▋                           | 112 kB 64.8 MB/s eta 0:00:01\r\u001B[K     |█████                           | 122 kB 64.8 MB/s eta 0:00:01\r\u001B[K     |█████▌                          | 133 kB 64.8 MB/s eta 0:00:01\r\u001B[K     |█████▉                          | 143 kB 64.8 MB/s eta 0:00:01\r\u001B[K     |██████▎                         | 153 kB 64.8 MB/s eta 0:00:01\r\u001B[K     |██████▊                         | 163 kB 64.8 MB/s eta 0:00:01\r\u001B[K     |███████▏                        | 174 kB 64.8 MB/s eta 0:00:01\r\u001B[K     |███████▌                        | 184 kB 64.8 MB/s eta 0:00:01\r\u001B[K     |████████                        | 194 kB 64.8 MB/s eta 0:00:01\r\u001B[K     |████████▍                       | 204 kB 64.8 MB/s eta 0:00:01\r\u001B[K     |████████▉                       | 215 kB 64.8 MB/s eta 0:00:01\r\u001B[K     |█████████▎                      | 225 kB 64.8 MB/s eta 0:00:01\r\u001B[K     |█████████▋                      | 235 kB 64.8 MB/s eta 0:00:01\r\u001B[K     |██████████                      | 245 kB 64.8 MB/s eta 0:00:01\r\u001B[K     |██████████▌                     | 256 kB 64.8 MB/s eta 0:00:01\r\u001B[K     |███████████                     | 266 kB 64.8 MB/s eta 0:00:01\r\u001B[K     |███████████▎                    | 276 kB 64.8 MB/s eta 0:00:01\r\u001B[K     |███████████▊                    | 286 kB 64.8 MB/s eta 0:00:01\r\u001B[K     |████████████▏                   | 296 kB 64.8 MB/s eta 0:00:01\r\u001B[K     |████████████▋                   | 307 kB 64.8 MB/s eta 0:00:01\r\u001B[K     |█████████████                   | 317 kB 64.8 MB/s eta 0:00:01\r\u001B[K     |█████████████▍                  | 327 kB 64.8 MB/s eta 0:00:01\r\u001B[K     |█████████████▉                  | 337 kB 64.8 MB/s eta 0:00:01\r\u001B[K     |██████████████▎                 | 348 kB 64.8 MB/s eta 0:00:01\r\u001B[K     |██████████████▊                 | 358 kB 64.8 MB/s eta 0:00:01\r\u001B[K     |███████████████                 | 368 kB 64.8 MB/s eta 0:00:01\r\u001B[K     |███████████████▌                | 378 kB 64.8 MB/s eta 0:00:01\r\u001B[K     |████████████████                | 389 kB 64.8 MB/s eta 0:00:01\r\u001B[K     |████████████████▍               | 399 kB 64.8 MB/s eta 0:00:01\r\u001B[K     |████████████████▉               | 409 kB 64.8 MB/s eta 0:00:01\r\u001B[K     |█████████████████▏              | 419 kB 64.8 MB/s eta 0:00:01\r\u001B[K     |█████████████████▋              | 430 kB 64.8 MB/s eta 0:00:01\r\u001B[K     |██████████████████              | 440 kB 64.8 MB/s eta 0:00:01\r\u001B[K     |██████████████████▌             | 450 kB 64.8 MB/s eta 0:00:01\r\u001B[K     |██████████████████▉             | 460 kB 64.8 MB/s eta 0:00:01\r\u001B[K     |███████████████████▎            | 471 kB 64.8 MB/s eta 0:00:01\r\u001B[K     |███████████████████▊            | 481 kB 64.8 MB/s eta 0:00:01\r\u001B[K     |████████████████████▏           | 491 kB 64.8 MB/s eta 0:00:01\r\u001B[K     |████████████████████▋           | 501 kB 64.8 MB/s eta 0:00:01\r\u001B[K     |█████████████████████           | 512 kB 64.8 MB/s eta 0:00:01\r\u001B[K     |█████████████████████▍          | 522 kB 64.8 MB/s eta 0:00:01\r\u001B[K     |█████████████████████▉          | 532 kB 64.8 MB/s eta 0:00:01\r\u001B[K     |██████████████████████▎         | 542 kB 64.8 MB/s eta 0:00:01\r\u001B[K     |██████████████████████▋         | 552 kB 64.8 MB/s eta 0:00:01\r\u001B[K     |███████████████████████         | 563 kB 64.8 MB/s eta 0:00:01\r\u001B[K     |███████████████████████▌        | 573 kB 64.8 MB/s eta 0:00:01\r\u001B[K     |████████████████████████        | 583 kB 64.8 MB/s eta 0:00:01\r\u001B[K     |████████████████████████▍       | 593 kB 64.8 MB/s eta 0:00:01\r\u001B[K     |████████████████████████▊       | 604 kB 64.8 MB/s eta 0:00:01\r\u001B[K     |█████████████████████████▏      | 614 kB 64.8 MB/s eta 0:00:01\r\u001B[K     |█████████████████████████▋      | 624 kB 64.8 MB/s eta 0:00:01\r\u001B[K     |██████████████████████████      | 634 kB 64.8 MB/s eta 0:00:01\r\u001B[K     |██████████████████████████▍     | 645 kB 64.8 MB/s eta 0:00:01\r\u001B[K     |██████████████████████████▉     | 655 kB 64.8 MB/s eta 0:00:01\r\u001B[K     |███████████████████████████▎    | 665 kB 64.8 MB/s eta 0:00:01\r\u001B[K     |███████████████████████████▊    | 675 kB 64.8 MB/s eta 0:00:01\r\u001B[K     |████████████████████████████▏   | 686 kB 64.8 MB/s eta 0:00:01\r\u001B[K     |████████████████████████████▌   | 696 kB 64.8 MB/s eta 0:00:01\r\u001B[K     |█████████████████████████████   | 706 kB 64.8 MB/s eta 0:00:01\r\u001B[K     |█████████████████████████████▍  | 716 kB 64.8 MB/s eta 0:00:01\r\u001B[K     |█████████████████████████████▉  | 727 kB 64.8 MB/s eta 0:00:01\r\u001B[K     |██████████████████████████████▏ | 737 kB 64.8 MB/s eta 0:00:01\r\u001B[K     |██████████████████████████████▋ | 747 kB 64.8 MB/s eta 0:00:01\r\u001B[K     |███████████████████████████████ | 757 kB 64.8 MB/s eta 0:00:01\r\u001B[K     |███████████████████████████████▌| 768 kB 64.8 MB/s eta 0:00:01\r\u001B[K     |████████████████████████████████| 778 kB 64.8 MB/s eta 0:00:01\r\u001B[K     |████████████████████████████████| 780 kB 64.8 MB/s \r\n\u001B[?25hRequirement already satisfied: charset-normalizer~=2.0.0 in /databricks/python3/lib/python3.9/site-packages (from requests>=2.26.0->tiktoken) (2.0.4)\r\nRequirement already satisfied: idna<4,>=2.5 in /databricks/python3/lib/python3.9/site-packages (from requests>=2.26.0->tiktoken) (3.3)\r\nRequirement already satisfied: certifi>=2017.4.17 in /databricks/python3/lib/python3.9/site-packages (from requests>=2.26.0->tiktoken) (2021.10.8)\r\nRequirement already satisfied: urllib3<1.27,>=1.21.1 in /databricks/python3/lib/python3.9/site-packages (from requests>=2.26.0->tiktoken) (1.26.9)\r\nInstalling collected packages: regex, tiktoken\r\nSuccessfully installed regex-2024.11.6 tiktoken-0.8.0\r\n\u001B[33mWARNING: You are using pip version 21.2.4; however, version 24.3.1 is available.\r\nYou should consider upgrading via the '/local_disk0/.ephemeral_nfs/envs/pythonEnv-63f16a91-7710-46fc-a4f3-7b3e7ea81428/bin/python -m pip install --upgrade pip' command.\u001B[0m\r\n"
     ]
    }
   ],
   "source": [
    "!pip install tiktoken"
   ]
  },
  {
   "cell_type": "code",
   "execution_count": 0,
   "metadata": {
    "application/vnd.databricks.v1+cell": {
     "cellMetadata": {
      "byteLimit": 2048000,
      "rowLimit": 10000
     },
     "inputWidgets": {},
     "nuid": "f86be6cd-e7ea-4736-b08f-d93efaed521d",
     "showTitle": false,
     "tableResultSettingsMap": {},
     "title": ""
    }
   },
   "outputs": [
    {
     "output_type": "stream",
     "name": "stdout",
     "output_type": "stream",
     "text": [
      "Out[3]: [15496, 995, 11, 428, 318, 1257, 0]"
     ]
    }
   ],
   "source": [
    "import tiktoken\n",
    "\n",
    "encoding = tiktoken.get_encoding(\"p50k_base\")\n",
    "encoding.encode(\"Hello world, this is fun!\")"
   ]
  },
  {
   "cell_type": "markdown",
   "metadata": {
    "application/vnd.databricks.v1+cell": {
     "cellMetadata": {
      "byteLimit": 2048000,
      "rowLimit": 10000
     },
     "inputWidgets": {},
     "nuid": "3acb0dc1-89f8-45a9-8051-c955bab1e52b",
     "showTitle": false,
     "tableResultSettingsMap": {},
     "title": ""
    }
   },
   "source": [
    "Write a script that shows the string tokens from an input phrase."
   ]
  },
  {
   "cell_type": "code",
   "execution_count": 0,
   "metadata": {
    "application/vnd.databricks.v1+cell": {
     "cellMetadata": {
      "byteLimit": 2048000,
      "rowLimit": 10000
     },
     "inputWidgets": {},
     "nuid": "70e0d478-e7b0-49a2-8c4b-54643c1a7339",
     "showTitle": false,
     "tableResultSettingsMap": {},
     "title": ""
    }
   },
   "outputs": [
    {
     "output_type": "display_data",
     "data": {
      "text/plain": [
       "Introduce una frase:  Hola soy Leo, como estas?"
      ]
     },
     "metadata": {},
     "output_type": "display_data"
    },
    {
     "output_type": "stream",
     "name": "stdout",
     "output_type": "stream",
     "text": [
      "Frase: Hola soy Leo, como estas?\nTokens: [39, 5708, 17797, 19632, 11, 401, 78, 1556, 292, 30]\nTokens (como texto): ['H', 'ola', ' soy', ' Leo', ',', ' com', 'o', ' est', 'as', '?']\n"
     ]
    }
   ],
   "source": [
    "import tiktoken\n",
    "\n",
    "# Obtén el encoding, en este caso usando \"p50k_base\"\n",
    "encoding = tiktoken.get_encoding(\"p50k_base\")\n",
    "\n",
    "# Define una función para mostrar los tokens de una frase\n",
    "def show_tokens(phrase):\n",
    "    tokens = encoding.encode(phrase)  # Codifica la frase a tokens\n",
    "    print(f\"Frase: {phrase}\")\n",
    "    print(\"Tokens:\", tokens)\n",
    "    print(\"Tokens (como texto):\", [encoding.decode([token]) for token in tokens])  # Decodifica los tokens a texto\n",
    "\n",
    "# Pide al usuario una frase de entrada\n",
    "input_phrase = input(\"Introduce una frase: \")\n",
    "\n",
    "# Muestra los tokens de la frase\n",
    "show_tokens(input_phrase)\n"
   ]
  },
  {
   "cell_type": "markdown",
   "metadata": {
    "application/vnd.databricks.v1+cell": {
     "cellMetadata": {
      "byteLimit": 2048000,
      "rowLimit": 10000
     },
     "inputWidgets": {},
     "nuid": "ad11e8cd-7b1f-42da-9714-6a4b80592a11",
     "showTitle": false,
     "tableResultSettingsMap": {},
     "title": ""
    }
   },
   "source": [
    "Let's write a function to count the number of tokens in a text string."
   ]
  },
  {
   "cell_type": "code",
   "execution_count": 0,
   "metadata": {
    "application/vnd.databricks.v1+cell": {
     "cellMetadata": {
      "byteLimit": 2048000,
      "rowLimit": 10000
     },
     "inputWidgets": {},
     "nuid": "306b979d-eaba-4715-ad09-e87d4780faea",
     "showTitle": false,
     "tableResultSettingsMap": {},
     "title": ""
    }
   },
   "outputs": [
    {
     "output_type": "stream",
     "name": "stdout",
     "output_type": "stream",
     "text": [
      "Number of tokens: 7\n"
     ]
    }
   ],
   "source": [
    "import tiktoken\n",
    "\n",
    "def get_num_tokens_from_string(string: str, encoding_name: str='p50k_base') -> int:\n",
    "    # Obtener el encoding según el nombre\n",
    "    encoding = tiktoken.get_encoding(encoding_name)\n",
    "    \n",
    "    # Codificar la cadena en tokens\n",
    "    tokens = encoding.encode(string)\n",
    "    \n",
    "    # Retornar el número de tokens\n",
    "    return len(tokens)\n",
    "\n",
    "# Ejemplo de uso\n",
    "num_tokens = get_num_tokens_from_string(\"Hello World, this is fun!\")\n",
    "print(f\"Number of tokens: {num_tokens}\")\n"
   ]
  },
  {
   "cell_type": "markdown",
   "metadata": {
    "application/vnd.databricks.v1+cell": {
     "cellMetadata": {
      "byteLimit": 2048000,
      "rowLimit": 10000
     },
     "inputWidgets": {},
     "nuid": "39ee9d31-9f79-4786-b2b8-78d0a5a45d28",
     "showTitle": false,
     "tableResultSettingsMap": {},
     "title": ""
    }
   },
   "source": [
    "## Clean data"
   ]
  },
  {
   "cell_type": "markdown",
   "metadata": {
    "application/vnd.databricks.v1+cell": {
     "cellMetadata": {
      "byteLimit": 2048000,
      "rowLimit": 10000
     },
     "inputWidgets": {},
     "nuid": "c548de76-3456-423c-89a2-060a4b8c0a7c",
     "showTitle": false,
     "tableResultSettingsMap": {},
     "title": ""
    }
   },
   "source": [
    "Next we'll perform some light data cleaning by removing redundant whitespace and cleaning up the punctuation to prepare the data for tokenization. Again, tokenization is not required for the model to work, but it is a good practice to do so to ensure that the data is in a consistent format and that the model is able to process the data correctly. Also, it makes sure that the request is not too long for the model as the maximum number of tokens for davinci is 2048, e.g., equivalent to around 2-3 pages of text.\n",
    "\n",
    "> **Best Practices**\n",
    "> - **Replace newlines with a single space**: Unless you're embedding code, we suggest replacing newlines (\\n) in your input with a single space, as we have observed inferior results when newlines are present."
   ]
  },
  {
   "cell_type": "code",
   "execution_count": 0,
   "metadata": {
    "application/vnd.databricks.v1+cell": {
     "cellMetadata": {
      "byteLimit": 2048000,
      "rowLimit": 10000
     },
     "inputWidgets": {},
     "nuid": "9bf5133e-cf69-44fa-baab-77533de9949b",
     "showTitle": false,
     "tableResultSettingsMap": {},
     "title": ""
    }
   },
   "outputs": [],
   "source": [
    "import re\n",
    "\n",
    "def normalize_text(string, sep_token = \" \\n \"):\n",
    "    \"\"\"Normalize text by removing unnecessary characters and altering the format of words.\"\"\"\n",
    "    # make text lowercase\n",
    "    string = re.sub(r'\\s+',  ' ', string).strip()\n",
    "    string = re.sub(r\". ,\",\"\",string)\n",
    "    # remove all instances of multiple spaces\n",
    "    string = string.replace(\"..\",\".\")\n",
    "    string = string.replace(\". .\",\".\")\n",
    "    string = string.replace(\"\\n\", \"\")\n",
    "    string = string.strip()\n",
    "    return string"
   ]
  },
  {
   "cell_type": "markdown",
   "metadata": {
    "application/vnd.databricks.v1+cell": {
     "cellMetadata": {
      "byteLimit": 2048000,
      "rowLimit": 10000
     },
     "inputWidgets": {},
     "nuid": "4366e4c3-5851-4ba6-86f4-63baf6cf7fef",
     "showTitle": false,
     "tableResultSettingsMap": {},
     "title": ""
    }
   },
   "source": [
    "Generate some data to test the cleaning function."
   ]
  },
  {
   "cell_type": "code",
   "execution_count": 0,
   "metadata": {
    "application/vnd.databricks.v1+cell": {
     "cellMetadata": {
      "byteLimit": 2048000,
      "rowLimit": 10000
     },
     "inputWidgets": {},
     "nuid": "ff01a368-fb48-46a4-9226-ec0150e55356",
     "showTitle": false,
     "tableResultSettingsMap": {},
     "title": ""
    }
   },
   "outputs": [
    {
     "output_type": "stream",
     "name": "stdout",
     "output_type": "stream",
     "text": [
      "hello world! this is a test.another line of text.\n"
     ]
    }
   ],
   "source": [
    "import re\n",
    "\n",
    "def normalize_text(string, sep_token=\" \"):\n",
    "    \"\"\"Normalize text by removing unnecessary characters and altering the format of words.\"\"\"\n",
    "    # Convierte todo el texto a minúsculas\n",
    "    string = string.lower()\n",
    "\n",
    "    # Reemplaza saltos de línea y secuencias de espacios por un solo espacio\n",
    "    string = re.sub(r'\\s+', sep_token, string).strip()\n",
    "\n",
    "    # Eliminar puntuación innecesaria, por ejemplo, eliminar comas seguidas de puntos\n",
    "    string = re.sub(r'[.,]+', \".\", string)\n",
    "\n",
    "    # Eliminar espacios innecesarios alrededor de los puntos\n",
    "    string = re.sub(r'\\s*\\.\\s*', '.', string)\n",
    "\n",
    "    # Eliminar saltos de línea (si es que aún quedan)\n",
    "    string = string.replace(\"\\n\", sep_token).strip()\n",
    "\n",
    "    return string\n",
    "\n",
    "# Ejemplo de uso\n",
    "input_text = \"Hello World! This is a test.. \\n Another line of text.  \"\n",
    "normalized_text = normalize_text(input_text)\n",
    "print(normalized_text)\n"
   ]
  },
  {
   "cell_type": "markdown",
   "metadata": {
    "application/vnd.databricks.v1+cell": {
     "cellMetadata": {
      "byteLimit": 2048000,
      "rowLimit": 10000
     },
     "inputWidgets": {},
     "nuid": "0613d056-ea3f-4fdf-b9eb-91499e5f3008",
     "showTitle": false,
     "tableResultSettingsMap": {},
     "title": ""
    }
   },
   "source": [
    "## Ejercicio 1: Validar longitud de texto antes de enviar a OpenAI\n",
    "\n",
    "Escribe una función llamada validate_text_length que valide si un texto supera un límite de tokens especificado. Si el texto supera el límite, la función debe dividirlo en segmentos de tamaño adecuado para enviarlos al modelo de OpenAI. Usa la codificación cl100k_base.\n",
    "\n"
   ]
  },
  {
   "cell_type": "code",
   "execution_count": 0,
   "metadata": {
    "application/vnd.databricks.v1+cell": {
     "cellMetadata": {
      "byteLimit": 2048000,
      "rowLimit": 10000
     },
     "inputWidgets": {},
     "nuid": "9c85a7dd-2d6e-47e4-bf93-61fbb7be1c87",
     "showTitle": false,
     "tableResultSettingsMap": {},
     "title": ""
    }
   },
   "outputs": [
    {
     "output_type": "stream",
     "name": "stdout",
     "output_type": "stream",
     "text": [
      "1\n1001\n"
     ]
    }
   ],
   "source": [
    "import tiktoken\n",
    "\n",
    "def validate_text_length(text, max_tokens=2048, encoding_name='cl100k_base'):\n",
    "    # Obtener la codificación según el nombre proporcionado\n",
    "    encoding = tiktoken.get_encoding(encoding_name)\n",
    "    \n",
    "    # Codificar el texto en tokens\n",
    "    tokens = encoding.encode(text)\n",
    "    \n",
    "    # Si el texto no excede el límite de tokens, devolverlo tal cual\n",
    "    if len(tokens) <= max_tokens:\n",
    "        return [text]\n",
    "    \n",
    "    # Si excede el límite, dividir el texto en segmentos de tamaño adecuado\n",
    "    segments = []\n",
    "    for i in range(0, len(tokens), max_tokens):\n",
    "        segment_tokens = tokens[i:i + max_tokens]\n",
    "        segment = encoding.decode(segment_tokens)\n",
    "        segments.append(segment)\n",
    "    \n",
    "    return segments\n",
    "\n",
    "# Prueba la función\n",
    "text = \"Lorem ipsum \" * 500  # Texto largo\n",
    "segments = validate_text_length(text) # Llamamos la funcion\n",
    "\n",
    "# Verifica el número de segmentos y su longitud\n",
    "print(len(segments))  # Resultado esperado: Más de 1 segmento\n",
    "print(len(tiktoken.get_encoding('cl100k_base').encode(segments[0])))  # <= XXX tokens\n",
    "##Resultado esperado:\n",
    "\n",
    "##El texto se divide en segmentos adecuados para ser procesados por OpenAI.\n",
    "##Cada segmento tendrá un número de tokens menor o igual al límite especificado.\n"
   ]
  },
  {
   "cell_type": "markdown",
   "metadata": {
    "application/vnd.databricks.v1+cell": {
     "cellMetadata": {
      "byteLimit": 2048000,
      "rowLimit": 10000
     },
     "inputWidgets": {},
     "nuid": "a4015806-5ec6-454e-a443-bc1684045174",
     "showTitle": false,
     "tableResultSettingsMap": {},
     "title": ""
    }
   },
   "source": [
    "## Ejercicio 2: Filtrar palabras prohibidas en un texto\n",
    "\n",
    "Escribe una función llamada filter_prohibited_words que remueva palabras prohibidas de un texto antes de enviarlo a OpenAI. \n",
    "\n",
    "Como ejemplo queremos Eliminar palabras como: ['password', 'confidential', 'secret']. \n",
    "\n"
   ]
  },
  {
   "cell_type": "code",
   "execution_count": 0,
   "metadata": {
    "application/vnd.databricks.v1+cell": {
     "cellMetadata": {
      "byteLimit": 2048000,
      "rowLimit": 10000
     },
     "inputWidgets": {},
     "nuid": "456f6034-48ea-49b6-9a5a-ede84fd9e848",
     "showTitle": false,
     "tableResultSettingsMap": {},
     "title": ""
    }
   },
   "outputs": [
    {
     "output_type": "stream",
     "name": "stdout",
     "output_type": "stream",
     "text": [
      "This document contains [REDACTED] and [REDACTED] information.\n"
     ]
    }
   ],
   "source": [
    "import re\n",
    "\n",
    "def filter_prohibited_words(text, prohibited_words):\n",
    "    \"\"\"Filtra palabras prohibidas del texto y las reemplaza por [REDACTED].\"\"\"\n",
    "    for word in prohibited_words:\n",
    "        # Usamos una expresión regular para encontrar las palabras completas y reemplazarlas\n",
    "        text = re.sub(r'\\b' + re.escape(word) + r'\\b', '[REDACTED]', text, flags=re.IGNORECASE)\n",
    "    \n",
    "    return text\n",
    "\n",
    "# Prueba de la función\n",
    "text = \"This document contains confidential and secret information.\"\n",
    "prohibited_words = ['password', 'confidential', 'secret']\n",
    "\n",
    "cleaned_text = filter_prohibited_words(text, prohibited_words)\n",
    "print(cleaned_text)  # Resultado esperado: \"This document contains [REDACTED] and [REDACTED] information.\"\n",
    "#Resultado esperado:\n",
    "#El texto tendrá palabras prohibidas reemplazadas por [REDACTED].\n",
    "\n"
   ]
  },
  {
   "cell_type": "markdown",
   "metadata": {
    "application/vnd.databricks.v1+cell": {
     "cellMetadata": {
      "byteLimit": 2048000,
      "rowLimit": 10000
     },
     "inputWidgets": {},
     "nuid": "0aa39aa2-4d65-4be1-88f4-30faab6e28fc",
     "showTitle": false,
     "tableResultSettingsMap": {},
     "title": ""
    }
   },
   "source": [
    "## Ejercicio 3: Identificar idioma del texto\n",
    "\n",
    "Crea una función detect_language que use langdetect para identificar el idioma de un texto y devuelva el código del idioma (e.g., en, es). Verifica el idioma antes de enviarlo al modelo OpenAI. Debes instalar la libreria langdetect\n"
   ]
  },
  {
   "cell_type": "code",
   "execution_count": 0,
   "metadata": {
    "application/vnd.databricks.v1+cell": {
     "cellMetadata": {
      "byteLimit": 2048000,
      "rowLimit": 10000
     },
     "inputWidgets": {},
     "nuid": "c0df0b09-b0fa-40f2-9660-43e4e2ae003d",
     "showTitle": false,
     "tableResultSettingsMap": {},
     "title": ""
    }
   },
   "outputs": [
    {
     "output_type": "stream",
     "name": "stdout",
     "output_type": "stream",
     "text": [
      "Collecting langdetect\r\n  Downloading langdetect-1.0.9.tar.gz (981 kB)\r\n\u001B[?25l\r\u001B[K     |▍                               | 10 kB 20.3 MB/s eta 0:00:01\r\u001B[K     |▊                               | 20 kB 9.8 MB/s eta 0:00:01\r\u001B[K     |█                               | 30 kB 13.9 MB/s eta 0:00:01\r\u001B[K     |█▍                              | 40 kB 6.8 MB/s eta 0:00:01\r\u001B[K     |█▊                              | 51 kB 6.3 MB/s eta 0:00:01\r\u001B[K     |██                              | 61 kB 7.4 MB/s eta 0:00:01\r\u001B[K     |██▍                             | 71 kB 7.4 MB/s eta 0:00:01\r\u001B[K     |██▊                             | 81 kB 6.5 MB/s eta 0:00:01\r\u001B[K     |███                             | 92 kB 7.2 MB/s eta 0:00:01\r\u001B[K     |███▍                            | 102 kB 6.8 MB/s eta 0:00:01\r\u001B[K     |███▊                            | 112 kB 6.8 MB/s eta 0:00:01\r\u001B[K     |████                            | 122 kB 6.8 MB/s eta 0:00:01\r\u001B[K     |████▍                           | 133 kB 6.8 MB/s eta 0:00:01\r\u001B[K     |████▊                           | 143 kB 6.8 MB/s eta 0:00:01\r\u001B[K     |█████                           | 153 kB 6.8 MB/s eta 0:00:01\r\u001B[K     |█████▍                          | 163 kB 6.8 MB/s eta 0:00:01\r\u001B[K     |█████▊                          | 174 kB 6.8 MB/s eta 0:00:01\r\u001B[K     |██████                          | 184 kB 6.8 MB/s eta 0:00:01\r\u001B[K     |██████▍                         | 194 kB 6.8 MB/s eta 0:00:01\r\u001B[K     |██████▊                         | 204 kB 6.8 MB/s eta 0:00:01\r\u001B[K     |███████                         | 215 kB 6.8 MB/s eta 0:00:01\r\u001B[K     |███████▍                        | 225 kB 6.8 MB/s eta 0:00:01\r\u001B[K     |███████▊                        | 235 kB 6.8 MB/s eta 0:00:01\r\u001B[K     |████████                        | 245 kB 6.8 MB/s eta 0:00:01\r\u001B[K     |████████▍                       | 256 kB 6.8 MB/s eta 0:00:01\r\u001B[K     |████████▊                       | 266 kB 6.8 MB/s eta 0:00:01\r\u001B[K     |█████████                       | 276 kB 6.8 MB/s eta 0:00:01\r\u001B[K     |█████████▍                      | 286 kB 6.8 MB/s eta 0:00:01\r\u001B[K     |█████████▊                      | 296 kB 6.8 MB/s eta 0:00:01\r\u001B[K     |██████████                      | 307 kB 6.8 MB/s eta 0:00:01\r\u001B[K     |██████████▍                     | 317 kB 6.8 MB/s eta 0:00:01\r\u001B[K     |██████████▊                     | 327 kB 6.8 MB/s eta 0:00:01\r\u001B[K     |███████████                     | 337 kB 6.8 MB/s eta 0:00:01\r\u001B[K     |███████████▍                    | 348 kB 6.8 MB/s eta 0:00:01\r\u001B[K     |███████████▊                    | 358 kB 6.8 MB/s eta 0:00:01\r\u001B[K     |████████████                    | 368 kB 6.8 MB/s eta 0:00:01\r\u001B[K     |████████████▍                   | 378 kB 6.8 MB/s eta 0:00:01\r\u001B[K     |████████████▊                   | 389 kB 6.8 MB/s eta 0:00:01\r\u001B[K     |█████████████                   | 399 kB 6.8 MB/s eta 0:00:01\r\u001B[K     |█████████████▍                  | 409 kB 6.8 MB/s eta 0:00:01\r\u001B[K     |█████████████▊                  | 419 kB 6.8 MB/s eta 0:00:01\r\u001B[K     |██████████████                  | 430 kB 6.8 MB/s eta 0:00:01\r\u001B[K     |██████████████▍                 | 440 kB 6.8 MB/s eta 0:00:01\r\u001B[K     |██████████████▊                 | 450 kB 6.8 MB/s eta 0:00:01\r\u001B[K     |███████████████                 | 460 kB 6.8 MB/s eta 0:00:01\r\u001B[K     |███████████████▍                | 471 kB 6.8 MB/s eta 0:00:01\r\u001B[K     |███████████████▊                | 481 kB 6.8 MB/s eta 0:00:01\r\u001B[K     |████████████████                | 491 kB 6.8 MB/s eta 0:00:01\r\u001B[K     |████████████████▍               | 501 kB 6.8 MB/s eta 0:00:01\r\u001B[K     |████████████████▊               | 512 kB 6.8 MB/s eta 0:00:01\r\u001B[K     |█████████████████               | 522 kB 6.8 MB/s eta 0:00:01\r\u001B[K     |█████████████████▍              | 532 kB 6.8 MB/s eta 0:00:01\r\u001B[K     |█████████████████▊              | 542 kB 6.8 MB/s eta 0:00:01\r\u001B[K     |██████████████████              | 552 kB 6.8 MB/s eta 0:00:01\r\u001B[K     |██████████████████▍             | 563 kB 6.8 MB/s eta 0:00:01\r\u001B[K     |██████████████████▊             | 573 kB 6.8 MB/s eta 0:00:01\r\u001B[K     |███████████████████             | 583 kB 6.8 MB/s eta 0:00:01\r\u001B[K     |███████████████████▍            | 593 kB 6.8 MB/s eta 0:00:01\r\u001B[K     |███████████████████▊            | 604 kB 6.8 MB/s eta 0:00:01\r\u001B[K     |████████████████████            | 614 kB 6.8 MB/s eta 0:00:01\r\u001B[K     |████████████████████▍           | 624 kB 6.8 MB/s eta 0:00:01\r\u001B[K     |████████████████████▊           | 634 kB 6.8 MB/s eta 0:00:01\r\u001B[K     |█████████████████████           | 645 kB 6.8 MB/s eta 0:00:01\r\u001B[K     |█████████████████████▍          | 655 kB 6.8 MB/s eta 0:00:01\r\u001B[K     |█████████████████████▊          | 665 kB 6.8 MB/s eta 0:00:01\r\u001B[K     |██████████████████████          | 675 kB 6.8 MB/s eta 0:00:01\r\u001B[K     |██████████████████████▍         | 686 kB 6.8 MB/s eta 0:00:01\r\u001B[K     |██████████████████████▊         | 696 kB 6.8 MB/s eta 0:00:01\r\u001B[K     |███████████████████████         | 706 kB 6.8 MB/s eta 0:00:01\r\u001B[K     |███████████████████████▍        | 716 kB 6.8 MB/s eta 0:00:01\r\u001B[K     |███████████████████████▊        | 727 kB 6.8 MB/s eta 0:00:01\r\u001B[K     |████████████████████████        | 737 kB 6.8 MB/s eta 0:00:01\r\u001B[K     |████████████████████████▍       | 747 kB 6.8 MB/s eta 0:00:01\r\u001B[K     |████████████████████████▊       | 757 kB 6.8 MB/s eta 0:00:01\r\u001B[K     |█████████████████████████       | 768 kB 6.8 MB/s eta 0:00:01\r\u001B[K     |█████████████████████████▍      | 778 kB 6.8 MB/s eta 0:00:01\r\u001B[K     |█████████████████████████▊      | 788 kB 6.8 MB/s eta 0:00:01\r\u001B[K     |██████████████████████████      | 798 kB 6.8 MB/s eta 0:00:01\r\u001B[K     |██████████████████████████▍     | 808 kB 6.8 MB/s eta 0:00:01\r\u001B[K     |██████████████████████████▊     | 819 kB 6.8 MB/s eta 0:00:01\r\u001B[K     |███████████████████████████     | 829 kB 6.8 MB/s eta 0:00:01\r\u001B[K     |███████████████████████████▍    | 839 kB 6.8 MB/s eta 0:00:01\r\u001B[K     |███████████████████████████▊    | 849 kB 6.8 MB/s eta 0:00:01\r\u001B[K     |████████████████████████████    | 860 kB 6.8 MB/s eta 0:00:01\r\u001B[K     |████████████████████████████▍   | 870 kB 6.8 MB/s eta 0:00:01\r\u001B[K     |████████████████████████████▊   | 880 kB 6.8 MB/s eta 0:00:01\r\u001B[K     |█████████████████████████████   | 890 kB 6.8 MB/s eta 0:00:01\r\u001B[K     |█████████████████████████████▍  | 901 kB 6.8 MB/s eta 0:00:01\r\u001B[K     |█████████████████████████████▊  | 911 kB 6.8 MB/s eta 0:00:01\r\u001B[K     |██████████████████████████████  | 921 kB 6.8 MB/s eta 0:00:01\r\u001B[K     |██████████████████████████████▍ | 931 kB 6.8 MB/s eta 0:00:01\r\u001B[K     |██████████████████████████████▊ | 942 kB 6.8 MB/s eta 0:00:01\r\u001B[K     |███████████████████████████████ | 952 kB 6.8 MB/s eta 0:00:01\r\u001B[K     |███████████████████████████████▍| 962 kB 6.8 MB/s eta 0:00:01\r\u001B[K     |███████████████████████████████▊| 972 kB 6.8 MB/s eta 0:00:01\r\u001B[K     |████████████████████████████████| 981 kB 6.8 MB/s \r\n\u001B[?25hRequirement already satisfied: six in /databricks/python3/lib/python3.9/site-packages (from langdetect) (1.16.0)\r\nBuilding wheels for collected packages: langdetect\r\n  Building wheel for langdetect (setup.py) ... \u001B[?25l-\b \b\\\b \b|\b \b/\b \b-\b \b\\\b \b|\b \b/\b \bdone\r\n\u001B[?25h  Created wheel for langdetect: filename=langdetect-1.0.9-py3-none-any.whl size=993242 sha256=1e72346daab60ab8adb5df1fc669b799b3c67144a7d23123eb7b4b7127a3d98c\r\n  Stored in directory: /root/.cache/pip/wheels/d1/c1/d9/7e068de779d863bc8f8fc9467d85e25cfe47fa5051fff1a1bb\r\nSuccessfully built langdetect\r\nInstalling collected packages: langdetect\r\nSuccessfully installed langdetect-1.0.9\r\n\u001B[33mWARNING: You are using pip version 21.2.4; however, version 24.3.1 is available.\r\nYou should consider upgrading via the '/local_disk0/.ephemeral_nfs/envs/pythonEnv-63f16a91-7710-46fc-a4f3-7b3e7ea81428/bin/python -m pip install --upgrade pip' command.\u001B[0m\r\n"
     ]
    }
   ],
   "source": [
    "!pip install langdetect"
   ]
  },
  {
   "cell_type": "code",
   "execution_count": 0,
   "metadata": {
    "application/vnd.databricks.v1+cell": {
     "cellMetadata": {
      "byteLimit": 2048000,
      "rowLimit": 10000
     },
     "inputWidgets": {},
     "nuid": "aeb4bf7d-688d-4620-ac6f-d43075b4ca40",
     "showTitle": false,
     "tableResultSettingsMap": {},
     "title": ""
    }
   },
   "outputs": [
    {
     "output_type": "stream",
     "name": "stdout",
     "output_type": "stream",
     "text": [
      "es\n"
     ]
    }
   ],
   "source": [
    "from langdetect import detect\n",
    "\n",
    "def detect_language(text):\n",
    "    \"\"\"Detecta el idioma de un texto.\"\"\"\n",
    "    return detect(text)\n",
    "\n",
    "# Prueba la función\n",
    "text = \"Hola, este es un texto en español.\"\n",
    "language = detect_language(text)\n",
    "print(language)  # Resultado esperado: 'es' (para español)\n",
    "##Resultado esperado:\n",
    "##El idioma del texto detectado (es, en, etc.) será devuelto.\n"
   ]
  },
  {
   "cell_type": "markdown",
   "metadata": {
    "application/vnd.databricks.v1+cell": {
     "cellMetadata": {
      "byteLimit": 2048000,
      "rowLimit": 10000
     },
     "inputWidgets": {},
     "nuid": "0a5acec2-8825-44bc-b0d9-25cb4915bcac",
     "showTitle": false,
     "tableResultSettingsMap": {},
     "title": ""
    }
   },
   "source": [
    "## Ejercicio 5: Generar prompts efectivos\n",
    "\n",
    "Escribe una función generate_effective_prompt que genere un prompt optimizado para OpenAI, dado un tema y un objetivo. Usa plantillas como:\n",
    "“Explain [tema] in simple terms for a [audiencia].”\n",
    "\n"
   ]
  },
  {
   "cell_type": "code",
   "execution_count": 0,
   "metadata": {
    "application/vnd.databricks.v1+cell": {
     "cellMetadata": {
      "byteLimit": 2048000,
      "rowLimit": 10000
     },
     "inputWidgets": {},
     "nuid": "99796d57-22a0-4c4f-a89e-c1d942737c32",
     "showTitle": false,
     "tableResultSettingsMap": {},
     "title": ""
    }
   },
   "outputs": [
    {
     "output_type": "stream",
     "name": "stdout",
     "output_type": "stream",
     "text": [
      "Explain machine learning in simple terms for a beginner\n"
     ]
    }
   ],
   "source": [
    "def generate_effective_prompt(topic, audience=\"general audience\"):\n",
    "    \"\"\"Genera un prompt optimizado para OpenAI.\"\"\"\n",
    "    return f\"Explain {topic} in simple terms for a {audience}\"\n",
    "\n",
    "# Prueba la función\n",
    "topic = \"machine learning\"\n",
    "prompt = generate_effective_prompt(topic, audience=\"beginner\")\n",
    "print(prompt)  # Resultado esperado: \"Explain machine learning in simple terms for a beginner.\"\n",
    "\n",
    "\n"
   ]
  },
  {
   "cell_type": "markdown",
   "metadata": {
    "application/vnd.databricks.v1+cell": {
     "cellMetadata": {
      "byteLimit": 2048000,
      "rowLimit": 10000
     },
     "inputWidgets": {},
     "nuid": "c33b0cf2-3896-4e68-9966-15c218246ee0",
     "showTitle": false,
     "tableResultSettingsMap": {},
     "title": ""
    }
   },
   "source": [
    "## Ejercicio 6: Medir costo estimado del uso de OpenAI\n",
    "\n",
    "Crea una función estimate_cost que calcule el costo estimado de una solicitud a OpenAI basado en el número de tokens. Supón un costo de $0.02 por 1000 tokens.\n",
    "\n"
   ]
  },
  {
   "cell_type": "code",
   "execution_count": 0,
   "metadata": {
    "application/vnd.databricks.v1+cell": {
     "cellMetadata": {
      "byteLimit": 2048000,
      "rowLimit": 10000
     },
     "inputWidgets": {},
     "nuid": "1cb8c3da-9639-44c9-a825-b9a0d92ae9f6",
     "showTitle": false,
     "tableResultSettingsMap": {},
     "title": ""
    }
   },
   "outputs": [
    {
     "output_type": "stream",
     "name": "stdout",
     "output_type": "stream",
     "text": [
      "0.01002\n"
     ]
    }
   ],
   "source": [
    "def estimate_cost(text, encoding_name='cl100k_base', cost_per_1k_tokens=0.02):\n",
    "    \"\"\"Calcula el costo estimado de un texto basado en el número de tokens.\"\"\"\n",
    "    # Obtener la codificación especificada\n",
    "    encoding = tiktoken.get_encoding(encoding_name)\n",
    "    \n",
    "    # Codificar el texto a tokens\n",
    "    tokens = encoding.encode(text)\n",
    "    \n",
    "    # Calcular el número de tokens\n",
    "    num_tokens = len(tokens)\n",
    "    \n",
    "    # Calcular el costo en base al número de tokens\n",
    "    cost = (num_tokens / 1000) * cost_per_1k_tokens\n",
    "    \n",
    "    return cost\n",
    "\n",
    "# Prueba la función\n",
    "text = \"This is a sample text.\" * 100\n",
    "cost = estimate_cost(text)\n",
    "print(cost)  # Resultado esperado: Costo aproximado basado en la cantidad de tokens\n",
    "\n"
   ]
  },
  {
   "cell_type": "markdown",
   "metadata": {
    "application/vnd.databricks.v1+cell": {
     "cellMetadata": {
      "byteLimit": 2048000,
      "rowLimit": 10000
     },
     "inputWidgets": {},
     "nuid": "0d319253-2600-47e7-9015-1a53c5123f78",
     "showTitle": false,
     "tableResultSettingsMap": {},
     "title": ""
    }
   },
   "source": [
    "## Ejercicio 7: Limpiar texto JSON para OpenAI\n",
    "\n",
    "Escribe una función clean_json_text que tome un JSON como entrada y limpie todas las claves y valores de caracteres no ASCII.\n"
   ]
  },
  {
   "cell_type": "code",
   "execution_count": 0,
   "metadata": {
    "application/vnd.databricks.v1+cell": {
     "cellMetadata": {
      "byteLimit": 2048000,
      "rowLimit": 10000
     },
     "inputWidgets": {},
     "nuid": "9b33a9ed-909f-4b51-9ac9-4d40b3f94ee2",
     "showTitle": false,
     "tableResultSettingsMap": {},
     "title": ""
    }
   },
   "outputs": [
    {
     "output_type": "stream",
     "name": "stdout",
     "output_type": "stream",
     "text": [
      "{'key1': 'Hello ', 'key2': 'Caf and th'}\n"
     ]
    }
   ],
   "source": [
    "import json\n",
    "import re\n",
    "\n",
    "def clean_value(value):\n",
    "    \"\"\"Limpia un valor eliminando caracteres no ASCII.\"\"\"\n",
    "    if isinstance(value, str):  # Si el valor es una cadena de texto\n",
    "        return re.sub(r'[^\\x00-\\x7F]+', '', value)  # Eliminar caracteres no ASCII\n",
    "    return value  # Si no es una cadena, lo dejamos tal cual\n",
    "\n",
    "def clean_json_text(json_obj):\n",
    "    \"\"\"Limpia texto JSON eliminando caracteres no ASCII de las claves y valores.\"\"\"\n",
    "    # Limpiar tanto las claves como los valores\n",
    "    return {clean_value(k): clean_value(v) for k, v in json_obj.items()}\n",
    "\n",
    "# Prueba de la función\n",
    "data = {\"key1\": \"Hello 😊\", \"key2\": \"Café and thé\"}\n",
    "cleaned_data = clean_json_text(data)\n",
    "print(cleaned_data)  # Resultado esperado: {\"key1\": \"Hello \", \"key2\": \"Caf and th\"}\n",
    "\n",
    "##Resultado esperado:\n",
    "##Un JSON sin caracteres no ASCII."
   ]
  }
 ],
 "metadata": {
  "application/vnd.databricks.v1+notebook": {
   "computePreferences": null,
   "dashboards": [],
   "environmentMetadata": null,
   "language": "python",
   "notebookMetadata": {
    "pythonIndentUnit": 4
   },
   "notebookName": "preprocessing",
   "widgets": {}
  },
  "kernelspec": {
   "display_name": "Python [conda env:base] *",
   "language": "python",
   "name": "conda-base-py"
  },
  "language_info": {
   "codemirror_mode": {
    "name": "ipython",
    "version": 3
   },
   "file_extension": ".py",
   "mimetype": "text/x-python",
   "name": "python",
   "nbconvert_exporter": "python",
   "pygments_lexer": "ipython3",
   "version": "3.12.7"
  },
  "vscode": {
   "interpreter": {
    "hash": "eb4a0ac80907d7f44e1a5e88d3d3381b33e3dbedd3a24d113e876f30a0c46bee"
   }
  }
 },
 "nbformat": 4,
 "nbformat_minor": 0
}
