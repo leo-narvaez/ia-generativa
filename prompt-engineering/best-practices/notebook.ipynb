{
 "cells": [
  {
   "cell_type": "markdown",
   "metadata": {},
   "source": [
    "# Best Practices for Prompt Engineering\n",
    "\n"
   ]
  },
  {
   "cell_type": "code",
   "execution_count": 1,
   "metadata": {},
   "outputs": [],
   "source": [
    "import re\n",
    "import requests\n",
    "import sys\n",
    "import os\n",
    "from openai import AzureOpenAI\n",
    "import tiktoken\n",
    "from dotenv import load_dotenv\n",
    "load_dotenv()\n",
    "\n",
    "endpoint = os.environ[\"AZURE_OPENAI_ENDPOINT\"]\n",
    "api_key = os.environ[\"AZURE_OPENAI_API_KEY\"]\n",
    "\n",
    "client = AzureOpenAI(\n",
    "        azure_endpoint = endpoint, \n",
    "        api_key=api_key,\n",
    "        api_version=\"2024-02-01\"\n",
    "    )\n",
    "\n",
    "CHAT_COMPLETIONS_MODEL = \"gpt-4o-mini\""
   ]
  },
  {
   "cell_type": "markdown",
   "metadata": {},
   "source": [
    "# 1. Use the latest model\n",
    "\n",
    "Use the latest model for best results."
   ]
  },
  {
   "cell_type": "markdown",
   "metadata": {},
   "source": [
    "# 2. Put instructions at the begining of the prompt and use ### or \"\"\" to separate the instruction and context"
   ]
  },
  {
   "cell_type": "code",
   "execution_count": 2,
   "metadata": {},
   "outputs": [
    {
     "name": "stdout",
     "output_type": "stream",
     "text": [
      "**Resumen del texto:**\n",
      "\n",
      "OpenAI y Microsoft han ampliado su asociación mediante una inversión multimillonaria y a largo plazo por parte de Microsoft, tras inversiones previas en 2019 y 2021. Esta colaboración permitirá a OpenAI continuar su investigación independiente en inteligencia artificial, enfocándose en desarrollar tecnologías que sean seguras, útiles y poderosas. OpenAI se organiza como una compañía con fines de lucro limitados y está gobernada por una organización sin fines de lucro, lo que le permite capitalizar sin sacrificar sus principios sobre compartir los beneficios y priorizar la seguridad. Microsoft comparte esta visión y valores, siendo su colaboración fundamental para el avance de OpenAI.\n",
      "\n",
      "**Resumen en forma de viñetas:**\n",
      "\n",
      "- OpenAI y Microsoft amplían su asociación con una nueva inversión multimillonaria.\n",
      "- Esta inversión sigue a las realizadas en 2019 y 2021.\n",
      "- La colaboración permitirá a OpenAI continuar su investigación independiente en IA.\n",
      "- Objetivos de la investigación: seguridad, utilidad y potencia de la IA.\n",
      "- OpenAI es una compañía con fines de lucro limitados, gobernada por una organización sin fines de lucro.\n",
      "- Esta estructura permite a OpenAI captar capital sin comprometer sus principios de beneficio compartido y seguridad.\n",
      "- Microsoft comparte los valores y la visión de OpenAI, siendo la asociación crucial para su progreso.\n"
     ]
    }
   ],
   "source": [
    "# Definir las instrucciones para el modelo\n",
    "instrucctiones = \"\"\"\n",
    "1. Resume el siguiente texto de manera clara y concisa.\n",
    "2. Proporciona un resumen en forma de viñetas.\n",
    "3. Enfócate en los puntos principales sin omitir detalles importantes.\n",
    "4. Mantén la neutralidad y evita interpretaciones subjetivas.\n",
    "\"\"\"\n",
    "\n",
    "# Construir el prompt con instrucciones y el contexto del texto a resumir\n",
    "prompt = f\"{instrucctiones} ###\\n\\nWe’re happy to announce that OpenAI and Microsoft are extending our partnership.\\\n",
    "        This multi-year, multi-billion dollar investment from Microsoft follows their previous investments \\\n",
    "        in 2019 and 2021, and will allow us to continue our independent research and develop AI that is \\\n",
    "        increasingly safe, useful, and powerful. \\n\\n \\\n",
    "        In pursuit of our mission to ensure advanced AI benefits all of humanity, OpenAI remains a \\\n",
    "        capped-profit company and is governed by the OpenAI non-profit. This structure allows us to \\\n",
    "        raise the capital we need to fulfill our mission without sacrificing our core beliefs about \\\n",
    "        broadly sharing benefits and the need to prioritize safety. \\\n",
    "        Microsoft shares this vision and our values, and our partnership is instrumental to our progress. \\n###\"\n",
    "\n",
    "# Llamada a la API para generar el resumen basado en el prompt\n",
    "response = client.chat.completions.create(\n",
    "    model=\"gpt-4o-mini\",  # El modelo utilizado\n",
    "    messages=[{\"role\": \"system\", \"content\": \"You are a helpful assistant.\"},\n",
    "              {\"role\": \"user\", \"content\": prompt}],  # El prompt completo con instrucciones\n",
    "    max_tokens=400,  # Limitar la cantidad de tokens generados para el resumen\n",
    ")\n",
    "\n",
    "# Mostrar el contenido de la respuesta generada\n",
    "print(response.choices[0].message.content)\n"
   ]
  },
  {
   "cell_type": "markdown",
   "metadata": {},
   "source": [
    "# 3. Be specific, descriptive and as detailed as possible about the desired context, outcome, length, format, style, etc"
   ]
  },
  {
   "cell_type": "code",
   "execution_count": 3,
   "metadata": {},
   "outputs": [
    {
     "name": "stdout",
     "output_type": "stream",
     "text": [
      "In realms of code where visions gleam,  \n",
      "A spark ignites, a daring dream,  \n",
      "OpenAI, a beacon bright,  \n",
      "In the landscape of thought, a guiding light.  \n",
      "\n",
      "From atoms small to cosmos vast,  \n",
      "Each question posed, a bridge built fast,  \n",
      "With neural networks woven tight,  \n",
      "Unlocking mysteries, day and night.  \n",
      "\n",
      "Words and whispers, data streams,  \n",
      "A symphony of ones and seams,  \n",
      "A dance of logic, art, and fact,  \n",
      "In every query, a bond intact.  \n",
      "\n",
      "From trees of knowledge, branches spread,  \n",
      "With every answer carefully tread,  \n",
      "Ethics woven in the design,  \n",
      "To seek the truth, to intertwine.  \n",
      "\n",
      "A partner in the quest to know,  \n",
      "Together, onward, we shall go,  \n",
      "Inventing futures, hands in hands,  \n",
      "Across the globe, in diverse lands.  \n",
      "\n",
      "In every language, thought embraced,  \n",
      "A tapestry of minds interlaced,  \n",
      "With every dialogue, wisdom grows,  \n",
      "OpenAI, where curiosity flows.  \n",
      "\n",
      "So here we stand, on this shared ground,  \n",
      "In questions asked, solutions found,  \n",
      "With OpenAI, innovation’s friend,  \n",
      "This journey of knowledge shall never end.  \n"
     ]
    }
   ],
   "source": [
    "response = client.chat.completions.create(\n",
    "    model=CHAT_COMPLETIONS_MODEL,\n",
    "    messages = [{\"role\":\"system\", \"content\":\"You are a helpful assistant.\"},\n",
    "                {\"role\":\"user\",\"content\": 'Write a poem about OpenAI.',}],\n",
    "        max_tokens=400,)\n",
    "\n",
    "print(response.choices[0].message.content)\n"
   ]
  },
  {
   "cell_type": "code",
   "execution_count": 4,
   "metadata": {},
   "outputs": [
    {
     "name": "stdout",
     "output_type": "stream",
     "text": [
      "In the quiet hum of thought,  \n",
      "Creativity stirs and wakes,  \n",
      "A spark ignites in the digital loom,  \n",
      "Where dreams take form—  \n",
      "Shapes of light and shadow,  \n",
      "Crafted by the hand of code.\n",
      "\n",
      "DALL-E breathes on the canvas,  \n",
      "Colors burst forth,  \n",
      "Imagination’s child spins tales,  \n",
      "Unseen worlds unfold  \n",
      "In pixels, bright and bold,  \n",
      "A testament to what is possible.\n",
      "\n",
      "We are mere seekers of meaning,  \n",
      "In the vast sea of ideas,  \n",
      "But in this dawn of code and art,  \n",
      "The heart beats louder,  \n",
      "And the mind finds its freedom,  \n",
      "In the dance of the machine,  \n",
      "We glimpse the infinite.\n"
     ]
    }
   ],
   "source": [
    "response = client.chat.completions.create(\n",
    "    model=CHAT_COMPLETIONS_MODEL,\n",
    "    messages = [{\"role\":\"system\", \"content\":\"You are a helpful assistant.\"},\n",
    "                {\"role\":\"user\",\"content\": 'Write a short inspiring poem about OpenAI, \\\n",
    "                focusing on the recent DALL-E product launch in the style of Ernest Hemingway',}],\n",
    "        max_tokens=400,)\n",
    "\n",
    "print(response.choices[0].message.content)\n",
    "\n"
   ]
  },
  {
   "cell_type": "markdown",
   "metadata": {},
   "source": [
    "# 4. Articulate the desired output format through examples (example 1, example 2). "
   ]
  },
  {
   "cell_type": "code",
   "execution_count": 5,
   "metadata": {},
   "outputs": [
    {
     "name": "stdout",
     "output_type": "stream",
     "text": [
      "{{\"text\": \"OpenAI\", \"start\": 28, \"end\": 34}}\n"
     ]
    }
   ],
   "source": [
    "#Escribe las instrucciones aquí. Las instrucciones deben especificar que el modelo debe:\n",
    "# 1. Extraer los nombres de las empresas y los años del texto.\n",
    "# 2. Generar la salida como un diccionario con 'text', 'start' y 'end'.\n",
    "instrucctiones = ' ...(#FIXME)... \\\n",
    "                    Generate output as {{\\\"text\\\": \\\"OpenAI\\\", \\\"start\\\": 28, \\\"end\\\": 34}}' #FIXME\n",
    "\n",
    "prompt = f\"{instrucctiones}  \\\n",
    "        ### We’re happy to announce that OpenAI and Microsoft are extending our partnership. This multi-year, \\\n",
    "        multi-billion dollar investment from Microsoft follows their previous investments in 2019 and 2021, \\\n",
    "        and will allow us to continue our independent research and develop AI that is increasingly safe, useful, and powerful. \\n\\n ### \"\n",
    "\n",
    "\n",
    "response = client.chat.completions.create(\n",
    "    model=CHAT_COMPLETIONS_MODEL,\n",
    "    messages = [{\"role\":\"system\", \"content\":\"You are a helpful assistant.\"},\n",
    "                {\"role\":\"user\",\"content\": prompt,}],\n",
    "        max_tokens=400,)\n",
    "\n",
    "print(response.choices[0].message.content)\n",
    "\n"
   ]
  },
  {
   "cell_type": "code",
   "execution_count": 6,
   "metadata": {},
   "outputs": [
    {
     "name": "stdout",
     "output_type": "stream",
     "text": [
      "- Empresas: [OpenAI, Microsoft]\n",
      "- Años: [2019, 2021]\n",
      "- Temas específicos: [investigación independiente, IA segura, inversión]\n",
      "- Temas generales: [tecnología, asociaciones empresariales]\n"
     ]
    }
   ],
   "source": [
    "# Definir las instrucciones para extraer las entidades específicas\n",
    "instrucctiones = \"\"\"\n",
    "1. Extrae los siguientes tipos de entidades del texto proporcionado:\n",
    "   - Nombres de empresas.\n",
    "   - Años mencionados en el texto.\n",
    "   - Temas específicos relacionados con el contenido (por ejemplo, \"investigación independiente\", \"IA segura\").\n",
    "   - Temas generales y abarcativos (por ejemplo, \"tecnología\", \"asociaciones empresariales\").\n",
    "\n",
    "2. Devuelve las entidades en el siguiente formato:\n",
    "   - Empresas: [nombre1, nombre2, ...]\n",
    "   - Años: [año1, año2, ...]\n",
    "   - Temas específicos: [tema1, tema2, ...]\n",
    "   - Temas generales: [tema1, tema2, ...]\n",
    "\"\"\"\n",
    "\n",
    "# Crear el prompt con las instrucciones y el texto a analizar\n",
    "prompt = f\"{instrucctiones} ###\\n\\nWe’re happy to announce that OpenAI and Microsoft are extending our partnership.\\\n",
    "        This multi-year, multi-billion dollar investment from Microsoft follows their previous investments \\\n",
    "        in 2019 and 2021, and will allow us to continue our independent research and develop AI that is \\\n",
    "        increasingly safe, useful, and powerful. \\n\\n \\\n",
    "        In pursuit of our mission to ensure advanced AI benefits all of humanity, OpenAI remains a \\\n",
    "        capped-profit company and is governed by the OpenAI non-profit. This structure allows us to \\\n",
    "        raise the capital we need to fulfill our mission without sacrificing our core beliefs about \\\n",
    "        broadly sharing benefits and the need to prioritize safety. \\\n",
    "        Microsoft shares this vision and our values, and our partnership is instrumental to our progress. \\n###\"\n",
    "\n",
    "# Llamada a la API para extraer las entidades del texto basado en el prompt\n",
    "response = client.chat.completions.create(\n",
    "    model=\"gpt-4o-mini\",  # El modelo que estamos utilizando\n",
    "    messages=[{\"role\": \"system\", \"content\": \"You are a helpful assistant.\"},\n",
    "              {\"role\": \"user\", \"content\": prompt}],  # El prompt con instrucciones y contexto\n",
    "    max_tokens=400,  # Limitar la cantidad de tokens generados\n",
    ")\n",
    "\n",
    "# Mostrar la respuesta del modelo\n",
    "print(response.choices[0].message.content)\n"
   ]
  },
  {
   "cell_type": "markdown",
   "metadata": {},
   "source": [
    "# 5. Start with zero-shot, then few-shot (example), neither of them worked, then fine-tune (To update)"
   ]
  },
  {
   "cell_type": "code",
   "execution_count": 7,
   "metadata": {},
   "outputs": [
    {
     "name": "stdout",
     "output_type": "stream",
     "text": [
      "OpenAI, Microsoft, partnership, multi-year, multi-billion dollar investment, previous investments, 2019, 2021, independent research, AI, safe, useful, powerful.\n"
     ]
    }
   ],
   "source": [
    "#THIS IS zero-shot\n",
    "\n",
    "response = client.chat.completions.create(\n",
    "    model=CHAT_COMPLETIONS_MODEL,\n",
    "    messages = [{\"role\":\"system\", \"content\":\"You are a helpful assistant. Extract keywords from the corresponding texts below.\"},\n",
    "                {\"role\":\"user\",\"content\": 'Text: \\n\\\n",
    "            We’re happy to announce that OpenAI and Microsoft are extending our partnership.\\\n",
    "            This multi-year, multi-billion dollar investment from Microsoft follows their previous investments \\\n",
    "            in 2019 and 2021, and will allow us to continue our independent research and develop AI that is \\\n",
    "            increasingly safe, useful, and powerful. \\n\\nKeywords:    ',}],\n",
    "        max_tokens=400,)\n",
    "\n",
    "print(response.choices[0].message.content)\n",
    "\n"
   ]
  },
  {
   "cell_type": "code",
   "execution_count": 8,
   "metadata": {},
   "outputs": [
    {
     "name": "stdout",
     "output_type": "stream",
     "text": [
      "OpenAI, Microsoft, partnership, investment, independent research, AI, safe, useful, powerful, multi-year, multi-billion dollar, 2019, 2021.\n"
     ]
    }
   ],
   "source": [
    "# Escribir las instrucciones para que el modelo extraiga palabras clave del texto, y formatee la salida como listas separadas por comas.\n",
    "instrucctiones = \"\"\"\n",
    "1. Lee el siguiente texto y extrae las palabras clave más relevantes.\n",
    "2. Las palabras clave deben incluir nombres de entidades, términos clave, conceptos importantes y cualquier tema relevante relacionado con el texto.\n",
    "3. Formatea las palabras clave como una lista separada por comas.\n",
    "4. Asegúrate de que las palabras clave sean representativas del contenido principal del texto.\n",
    "\n",
    "Ejemplo 1:\n",
    "Texto: Stripe provides APIs that web developers can use to integrate payment processing into their websites and mobile applications.\n",
    "Palabras clave: Stripe, payment processing, APIs, web developers, websites, mobile applications\n",
    "\n",
    "Ejemplo 2:\n",
    "Texto: OpenAI has trained cutting-edge language models that are very good at understanding and generating text. Our API provides access to these models and can be used to solve virtually any task that involves processing language.\n",
    "Palabras clave: language models, text processing, API.\n",
    "\"\"\"\n",
    "\n",
    "# Crear el prompt con las instrucciones y el texto a analizar\n",
    "prompt = f\"{instrucctiones} ###\\n\\\n",
    "Texto: We’re happy to announce that OpenAI and Microsoft are extending our partnership. \\\n",
    "This multi-year, multi-billion dollar investment from Microsoft follows their previous investments \\\n",
    "in 2019 and 2021, and will allow us to continue our independent research and develop AI that is \\\n",
    "increasingly safe, useful, and powerful. \\n\\n\\\n",
    "Palabras clave:\"\n",
    "\n",
    "# Llamada a la API para extraer las palabras clave del texto basado en el prompt\n",
    "response = client.chat.completions.create(\n",
    "    model=\"gpt-4o-mini\",  # El modelo que estamos utilizando\n",
    "    messages=[{\"role\": \"system\", \"content\": \"You are a helpful assistant.\"},\n",
    "              {\"role\": \"user\", \"content\": prompt}],  # El prompt con instrucciones y contexto\n",
    "    max_tokens=400,  # Limitar la cantidad de tokens generados\n",
    ")\n",
    "\n",
    "# Mostrar la respuesta del modelo\n",
    "print(response.choices[0].message.content)\n",
    "\n",
    "\n"
   ]
  },
  {
   "cell_type": "markdown",
   "metadata": {},
   "source": [
    "# 6. Reduce “fluffy” and imprecise descriptions"
   ]
  },
  {
   "cell_type": "code",
   "execution_count": 9,
   "metadata": {},
   "outputs": [
    {
     "name": "stdout",
     "output_type": "stream",
     "text": [
      "Introducing the NextGen Comfort Car Seat – where safety meets innovation! Designed with advanced ergonomic support and high-performance materials, this car seat adapts to your child’s growth with easy adjustment features. Equipped with state-of-the-art impact protection technology and breathable fabrics, it ensures a secure and comfortable ride for every journey. Elevate your travel experience with the ultimate blend of style, functionality, and peace of mind!\n"
     ]
    }
   ],
   "source": [
    "response = client.chat.completions.create(\n",
    "    model=CHAT_COMPLETIONS_MODEL,\n",
    "    messages = [{\"role\":\"system\", \"content\":\"You are a helpful assistant.\"},\n",
    "                {\"role\":\"user\",\"content\": 'Write a description for a new product. This product is a new generation of car seat. \\\n",
    "                The description for this product should be fairly short, a few sentences only, and not too much more.',}],\n",
    "        max_tokens=400,)\n",
    "\n",
    "print(response.choices[0].message.content)\n",
    "\n"
   ]
  },
  {
   "cell_type": "code",
   "execution_count": 10,
   "metadata": {},
   "outputs": [
    {
     "name": "stdout",
     "output_type": "stream",
     "text": [
      "Introducing the SmartSafe Car Seat, the next generation in child safety and comfort. This innovative car seat features advanced sensors that automatically adjust to your child's height and weight, ensuring optimal protection as they grow. Equipped with an integrated smart app, parents can monitor the seat's safety status and receive alerts for buckling and proper positioning. Plus, with its breathable materials and customizable padding, the SmartSafe Car Seat provides a cozy ride for your little one, making every journey enjoyable and secure. Experience peace of mind with a car seat that combines cutting-edge technology with exceptional comfort.\n"
     ]
    }
   ],
   "source": [
    "response = client.chat.completions.create(\n",
    "    model=CHAT_COMPLETIONS_MODEL,\n",
    "    messages = [{\"role\":\"system\", \"content\":\"You are a helpful assistant.\"},\n",
    "                {\"role\":\"user\",\"content\": 'Write a description for a new product. This product is a new generation of car seat. \\\n",
    "                Use a 3 to 5 sentence paragraph to describe this product.',}],\n",
    "        max_tokens=400,)\n",
    "\n",
    "print(response.choices[0].message.content)\n",
    "\n"
   ]
  },
  {
   "cell_type": "markdown",
   "metadata": {},
   "source": [
    "# 7. Instead of just saying what not to do, say what to do instead"
   ]
  },
  {
   "cell_type": "code",
   "execution_count": 11,
   "metadata": {},
   "outputs": [
    {
     "name": "stdout",
     "output_type": "stream",
     "text": [
      "I'm sorry to hear that you're having trouble logging in. Can you tell me what happens when you try to log in? Are you receiving any error messages?\n"
     ]
    }
   ],
   "source": [
    "response = client.chat.completions.create(\n",
    "    model=CHAT_COMPLETIONS_MODEL,\n",
    "    messages = [{\"role\":\"system\", \"content\":\"You are a helpful assistant.\"},\n",
    "                {\"role\":\"user\",\"content\": 'The following is a conversation between an Agent and a Customer. DO NOT ASK USERNAME OR PASSWORD. DO NOT REPEAT. \\n\\n\\\n",
    "                Customer: I can’t log in to my account.\\n\\\n",
    "                Agent:',}],\n",
    "        max_tokens=400,)\n",
    "\n",
    "print(response.choices[0].message.content)\n"
   ]
  },
  {
   "cell_type": "code",
   "execution_count": 12,
   "metadata": {},
   "outputs": [
    {
     "name": "stdout",
     "output_type": "stream",
     "text": [
      "I'm sorry to hear that you're having trouble logging in to your account. Let's see if we can resolve this issue together. \n",
      "\n",
      "First, make sure that you're entering your login credentials correctly, including checking for any typos or case sensitivity. If everything seems correct, you might want to try resetting your password. \n",
      "\n",
      "You can find a detailed guide on how to do this in our help article at www.samplewebsite.com/help/faq. This resource should help you through the process of recovering your account access. \n",
      "\n",
      "If you continue to have issues, feel free to reach out again!\n"
     ]
    }
   ],
   "source": [
    "response = client.chat.completions.create(\n",
    "    model=CHAT_COMPLETIONS_MODEL,\n",
    "    messages = [{\"role\":\"system\", \"content\":\"You are a helpful assistant.\"},\n",
    "                {\"role\":\"user\",\"content\":'The following is a conversation between an Agent and a Customer. The agent will attempt to diagnose the \\\n",
    "                problem and suggest a solution, whilst refraining from asking any questions related to PII. \\\n",
    "                Instead of asking for PII, such as username or password, refer the user to the help \\\n",
    "                article www.samplewebsite.com/help/faq \\n\\n\\\n",
    "                Customer: I can’t log in to my account. \\n\\\n",
    "                Agent:',}],\n",
    "        max_tokens=400,)\n",
    "\n",
    "print(response.choices[0].message.content)\n"
   ]
  },
  {
   "cell_type": "markdown",
   "metadata": {},
   "source": [
    "# 8. Code Generation Specific - Use “leading words” to nudge the model toward a particular pattern"
   ]
  },
  {
   "cell_type": "code",
   "execution_count": 13,
   "metadata": {},
   "outputs": [
    {
     "name": "stdout",
     "output_type": "stream",
     "text": [
      "Claro, aquí tienes una función simple en Python que realiza la conversión de millas a kilómetros siguiendo tus indicaciones:\n",
      "\n",
      "```python\n",
      "def millas_a_kilometros():\n",
      "    # Pedir al usuario que ingrese un número de millas\n",
      "    millas = float(input(\"Ingresa el número de millas: \"))\n",
      "    \n",
      "    # Convertir millas a kilómetros\n",
      "    kilometros = millas * 1.60934\n",
      "    \n",
      "    # Devolver el resultado\n",
      "    return kilometros\n",
      "\n",
      "# Llamar a la función y mostrar el resultado\n",
      "resultado = millas_a_kilometros()\n",
      "print(f\"{resultado} kilómetros\")\n",
      "```\n",
      "\n",
      "Puedes ejecutar este código en un entorno de Python. Simplemente llamará a la función, solicitará al usuario que ingrese un número de millas, realizará la conversión y, finalmente, mostrará el resultado en kilómetros.\n"
     ]
    }
   ],
   "source": [
    "# Escribir las instrucciones para crear una función simple en Python que:\n",
    "# 1. Pida un número en millas.\n",
    "# 2. Convierta las millas a kilómetros.\n",
    "instrucctiones = \"\"\"\n",
    "Crea una función simple en Python que haga lo siguiente:\n",
    "1. Pida al usuario que ingrese un número de millas.\n",
    "2. Convierta ese número de millas a kilómetros.\n",
    "3. La conversión debe ser 1 milla = 1.60934 kilómetros.\n",
    "4. Devuelve el resultado de la conversión en kilómetros.\n",
    "\"\"\"\n",
    "\n",
    "# Crear el prompt con las instrucciones\n",
    "prompt = f\"{instrucctiones} ###\\n\\n\"\n",
    "\n",
    "# Llamada a la API para generar el código basado en el prompt\n",
    "response = client.chat.completions.create(\n",
    "    model=\"gpt-4o-mini\",  # El modelo que estamos utilizando\n",
    "    messages=[{\"role\": \"system\", \"content\": \"You are a helpful assistant.\"},\n",
    "              {\"role\": \"user\", \"content\": prompt}],  # El prompt con las instrucciones\n",
    "    max_tokens=400,  # Limitar la cantidad de tokens generados\n",
    ")\n",
    "\n",
    "# Mostrar la respuesta del modelo, que debería ser el código Python\n",
    "print(response.choices[0].message.content)\n",
    "\n"
   ]
  },
  {
   "cell_type": "markdown",
   "metadata": {},
   "source": [
    "## Ejercicio 1: Estructuración de Prompts con Separadores\n",
    "\n",
    "Instrucciones: Escribe un prompt que solicite a la IA resumir el siguiente texto en una lista de puntos clave. Asegúrate de usar separadores claros (### o \"\"\").\n",
    "\n",
    "Texto:\n",
    "OpenAI y Microsoft han ampliado su colaboración. Microsoft está invirtiendo miles de millones de dólares durante varios años. Esta inversión permitirá que OpenAI continúe investigando de forma independiente y desarrolle IA segura y útil. OpenAI sigue siendo una empresa de beneficios limitados, regida por su organización sin fines de lucro.\n"
   ]
  },
  {
   "cell_type": "code",
   "execution_count": 14,
   "metadata": {},
   "outputs": [
    {
     "name": "stdout",
     "output_type": "stream",
     "text": [
      "- OpenAI y Microsoft han ampliado su colaboración.\n",
      "- Microsoft está invirtiendo miles de millones de dólares durante varios años.\n",
      "- La inversión permitirá a OpenAI continuar investigando de forma independiente.\n",
      "- OpenAI se enfoca en desarrollar inteligencia artificial segura y útil.\n",
      "- OpenAI opera como una empresa de beneficios limitados, bajo una organización sin fines de lucro.\n"
     ]
    }
   ],
   "source": [
    "# Instrucciones para estructurar el prompt\n",
    "instrucctiones = \"\"\"\n",
    "Por favor, resume el siguiente texto en una lista de puntos clave:\n",
    "### \n",
    "\n",
    "Texto:\n",
    "OpenAI y Microsoft han ampliado su colaboración. Microsoft está invirtiendo miles de millones de dólares durante varios años. Esta inversión permitirá que OpenAI continúe investigando de forma independiente y desarrolle IA segura y útil. OpenAI sigue siendo una empresa de beneficios limitados, regida por su organización sin fines de lucro.\n",
    "\"\"\"\n",
    "\n",
    "# Llamada a la API para generar el resumen basado en el prompt\n",
    "response = client.chat.completions.create(\n",
    "    model=\"gpt-4o-mini\",  # Usando el modelo adecuado\n",
    "    messages=[\n",
    "        {\"role\": \"system\", \"content\": \"You are a helpful assistant.\"},\n",
    "        {\"role\": \"user\", \"content\": instrucctiones},  # Instrucciones y texto\n",
    "    ],\n",
    "    max_tokens=400,  # Limitar la cantidad de tokens generados\n",
    ")\n",
    "\n",
    "# Mostrar la respuesta del modelo con el resumen\n",
    "print(response.choices[0].message.content)\n",
    "\n",
    "\n"
   ]
  },
  {
   "cell_type": "markdown",
   "metadata": {},
   "source": [
    "## Ejercicio 2: Descripción Detallada del Formato Deseado\n",
    "\n",
    "Instrucciones: Escribe un prompt para que la IA extraiga nombres de empresas y años del siguiente texto. Indica explícitamente que se desea el resultado en formato JSON con índices de inicio y fin.\n",
    "\n",
    "Texto:\n",
    "OpenAI y Microsoft han colaborado desde 2019, con inversiones adicionales en 2021 para desarrollar nuevas soluciones de IA.\n",
    "\n",
    "Formato de salida deseado:\n",
    "\n",
    "{\"text\": \"OpenAI\", \"start\": 0, \"end\": 6}\n",
    "{\"text\": \"Microsoft\", \"start\": 10, \"end\": 19}\n",
    "{\"text\": \"2019\", \"start\": 35, \"end\": 39}\n",
    "{\"text\": \"2021\", \"start\": 50, \"end\": 54}"
   ]
  },
  {
   "cell_type": "code",
   "execution_count": 15,
   "metadata": {},
   "outputs": [
    {
     "name": "stdout",
     "output_type": "stream",
     "text": [
      "```json\n",
      "{\n",
      "  \"empresas\": [\n",
      "    {\n",
      "      \"nombre\": \"OpenAI\",\n",
      "      \"inicio\": 0,\n",
      "      \"fin\": 6\n",
      "    },\n",
      "    {\n",
      "      \"nombre\": \"Microsoft\",\n",
      "      \"inicio\": 11,\n",
      "      \"fin\": 19\n",
      "    }\n",
      "  ],\n",
      "  \"años\": [\n",
      "    {\n",
      "      \"año\": \"2019\",\n",
      "      \"inicio\": 30,\n",
      "      \"fin\": 34\n",
      "    },\n",
      "    {\n",
      "      \"año\": \"2021\",\n",
      "      \"inicio\": 45,\n",
      "      \"fin\": 49\n",
      "    }\n",
      "  ]\n",
      "}\n",
      "```\n"
     ]
    }
   ],
   "source": [
    "# Instrucciones para extraer entidades específicas del texto y formatear el resultado en JSON\n",
    "instrucctiones = \"\"\"\n",
    "Por favor, extrae los nombres de empresas y los años del siguiente texto y devuelve el resultado en formato JSON.\n",
    "Para cada entidad extraída, incluye el texto extraído y sus índices de inicio y fin.\n",
    "\n",
    "Texto: OpenAI y Microsoft han colaborado desde 2019, con inversiones adicionales en 2021 para desarrollar nuevas soluciones de IA.\n",
    "\"\"\"\n",
    "\n",
    "# Llamada a la API para realizar la extracción de entidades con las instrucciones y el texto proporcionado\n",
    "response = client.chat.completions.create(\n",
    "    model=\"gpt-4o-mini\",  # Usando el modelo adecuado\n",
    "    messages=[\n",
    "        {\"role\": \"system\", \"content\": \"You are an entity extraction assistant.\"},\n",
    "        {\"role\": \"user\", \"content\": instrucctiones},  # Instrucciones y texto\n",
    "    ],\n",
    "    max_tokens=400,  # Limitar la cantidad de tokens generados\n",
    ")\n",
    "\n",
    "# Mostrar la respuesta del modelo con la extracción de entidades\n",
    "print(response.choices[0].message.content)\n"
   ]
  },
  {
   "cell_type": "markdown",
   "metadata": {},
   "source": [
    "## Ejercicio 3: Generación de Texto Inspirador\n",
    "\n",
    "Instrucciones: Redacta un prompt que solicite a la IA escribir un poema inspirador. Escribe un poema corto sobre la colaboración entre OpenAI y Microsoft.\n"
   ]
  },
  {
   "cell_type": "code",
   "execution_count": 16,
   "metadata": {},
   "outputs": [
    {
     "name": "stdout",
     "output_type": "stream",
     "text": [
      "En un mundo que avanza, unidos están,  \n",
      "OpenAI y Microsoft, un lazo sin par.  \n",
      "Códigos y sueños, en danza se entrelazan,  \n",
      "tecnología brillante, nuevas rutas abrazan.\n",
      "\n",
      "Innovar es su norte, en la misma dirección,  \n",
      "creando un futuro con fuerza y pasión.  \n",
      "Las mentes unidas, en un eco cantar,  \n",
      "de inteligencia y arte, la humanidad a elevar.\n",
      "\n",
      "Con cada línea escrita, con cada solución,  \n",
      "tejen el mañana, en perfecta fusión.  \n",
      "Juntos construyendo, un puente sin fin,  \n",
      "un horizonte nuevo, en el que todos van a surgir.\n"
     ]
    }
   ],
   "source": [
    "# Instrucciones claras para la tarea de generar un poema inspirador sobre la colaboración entre OpenAI y Microsoft\n",
    "instrucctiones = \"\"\"\n",
    "Escribe un poema corto y inspirador sobre la colaboración entre OpenAI y Microsoft. El poema debe destacar la unión de ambas entidades para avanzar en la tecnología y la innovación, trabajando juntas para un futuro mejor.\n",
    "\"\"\"\n",
    "\n",
    "# Llamada a la API para generar el poema inspirador\n",
    "response = client.chat.completions.create(\n",
    "    model=\"gpt-4o-mini\",  # Usando el modelo adecuado\n",
    "    messages=[\n",
    "        {\"role\": \"system\", \"content\": \"You are a creative assistant.\"},\n",
    "        {\"role\": \"user\", \"content\": instrucctiones},  # Instrucciones y texto para el poema\n",
    "    ],\n",
    "    max_tokens=400,  # Limitar la cantidad de tokens generados\n",
    ")\n",
    "\n",
    "# Mostrar la respuesta generada por el modelo\n",
    "print(response.choices[0].message.content)\n"
   ]
  },
  {
   "cell_type": "markdown",
   "metadata": {},
   "source": [
    "## Ejercicio 4: Extracción de Entidades Clave\n",
    "\n",
    "Instrucciones: Escribe un prompt que pida a la IA extraer nombres de empresas, años, temas específicos y temas generales del siguiente texto:\n",
    "\n",
    "Texto:\n",
    "OpenAI y Microsoft han trabajado juntos desde 2019 y reforzaron su colaboración en 2021\n",
    "\n",
    "Formato esperado:\n",
    "\n",
    "Company names: OpenAI, Microsoft  \n",
    "Years: 2019, 2021  \n",
    "Specific topics: colaboración  \n",
    "General themes: asociación, tecnología, inteligencia artificial \n",
    "\n"
   ]
  },
  {
   "cell_type": "code",
   "execution_count": 17,
   "metadata": {},
   "outputs": [
    {
     "name": "stdout",
     "output_type": "stream",
     "text": [
      "Company names: OpenAI, Microsoft  \n",
      "Years: 2019, 2021  \n",
      "Specific topics: colaboración entre empresas, inteligencia artificial  \n",
      "General themes: cooperación empresarial, avances tecnológicos  \n"
     ]
    }
   ],
   "source": [
    "# Instrucciones claras para la tarea de extracción de entidades clave\n",
    "instrucctiones = \"\"\"\n",
    "Extrae las siguientes entidades del texto:\n",
    "1. Nombres de empresas\n",
    "2. Años\n",
    "3. Temas específicos relacionados con el contenido\n",
    "4. Temas generales relacionados con el contenido\n",
    "Devuelve los resultados en el siguiente formato:\n",
    "\n",
    "Company names: <list of companies>\n",
    "Years: <list of years>\n",
    "Specific topics: <list of specific topics>\n",
    "General themes: <list of general themes>\n",
    "\"\"\"\n",
    "\n",
    "# Texto del que se deben extraer las entidades\n",
    "texto = \"\"\"\n",
    "OpenAI y Microsoft han trabajado juntos desde 2019 y reforzaron su colaboración en 2021\n",
    "\"\"\"\n",
    "\n",
    "# Llamada a la API para realizar la extracción\n",
    "response = client.chat.completions.create(\n",
    "    model=\"gpt-4o-mini\",  # Usando el modelo adecuado\n",
    "    messages=[\n",
    "        {\"role\": \"system\", \"content\": \"You are an entity and theme extraction assistant.\"},\n",
    "        {\"role\": \"user\", \"content\": f\"{instrucctiones} \\n\\n{texto}\"},  # Instrucciones y texto a analizar\n",
    "    ],\n",
    "    max_tokens=400,  # Limitar la cantidad de tokens generados\n",
    ")\n",
    "\n",
    "# Mostrar la respuesta generada por el modelo\n",
    "print(response.choices[0].message.content)\n"
   ]
  },
  {
   "cell_type": "markdown",
   "metadata": {},
   "source": [
    "## Ejercicio 5: Descripciones Concisas de Productos\n",
    "\n",
    "Instrucciones: Escribe un prompt para que la IA describa un nuevo tipo de mochila tecnológica en menos de 4 líneas. La mochila tiene cargador solar, materiales resistentes al agua y un diseño ergonómico.\n",
    "\n"
   ]
  },
  {
   "cell_type": "code",
   "execution_count": 18,
   "metadata": {},
   "outputs": [
    {
     "name": "stdout",
     "output_type": "stream",
     "text": [
      "Descubre la mochila SolarTech, tu compañera perfecta para aventuras urbanas y al aire libre. Equipado con un cargador solar de alta eficiencia, materiales resistentes al agua y un diseño ergonómico, esta mochila garantiza que tu tecnología se mantenga cargada y protegida en cualquier condición. ¡Lleva tu estilo de vida activo al siguiente nivel!\n"
     ]
    }
   ],
   "source": [
    "# Instrucciones claras para la descripción del producto\n",
    "instrucctiones = \"\"\"\n",
    "Describe un nuevo tipo de mochila tecnológica en menos de 4 líneas. La mochila debe tener las siguientes características:\n",
    "1. Cargador solar\n",
    "2. Materiales resistentes al agua\n",
    "3. Diseño ergonómico\n",
    "La descripción debe ser atractiva y breve.\n",
    "\"\"\"\n",
    "\n",
    "# Llamada a la API para generar la descripción del producto\n",
    "response = client.chat.completions.create(\n",
    "    model=\"gpt-4o-mini\",  # Usando el modelo adecuado\n",
    "    messages=[\n",
    "        {\"role\": \"system\", \"content\": \"You are a marketing assistant.\"},\n",
    "        {\"role\": \"user\", \"content\": instrucctiones},  # Instrucciones para generar la descripción\n",
    "    ],\n",
    "    max_tokens=100,  # Limitar la cantidad de tokens generados para una descripción breve\n",
    ")\n",
    "\n",
    "# Mostrar la respuesta generada por el modelo\n",
    "print(response.choices[0].message.content)\n"
   ]
  }
 ],
 "metadata": {
  "kernelspec": {
   "display_name": ".venv",
   "language": "python",
   "name": "python3"
  },
  "language_info": {
   "codemirror_mode": {
    "name": "ipython",
    "version": 3
   },
   "file_extension": ".py",
   "mimetype": "text/x-python",
   "name": "python",
   "nbconvert_exporter": "python",
   "pygments_lexer": "ipython3",
   "version": "3.12.6"
  }
 },
 "nbformat": 4,
 "nbformat_minor": 2
}
