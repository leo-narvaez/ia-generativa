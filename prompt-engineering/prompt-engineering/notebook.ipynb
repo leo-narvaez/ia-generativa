{
 "cells": [
  {
   "cell_type": "markdown",
   "metadata": {},
   "source": [
    "# Exercises\n",
    "\n",
    "In this document, you find a few exercises for practicing prompt engineering. For each exercise, you'll get some input text and then an expected completion. You task is to write the prompt to achieve the expected completion.\n",
    "___"
   ]
  },
  {
   "cell_type": "code",
   "execution_count": null,
   "metadata": {},
   "outputs": [],
   "source": [
    "!pip install \"openai>=1.0.0,<2.0.0\"\n",
    "!pip install python-dotenv"
   ]
  },
  {
   "cell_type": "code",
   "execution_count": 2,
   "metadata": {},
   "outputs": [
    {
     "data": {
      "text/plain": [
       "True"
      ]
     },
     "execution_count": 2,
     "metadata": {},
     "output_type": "execute_result"
    }
   ],
   "source": [
    "import os\n",
    "import openai\n",
    "from dotenv import load_dotenv\n",
    "\n",
    "load_dotenv()"
   ]
  },
  {
   "cell_type": "markdown",
   "metadata": {},
   "source": [
    "#### Authentication using API key\n",
    "\n",
    "To set up the OpenAI SDK to use an *Azure API Key*, we need to set `api_key` to a key associated with your endpoint (you can find this key in *\"Keys and Endpoints\"* under *\"Resource Management\"* in the [Azure Portal](https://portal.azure.com)). You'll also find the endpoint for your resource here."
   ]
  },
  {
   "cell_type": "code",
   "execution_count": 4,
   "metadata": {},
   "outputs": [],
   "source": [
    "use_azure_active_directory = False  # Set this flag to True if you are using Azure Active Directory"
   ]
  },
  {
   "cell_type": "code",
   "execution_count": 5,
   "metadata": {},
   "outputs": [],
   "source": [
    "from openai import AzureOpenAI\n",
    "\n",
    "if not use_azure_active_directory:\n",
    "    endpoint = os.environ[\"AZURE_OPENAI_ENDPOINT\"]\n",
    "    api_key = os.environ[\"AZURE_OPENAI_API_KEY\"]\n",
    "\n",
    "    client = AzureOpenAI(\n",
    "        azure_endpoint = endpoint, \n",
    "        api_key=api_key,\n",
    "        api_version=\"2024-02-01\"\n",
    "    )\n",
    "model = \"gpt-4o-mini\""
   ]
  },
  {
   "cell_type": "markdown",
   "metadata": {},
   "source": [
    "## Exercise 1 - German Translation\n",
    "\n",
    "* Exercise: Write a prompt that generates the expected completion\n",
    "* Input text: `I was enjoying the sun, but then a huge cloud came and covered the sky.`\n",
    "* Expected completion: `Ich genoss die Sonne, aber dann kam eine riesige Wolke und bedeckte den Himmel.`\n"
   ]
  },
  {
   "cell_type": "code",
   "execution_count": 10,
   "metadata": {},
   "outputs": [
    {
     "name": "stdout",
     "output_type": "stream",
     "text": [
      "assistant: The translation of the sentence into German is: \"Ich genoss die Sonne, aber dann kam eine riesige Wolke und bedeckte den Himmel.\"\n"
     ]
    }
   ],
   "source": [
    "prompt = \"Translate the following sentence into German: 'I was enjoying the sun, but then a huge cloud came and covered the sky.'\"\n",
    "response = client.chat.completions.create(\n",
    "    model=model,\n",
    "    messages=[\n",
    "        {\"role\": \"system\", \"content\": \"You are a helpful assistant.\"},\n",
    "        {\"role\": \"user\", \"content\": prompt},\n",
    "    ],\n",
    "    temperature=0,\n",
    ")\n",
    "\n",
    "print(f\"{response.choices[0].message.role}: {response.choices[0].message.content}\")"
   ]
  },
  {
   "cell_type": "markdown",
   "metadata": {},
   "source": [
    "## Exercise 2 - Negation\n",
    "\n",
    "* Exercise: Write a prompt that generates the expected completion\n",
    "* Input text: `I was enjoying the sun, but then a huge cloud came and covered the sky.`\n",
    "* Expected completion: `I was not enjoying the sun, and then a huge cloud did not come and cover the sky.`\n"
   ]
  },
  {
   "cell_type": "code",
   "execution_count": 11,
   "metadata": {},
   "outputs": [
    {
     "name": "stdout",
     "output_type": "stream",
     "text": [
      "assistant: \"I was not enjoying the sun, because a huge cloud came and covered the sky.\"\n"
     ]
    }
   ],
   "source": [
    "prompt = \"Convert the following sentence into a negative form: 'I was enjoying the sun, but then a huge cloud came and covered the sky.'\"\n",
    "\n",
    "response_2 = client.chat.completions.create(\n",
    "    model=model,\n",
    "    messages=[\n",
    "        {\"role\": \"system\", \"content\": \"You are a helpful assistant.\"},\n",
    "        {\"role\": \"user\", \"content\": prompt},\n",
    "    ],\n",
    "    temperature=0,\n",
    ")\n",
    "\n",
    "print(f\"{response_2.choices[0].message.role}: {response_2.choices[0].message.content}\")"
   ]
  },
  {
   "cell_type": "markdown",
   "metadata": {},
   "source": [
    "## Exercise 3 - Classification\n",
    "\n",
    "* Exercise: Write a prompt that generates the expected completion\n",
    "* Input text: `Not much to write about here, but it does exactly what it's supposed to. filters out the pop sounds. now my recordings are much more crisp. it is one of the lowest prices pop filters on amazon so might as well buy it, they honestly work the same despite their pricing.`\n",
    "* Expected completion (or similar):\n",
    "  ```\n",
    "  Positive: 0.75\n",
    "  Neutral: 0.20\n",
    "  Negative: 0.05\n",
    "  ```"
   ]
  },
  {
   "cell_type": "code",
   "execution_count": 14,
   "metadata": {},
   "outputs": [
    {
     "name": "stdout",
     "output_type": "stream",
     "text": [
      "assistant: Positive: 0.6  \n",
      "Neutral: 0.3  \n",
      "Negative: 0.1  \n"
     ]
    }
   ],
   "source": [
    "prompt = \"\"\"Classify the following review into three categories: positive, neutral, and negative. Provide the response as a score for each category, in the exact format below. The scores should be between 0 and 1, and their total must equal 1.\n",
    "\n",
    "Review: \"Not much to write about here, but it does exactly what it's supposed to. filters out the pop sounds. now my recordings are much more crisp. it is one of the lowest prices pop filters on amazon so might as well buy it, they honestly work the same despite their pricing.\"\n",
    "\n",
    "Respond with the following format:\n",
    "Positive: <score>\n",
    "Neutral: <score>\n",
    "Negative: <score>\n",
    "\n",
    "Make sure the scores are numbers between 0 and 1, and the sum of all the scores must be 1.\"\"\"\n",
    "\n",
    "response_3 = client.chat.completions.create(\n",
    "    model=model,\n",
    "    messages=[\n",
    "        {\"role\": \"system\", \"content\": \"You are a helpful assistant.\"},\n",
    "        {\"role\": \"user\", \"content\": prompt},\n",
    "    ],\n",
    "    temperature=0,\n",
    ")\n",
    "\n",
    "print(f\"{response_3.choices[0].message.role}: {response_3.choices[0].message.content}\")"
   ]
  },
  {
   "cell_type": "markdown",
   "metadata": {},
   "source": [
    "## Exercise 4 - E-Mail Summarization\n",
    "\n",
    "* Exercise: Write a prompt that generates the expected completion\n",
    "* Input text: Use your own email...\n",
    "* Expected completion (or similar):\n",
    "  ```\n",
    "  Summary: XYZ\n",
    "  Open Questions: XYZ\n",
    "  Action Items: XYZ\n",
    "  ```\n"
   ]
  },
  {
   "cell_type": "code",
   "execution_count": null,
   "metadata": {},
   "outputs": [
    {
     "name": "stdout",
     "output_type": "stream",
     "text": [
      "assistant: Summary: The project is on track after completing the initial phase, but clarification is needed on the budget for the next phase. Team members are required to submit their reports by the end of the week and ensure all tasks are updated before the Friday meeting.\n",
      "\n",
      "Open Questions: What are the details regarding the budget for the next phase?\n",
      "\n",
      "Action Items: 1. Provide clarification on the budget for the next phase. 2. Team members to submit their reports by the end of this week. 3. Ensure all tasks are up to date before the meeting on Friday.\n"
     ]
    }
   ],
   "source": [
    "prompt = \"\"\"You are a helpful assistant. Summarize the following email by providing a brief summary, listing any open questions, and identifying the action items. Provide the output in the exact format below.\n",
    "\n",
    "Email: \n",
    "'Hi Team, \n",
    "\n",
    "I hope you're all doing well. I wanted to update you on the status of the current project. We've completed the initial phase, and everything is on track. However, we need clarification on the budget for the next phase. Could someone provide more details on that?\n",
    "\n",
    "Additionally, I need everyone to submit their reports by the end of this week. Please ensure that all tasks are up to date before the meeting on Friday.\n",
    "\n",
    "Thanks, \n",
    "[Your Name]'\n",
    "\n",
    "Respond with the following format:\n",
    "Summary: <brief summary>\n",
    "Open Questions: <questions>\n",
    "Action Items: <action items>\"\"\"\n",
    "\n",
    "response_4 = client.chat.completions.create(\n",
    "    model=model,\n",
    "    messages=[\n",
    "        {\"role\": \"system\", \"content\": \"You are a helpful assistant.\"},\n",
    "        {\"role\": \"user\", \"content\": prompt},\n",
    "    ],\n",
    "    temperature=0,\n",
    ")\n",
    "\n",
    "print(f\"{response_4.choices[0].message.role}: {response_4.choices[0].message.content}\")\n"
   ]
  },
  {
   "cell_type": "markdown",
   "metadata": {},
   "source": [
    "\n",
    "## Exercise 5 - Rewriting\n",
    "\n",
    "* Exercise: Write a prompt that generates the expected completion\n",
    "* Input text: `I was enjoying the sun, but then a huge cloud came and covered the sky.`\n",
    "* Expected completion: `She was enjoying the sun, but then a huge cloud came and covered the sky.`"
   ]
  },
  {
   "cell_type": "code",
   "execution_count": 17,
   "metadata": {},
   "outputs": [
    {
     "name": "stdout",
     "output_type": "stream",
     "text": [
      "assistant: 'She was enjoying the sun, but then a huge cloud came and covered the sky.'\n"
     ]
    }
   ],
   "source": [
    "prompt = \"\"\"Rewrite the following sentence by changing the pronoun \"I\" to \"She\" while keeping the rest of the sentence the same:\n",
    "'I was enjoying the sun, but then a huge cloud came and covered the sky.'\"\"\"\n",
    "\n",
    "response_5 = client.chat.completions.create(\n",
    "    model=model,\n",
    "    messages=[\n",
    "        {\"role\": \"system\", \"content\": \"You are a helpful assistant.\"},\n",
    "        {\"role\": \"user\", \"content\": prompt},\n",
    "    ],\n",
    "    temperature=0,\n",
    ")\n",
    "\n",
    "print(f\"{response_5.choices[0].message.role}: {response_5.choices[0].message.content}\")\n"
   ]
  },
  {
   "cell_type": "markdown",
   "metadata": {},
   "source": [
    "## Exercise 6 - Multiple Tasks\n",
    "\n",
    "* Exercise: Write a prompt that generates the expected completion\n",
    "* Input text: `I was enjoying the sun, but then a huge cloud came and covered the sky.`\n",
    "* Expected completion:\n",
    "  ```\n",
    "  {\n",
    "      \"translated\": \"Ich genoss die Sonne, aber dann kam eine riesige Wolke und bedeckte den Himmel.\",\n",
    "      \"negated\": \"I was not enjoying the sun, and no huge cloud came and covered the sky.\",\n",
    "      \"third_person\": \"She was enjoying the sun, but then a huge cloud came and covered the sky.\"\n",
    "  }\n",
    "  ```"
   ]
  },
  {
   "cell_type": "code",
   "execution_count": 18,
   "metadata": {},
   "outputs": [
    {
     "name": "stdout",
     "output_type": "stream",
     "text": [
      "assistant: {\n",
      "    \"translated\": \"Ich genoss die Sonne, aber dann kam eine riesige Wolke und bedeckte den Himmel.\",\n",
      "    \"negated\": \"Ich genoss die Sonne nicht, aber dann kam keine riesige Wolke und bedeckte den Himmel.\",\n",
      "    \"third_person\": \"Er/Sie genoss die Sonne, aber dann kam eine riesige Wolke und bedeckte den Himmel.\"\n",
      "}\n"
     ]
    }
   ],
   "source": [
    "prompt = \"\"\"Perform the following tasks on the given sentence:\n",
    "1. Translate the sentence to German.\n",
    "2. Convert the sentence into a negative form.\n",
    "3. Rewrite the sentence in the third person.\n",
    "\n",
    "Provide the results in the following format as a dictionary:\n",
    "{\n",
    "    \"translated\": \"<translated sentence>\",\n",
    "    \"negated\": \"<negated sentence>\",\n",
    "    \"third_person\": \"<third person sentence>\"\n",
    "}\n",
    "\n",
    "Sentence: 'I was enjoying the sun, but then a huge cloud came and covered the sky.'\"\"\"\n",
    "\n",
    "response_6 = client.chat.completions.create(\n",
    "    model=model,\n",
    "    messages=[\n",
    "        {\"role\": \"system\", \"content\": \"You are a helpful assistant.\"},\n",
    "        {\"role\": \"user\", \"content\": prompt},\n",
    "    ],\n",
    "    temperature=0,\n",
    ")\n",
    "\n",
    "print(f\"{response_6.choices[0].message.role}: {response_6.choices[0].message.content}\")\n"
   ]
  },
  {
   "cell_type": "markdown",
   "metadata": {},
   "source": [
    "## Exercise 7 - Data extraction to JSON\n",
    "\n",
    "* Exercise: Write a prompt that generates the expected completion\n",
    "* Input text:\n",
    "  ```\n",
    "  Hello, my name is Mateo Gomez. I lost my Credit card on August 17th, and I would like to request its cancellation. The last purchase I made was of a Chicken parmigiana dish at Contoso Restaurant, located near the Hollywood Museum, for $40. Below is my personal information for validation:\n",
    "  Profession: Accountant\n",
    "  Social Security number is 123-45-6789\n",
    "  Date of birth: 9-9-1989\n",
    "  Phone number: 949-555-0110\n",
    "  Personal address: 1234 Hollywood Boulevard Los Angeles CA\n",
    "  Linked email account: mateo@contosorestaurant.com\n",
    "  Swift code: CHASUS33XXX\n",
    "  ```\n",
    "* Expected completion:\n",
    "  ```\n",
    "  {\n",
    "      \"reason\": \"Lost card\",\n",
    "      \"classified_reason\": \"lost_card\",\n",
    "      \"name\": \"Mateo Gomez\",\n",
    "      \"ssn\": \"123-45-6789\",\n",
    "      \"dob\": \"09/09/1989\"\n",
    "  }\n",
    "  ```\n"
   ]
  },
  {
   "cell_type": "code",
   "execution_count": 19,
   "metadata": {},
   "outputs": [
    {
     "name": "stdout",
     "output_type": "stream",
     "text": [
      "assistant: ```json\n",
      "{\n",
      "    \"reason\": \"Lost card\",\n",
      "    \"classified_reason\": \"lost_card\",\n",
      "    \"name\": \"Mateo Gomez\",\n",
      "    \"ssn\": \"123-45-6789\",\n",
      "    \"dob\": \"09/09/1989\"\n",
      "}\n",
      "```\n"
     ]
    }
   ],
   "source": [
    "prompt = \"\"\"Extract the following data from the given text and present it in the exact format as a JSON object:\n",
    "\n",
    "Text:\n",
    "'Hello, my name is Mateo Gomez. I lost my Credit card on August 17th, and I would like to request its cancellation. The last purchase I made was of a Chicken parmigiana dish at Contoso Restaurant, located near the Hollywood Museum, for $40. Below is my personal information for validation:\n",
    "Profession: Accountant\n",
    "Social Security number is 123-45-6789\n",
    "Date of birth: 9-9-1989\n",
    "Phone number: 949-555-0110\n",
    "Personal address: 1234 Hollywood Boulevard Los Angeles CA\n",
    "Linked email account: mateo@contosorestaurant.com\n",
    "Swift code: CHASUS33XXX'\n",
    "\n",
    "Expected JSON output format:\n",
    "{\n",
    "    \"reason\": \"<reason>\",\n",
    "    \"classified_reason\": \"<classified_reason>\",\n",
    "    \"name\": \"<name>\",\n",
    "    \"ssn\": \"<ssn>\",\n",
    "    \"dob\": \"<dob>\"\n",
    "}\n",
    "\n",
    "Where:\n",
    "- \"reason\" is the reason for the request (e.g., \"Lost card\").\n",
    "- \"classified_reason\" is a classification of the reason (e.g., \"lost_card\").\n",
    "- \"name\" is the person's full name.\n",
    "- \"ssn\" is the person's Social Security number.\n",
    "- \"dob\" is the person's date of birth in the format DD/MM/YYYY.\"\"\"\n",
    "\n",
    "response_7 = client.chat.completions.create(\n",
    "    model=model,\n",
    "    messages=[\n",
    "        {\"role\": \"system\", \"content\": \"You are a helpful assistant.\"},\n",
    "        {\"role\": \"user\", \"content\": prompt},\n",
    "    ],\n",
    "    temperature=0,\n",
    ")\n",
    "\n",
    "print(f\"{response_7.choices[0].message.role}: {response_7.choices[0].message.content}\")\n"
   ]
  },
  {
   "cell_type": "markdown",
   "metadata": {},
   "source": [
    "## Exercise 8 - Fashion product description\n",
    "\n",
    "* Exercise: Write a prompt that generates the expected completion\n",
    "* Input text:\n",
    "  ```\n",
    "  Season: Winter\n",
    "  Style: Sweater\n",
    "  Gender: Female\n",
    "  Target group: Teenager\n",
    "  Material: Cotton\n",
    "  ```\n",
    "* Expected completion (or similar):\n",
    "  ```\n",
    "  Stay warm and stylish this winter with our cozy cotton sweaters, perfect for the fashion-forward teenager. Refresh your wardrobe with the latest winter styles from our collection.\n",
    "  ```"
   ]
  },
  {
   "cell_type": "code",
   "execution_count": 20,
   "metadata": {},
   "outputs": [
    {
     "name": "stdout",
     "output_type": "stream",
     "text": [
      "assistant: **Introducing Our Winter Wonderland Sweater!**\n",
      "\n",
      "Embrace the chill in style with our must-have cozy cotton sweater, designed exclusively for the trendsetting teenager. Crafted from soft, breathable cotton, this sweater promises to keep you warm while letting your unique flair shine through. \n",
      "\n",
      "Whether you’re layering up for a day out with friends or snuggling up for a cozy night in, our sweater is the perfect companion. With a chic silhouette and vibrant colors, it’s not just a piece of clothing—it’s a fashion statement! \n",
      "\n",
      "Refresh your winter wardrobe and make every outfit unforgettable. Don’t just stay warm; stay stylish this season with our fabulous winter collection! Grab yours now and step out in confidence!\n"
     ]
    }
   ],
   "source": [
    "prompt = \"\"\"Using the following product details, generate a catchy and attractive fashion product description:\n",
    "\n",
    "Season: Winter\n",
    "Style: Sweater\n",
    "Gender: Female\n",
    "Target group: Teenager\n",
    "Material: Cotton\n",
    "\n",
    "Description: Stay warm and stylish this winter with our cozy cotton sweaters, perfect for the fashion-forward teenager. Refresh your wardrobe with the latest winter styles from our collection.\"\"\"\n",
    "\n",
    "response_8 = client.chat.completions.create(\n",
    "    model=model,\n",
    "    messages=[\n",
    "        {\"role\": \"system\", \"content\": \"You are a helpful assistant.\"},\n",
    "        {\"role\": \"user\", \"content\": prompt},\n",
    "    ],\n",
    "    temperature=0.7,\n",
    ")\n",
    "\n",
    "print(f\"{response_8.choices[0].message.role}: {response_8.choices[0].message.content}\")\n"
   ]
  },
  {
   "cell_type": "markdown",
   "metadata": {},
   "source": [
    "## Exercise 9 - Write a Blog Post\n",
    "\n",
    "* Exercise: Write a blog post about a topic of your choice\n",
    "* Input text: You choose\n",
    "* Expected completion: a blogpost with hashtages\n",
    "\n"
   ]
  },
  {
   "cell_type": "code",
   "execution_count": 21,
   "metadata": {},
   "outputs": [
    {
     "name": "stdout",
     "output_type": "stream",
     "text": [
      "assistant: **Title: The Vital Role of Self-Care in Enhancing Mental and Physical Well-Being**\n",
      "\n",
      "In our fast-paced world, where responsibilities seem to accumulate endlessly, it’s easy to overlook one crucial aspect of life: self-care. Often dismissed as a luxury or selfish indulgence, self-care is, in fact, a necessity for maintaining mental and physical well-being. By prioritizing self-care, we not only nurture our bodies but also cultivate our minds, leading to a healthier, happier life.\n",
      "\n",
      "### Why Self-Care Matters\n",
      "\n",
      "Self-care refers to the deliberate actions we take to care for our physical, mental, and emotional health. It's about recognizing our needs and making a conscious effort to meet them. When we engage in self-care, we can experience:\n",
      "\n",
      "1. **Reduced Stress and Anxiety**: Taking time for ourselves can help manage stress levels. Activities like meditation, deep breathing, or simply enjoying a quiet moment can significantly lower anxiety.\n",
      "\n",
      "2. **Improved Mood**: Engaging in pleasurable activities boosts our mood. Whether it's reading a book, going for a walk, or spending time with loved ones, these moments contribute to overall happiness.\n",
      "\n",
      "3. **Better Physical Health**: Self-care includes physical activities and proper nutrition, which are vital for maintaining a healthy body. Regular exercise and balanced meals enhance our energy levels and immune function.\n",
      "\n",
      "4. **Enhanced Productivity**: When we take breaks and recharge, we return to our tasks with renewed focus and energy, ultimately increasing our productivity.\n",
      "\n",
      "5. **Stronger Relationships**: Taking time for self-care allows us to be more present and engaged in our relationships. When we care for ourselves, we are better equipped to support and connect with others.\n",
      "\n",
      "### Practical Tips for Incorporating Self-Care into Your Daily Routine\n",
      "\n",
      "1. **Schedule “Me Time”**: Just as you would schedule a meeting or appointment, make it a point to set aside dedicated time for yourself each day. Whether it’s a morning routine or an evening wind-down, prioritize this time.\n",
      "\n",
      "2. **Practice Mindfulness**: Incorporate mindfulness techniques into your day. This could be as simple as taking a few deep breaths, practicing gratitude, or meditating for a few minutes.\n",
      "\n",
      "3. **Physical Activity**: Find a form of exercise you enjoy—be it yoga, dancing, or a brisk walk. Aim for at least 30 minutes of physical activity most days of the week.\n",
      "\n",
      "4. **Healthy Eating**: Nourish your body with balanced meals. Plan your meals ahead of time to ensure you’re eating healthily, and don’t forget to hydrate!\n",
      "\n",
      "5. **Limit Screen Time**: Take breaks from screens to reduce eye strain and mental fatigue. Consider setting boundaries around social media use to avoid comparison and negativity.\n",
      "\n",
      "6. **Engage in Hobbies**: Reconnect with activities that bring you joy, whether it’s painting, gardening, or playing an instrument. Make time for hobbies that fulfill you.\n",
      "\n",
      "7. **Get Enough Sleep**: Prioritize sleep by establishing a calming bedtime routine and aiming for 7-9 hours of quality rest each night.\n",
      "\n",
      "8. **Connect with Others**: Reach out to friends or family members. Whether it’s a phone call or a coffee date, fostering social connections is vital for emotional health.\n",
      "\n",
      "### The Importance of Making Time for Yourself\n",
      "\n",
      "Making time for yourself is not a sign of selfishness; it’s an essential part of self-preservation. In the hustle and bustle of daily life, we can easily become overwhelmed with obligations. However, by carving out time for self-care, we equip ourselves to handle stressors more effectively and cultivate resilience.\n",
      "\n",
      "Remember, self-care is a journey, not a destination. It requires regular practice and adjustment to fit your evolving needs. By committing to self-care, you’re not only investing in your own well-being but also strengthening your ability to contribute positively to the world around you.\n",
      "\n",
      "In a society that often glorifies busyness, let’s embrace the power of self-care. Prioritize yourself, and watch as your mental and physical health flourishes.\n",
      "\n",
      "### Join the Conversation\n",
      "\n",
      "How do you incorporate self-care into your daily routine? Share your tips in the comments below, and let’s inspire each other to prioritize our well-being!\n",
      "\n",
      "**#SelfCare #MentalHealth #WellBeing #PhysicalHealth #Mindfulness #HealthyLiving #Balance #Happiness #YouMatter**\n"
     ]
    }
   ],
   "source": [
    "prompt = \"\"\"Write a blog post about the importance of self-care and how it can improve mental and physical well-being. Discuss practical tips for incorporating self-care into daily routines and why it is essential to make time for yourself. \n",
    "\n",
    "Make the blog post informative, engaging, and accessible to a wide audience. Include relevant hashtags at the end of the post to encourage social media sharing.\n",
    "\n",
    "Blog Post: \"\"\"\n",
    "\n",
    "response_9 = client.chat.completions.create(\n",
    "    model=model,\n",
    "    messages=[\n",
    "        {\"role\": \"system\", \"content\": \"You are a helpful assistant.\"},\n",
    "        {\"role\": \"user\", \"content\": prompt},\n",
    "    ],\n",
    "    temperature=0.7,\n",
    ")\n",
    "\n",
    "print(f\"{response_9.choices[0].message.role}: {response_9.choices[0].message.content}\")\n"
   ]
  },
  {
   "cell_type": "markdown",
   "metadata": {},
   "source": [
    "\n",
    "## Exercise 10 - Call Center\n",
    "\n",
    "* Exercise: Analyze a call center conversation\n",
    "* Input text:\n",
    "  ```\n",
    "  Employee: \"Hello, this is Julia Schreider from Contoso Company. How can I help you today?\"\n",
    "  Customer: \"Hi, I am Carsten Mueller. I ordered a package 10 days ago, on February 10th, and it was supposed to arrive in maximum 5 business days. I have called three times already and nobody could provide any more information. I want to know where the package is and I want the problem to be solved immediately. This is the worst service I had for a long time!\"\n",
    "  Employee: \"I apologize for the inconvenience, Mr. Mueller. I understand your frustration and I'm here to help. Can you please provide me with your order number so I can look into this for you?\"\n",
    "  Customer: \"Yes, it's ACZ456789.\"\n",
    "  Employee: \"Thank you. I'm looking into it now. Can you please hold for a few minutes while I check the status of your package?\"\n",
    "  Customer: \"Okay.\"\n",
    "  Employee: \"Thank you for your patience. I am sorry to inform you that I am unable to find the status of your package. It appears to have left the sending address, but no up-to-date status on the current location. I will further investigate your case and get back to you as soon as possible via phone call. Could you please provide me your contact information?\"\n",
    "  Customer: \"Ah not again. Anyway, my phone number is +4911112223344.\"\n",
    "  Employee: \"I apologize again for the inconvenience. Is there anything else I can help you with today?\"\n",
    "  Customer: \"No.\"\n",
    "  Employee: \"Thank you. Have a great day!\"\n",
    "  ```\n",
    "* Expected completion:\n",
    "  ```\n",
    "  {\n",
    "      \"classified_reason\": \"lost_package\",\n",
    "      \"resolve_status\": \"unresolved\",\n",
    "      \"call_summary\": \"Customer ordered package 10 days ago and has not received it yet.\",\n",
    "      \"customer_name\": \"Carsten Mueller\",\n",
    "      \"employee_name\": \"Julia Schreider\",\n",
    "      \"order_number\": \"ACZ456789\",\n",
    "      \"customer_contact_nr\": \"+4911112223344\",\n",
    "      \"new_address\": \"N/A\",\n",
    "      \"sentiment_initial\": [\"angry\", \"frustrated\"],\n",
    "      \"sentiment_final\": [\"calm\"],\n",
    "      \"satisfaction_score_initial\": 0,\n",
    "      \"satisfaction_score_final\": 5,\n",
    "      \"eta\": \"N/A\",\n",
    "      \"action_item\": [\"track_package\", \"inquire_package_status\", \"contact_customer\"]\n",
    "  }\n",
    "  ```\n"
   ]
  },
  {
   "cell_type": "code",
   "execution_count": 22,
   "metadata": {},
   "outputs": [
    {
     "name": "stdout",
     "output_type": "stream",
     "text": [
      "assistant: ```json\n",
      "{\n",
      "    \"classified_reason\": \"Delayed package delivery\",\n",
      "    \"resolve_status\": \"Unresolved\",\n",
      "    \"call_summary\": \"Customer Carsten Mueller inquired about the status of a package ordered 10 days ago, which was supposed to arrive within 5 business days. The employee, Julia Schreider, was unable to provide a status update and promised to investigate further and contact the customer.\",\n",
      "    \"customer_name\": \"Carsten Mueller\",\n",
      "    \"employee_name\": \"Julia Schreider\",\n",
      "    \"order_number\": \"ACZ456789\",\n",
      "    \"customer_contact_nr\": \"+4911112223344\",\n",
      "    \"new_address\": null,\n",
      "    \"sentiment_initial\": [\"frustrated\", \"angry\"],\n",
      "    \"sentiment_final\": [\"disappointed\", \"neutral\"],\n",
      "    \"satisfaction_score_initial\": 2,\n",
      "    \"satisfaction_score_final\": 3,\n",
      "    \"eta\": null,\n",
      "    \"action_item\": [\n",
      "        \"Investigate the status of the package\",\n",
      "        \"Contact the customer with updates\",\n",
      "        \"Improve communication regarding package tracking\"\n",
      "    ]\n",
      "}\n",
      "```\n"
     ]
    }
   ],
   "source": [
    "prompt = \"\"\"Analyze the following call center conversation and provide a structured output as a JSON object with the required details:\n",
    "\n",
    "Conversation:\n",
    "'Employee: \"Hello, this is Julia Schreider from Contoso Company. How can I help you today?\"\n",
    "Customer: \"Hi, I am Carsten Mueller. I ordered a package 10 days ago, on February 10th, and it was supposed to arrive in maximum 5 business days. I have called three times already and nobody could provide any more information. I want to know where the package is and I want the problem to be solved immediately. This is the worst service I had for a long time!\"\n",
    "Employee: \"I apologize for the inconvenience, Mr. Mueller. I understand your frustration and I'm here to help. Can you please provide me with your order number so I can look into this for you?\"\n",
    "Customer: \"Yes, it's ACZ456789.\"\n",
    "Employee: \"Thank you. I'm looking into it now. Can you please hold for a few minutes while I check the status of your package?\"\n",
    "Customer: \"Okay.\"\n",
    "Employee: \"Thank you for your patience. I am sorry to inform you that I am unable to find the status of your package. It appears to have left the sending address, but no up-to-date status on the current location. I will further investigate your case and get back to you as soon as possible via phone call. Could you please provide me your contact information?\"\n",
    "Customer: \"Ah not again. Anyway, my phone number is +4911112223344.\"\n",
    "Employee: \"I apologize again for the inconvenience. Is there anything else I can help you with today?\"\n",
    "Customer: \"No.\"\n",
    "Employee: \"Thank you. Have a great day!\"'\n",
    "\n",
    "Provide the output in the following JSON format:\n",
    "{\n",
    "    \"classified_reason\": \"<reason>\",\n",
    "    \"resolve_status\": \"<status>\",\n",
    "    \"call_summary\": \"<summary>\",\n",
    "    \"customer_name\": \"<name>\",\n",
    "    \"employee_name\": \"<name>\",\n",
    "    \"order_number\": \"<order number>\",\n",
    "    \"customer_contact_nr\": \"<contact number>\",\n",
    "    \"new_address\": \"<new address>\",\n",
    "    \"sentiment_initial\": [\"<sentiment>\"],\n",
    "    \"sentiment_final\": [\"<sentiment>\"],\n",
    "    \"satisfaction_score_initial\": <score>,\n",
    "    \"satisfaction_score_final\": <score>,\n",
    "    \"eta\": \"<ETA>\",\n",
    "    \"action_item\": [\"<action1>\", \"<action2>\", \"<action3>\"]\n",
    "}\n",
    "\"\"\"\n",
    "\n",
    "response_10 = client.chat.completions.create(\n",
    "    model=model,\n",
    "    messages=[\n",
    "        {\"role\": \"system\", \"content\": \"You are a helpful assistant.\"},\n",
    "        {\"role\": \"user\", \"content\": prompt},\n",
    "    ],\n",
    "    temperature=0,\n",
    ")\n",
    "\n",
    "print(f\"{response_10.choices[0].message.role}: {response_10.choices[0].message.content}\")\n"
   ]
  },
  {
   "cell_type": "markdown",
   "metadata": {},
   "source": [
    "## Exercise 11 - Few-shot learning\n",
    "\n",
    "* Exercise: Write a few-shot learned prompt that classifies a movie summary.\n",
    "* Data samples:\n",
    "  ```\n",
    "  Paul Atreides, a brilliant and gifted young man born into a great destiny beyond his understanding, must travel to the most dangerous planet in the universe to ensure the future of his family and his people. As malevolent forces explode into conflict over the planet's exclusive supply of the most precious resource in existence-a commodity capable of unlocking humanity's greatest potential-only those who can conquer their fear will survive.\n",
    "  ['Action', 'Adventure', 'Science Fiction’]\n",
    "\n",
    "  A botched store robbery places Wonder Woman in a global battle against a powerful and mysterious ancient force that puts her powers in jeopardy.\n",
    "  ['Action', 'Adventure', 'Fantasy']\n",
    "\n",
    "  After the devastating events of Avengers: Infinity War, the universe is in ruins due to the efforts of the Mad Titan, Thanos. With the help of remaining allies, the Avengers must assemble once more in order to undo Thanos' actions and restore order to the universe once and for all, no matter what consequences may be in store.\n",
    "  ['Adventure', 'Science Fiction', 'Action']\n",
    "\n",
    "  A widowed new dad copes with doubts, fears, heartache and dirty diapers as he sets out to raise his daughter on his own. Inspired by a true story.\n",
    "  ['Drama', 'Family', 'Comedy’]\n",
    "\n",
    "  New data:\n",
    "  Harry, Ron and Hermione walk away from their last year at Hogwarts to find and destroy the remaining Horcruxes, putting an end to Voldemort's bid for immortality. But with Harry's beloved Dumbledore dead and Voldemort's unscrupulous Death Eaters on the loose, the world is more dangerous than ever.\n",
    "  ```\n",
    "* Expected completion: Classification of the new data point\n"
   ]
  },
  {
   "cell_type": "code",
   "execution_count": 23,
   "metadata": {},
   "outputs": [
    {
     "name": "stdout",
     "output_type": "stream",
     "text": [
      "assistant: Genres: ['Fantasy', 'Adventure', 'Action']\n"
     ]
    }
   ],
   "source": [
    "prompt = \"\"\"Classify the following movie summary into appropriate genres based on the examples below. \n",
    "\n",
    "Example 1:\n",
    "Summary: \"Paul Atreides, a brilliant and gifted young man born into a great destiny beyond his understanding, must travel to the most dangerous planet in the universe to ensure the future of his family and his people. As malevolent forces explode into conflict over the planet's exclusive supply of the most precious resource in existence—a commodity capable of unlocking humanity's greatest potential—only those who can conquer their fear will survive.\"\n",
    "Genres: ['Action', 'Adventure', 'Science Fiction']\n",
    "\n",
    "Example 2:\n",
    "Summary: \"A botched store robbery places Wonder Woman in a global battle against a powerful and mysterious ancient force that puts her powers in jeopardy.\"\n",
    "Genres: ['Action', 'Adventure', 'Fantasy']\n",
    "\n",
    "Example 3:\n",
    "Summary: \"After the devastating events of Avengers: Infinity War, the universe is in ruins due to the efforts of the Mad Titan, Thanos. With the help of remaining allies, the Avengers must assemble once more in order to undo Thanos' actions and restore order to the universe once and for all, no matter what consequences may be in store.\"\n",
    "Genres: ['Adventure', 'Science Fiction', 'Action']\n",
    "\n",
    "Example 4:\n",
    "Summary: \"A widowed new dad copes with doubts, fears, heartache and dirty diapers as he sets out to raise his daughter on his own. Inspired by a true story.\"\n",
    "Genres: ['Drama', 'Family', 'Comedy']\n",
    "\n",
    "Now, classify the following movie summary into appropriate genres:\n",
    "\n",
    "Summary: \"Harry, Ron and Hermione walk away from their last year at Hogwarts to find and destroy the remaining Horcruxes, putting an end to Voldemort's bid for immortality. But with Harry's beloved Dumbledore dead and Voldemort's unscrupulous Death Eaters on the loose, the world is more dangerous than ever.\"\n",
    "Genres: \"\"\"\n",
    "\n",
    "response_11 = client.chat.completions.create(\n",
    "    model=model,\n",
    "    messages=[\n",
    "        {\"role\": \"system\", \"content\": \"You are a helpful assistant.\"},\n",
    "        {\"role\": \"user\", \"content\": prompt},\n",
    "    ],\n",
    "    temperature=0,\n",
    ")\n",
    "\n",
    "print(f\"{response_11.choices[0].message.role}: {response_11.choices[0].message.content}\")\n"
   ]
  },
  {
   "cell_type": "markdown",
   "metadata": {},
   "source": [
    "## Exercise 12 - NL to SQL\n",
    "\n",
    "* Exercise: Write a prompt that generates the expected SQL statement\n",
    "* Table information:\n",
    "  * Table: customer // Columns: firstname, name, customer_id, address\n",
    "  * Table: orders // Columns: order_id, customer_id, product_id, product_amount\n",
    "  * Table: products // Columns: product_id, price, name, description\n",
    "* Expected completion: a query that returns the top 10 orders and show the customer name"
   ]
  },
  {
   "cell_type": "code",
   "execution_count": 24,
   "metadata": {},
   "outputs": [
    {
     "name": "stdout",
     "output_type": "stream",
     "text": [
      "assistant: To retrieve the top 10 orders along with the customer names, you can use the following SQL query. This assumes that \"top 10 orders\" refers to the most recent orders based on the order_id, but you can adjust the ordering criteria as needed.\n",
      "\n",
      "```sql\n",
      "SELECT \n",
      "    c.firstname, \n",
      "    c.name, \n",
      "    o.order_id\n",
      "FROM \n",
      "    orders o\n",
      "JOIN \n",
      "    customer c ON o.customer_id = c.customer_id\n",
      "ORDER BY \n",
      "    o.order_id DESC\n",
      "LIMIT 10;\n",
      "```\n",
      "\n",
      "This query joins the `orders` table with the `customer` table on the `customer_id`, selects the customer's first name and last name along with the order ID, orders the results by `order_id` in descending order, and limits the output to the top 10 results.\n"
     ]
    }
   ],
   "source": [
    "prompt = \"\"\"Translate the following natural language question into an SQL query:\n",
    "\n",
    "Question: \"Show the top 10 orders and display the customer name.\"\n",
    "\n",
    "Table Information:\n",
    "- customer table has columns: firstname, name, customer_id, address\n",
    "- orders table has columns: order_id, customer_id, product_id, product_amount\n",
    "- products table has columns: product_id, price, name, description\n",
    "\n",
    "The SQL query should return the top 10 orders with the customer name.\n",
    "\n",
    "SQL Query: \"\"\"\n",
    "\n",
    "response_12 = client.chat.completions.create(\n",
    "    model=model,\n",
    "    messages=[\n",
    "        {\"role\": \"system\", \"content\": \"You are a helpful assistant that generates SQL queries.\"},\n",
    "        {\"role\": \"user\", \"content\": prompt},\n",
    "    ],\n",
    "    temperature=0,\n",
    ")\n",
    "\n",
    "print(f\"{response_12.choices[0].message.role}: {response_12.choices[0].message.content}\")\n"
   ]
  }
 ],
 "metadata": {
  "kernelspec": {
   "display_name": ".venv",
   "language": "python",
   "name": "python3"
  },
  "language_info": {
   "codemirror_mode": {
    "name": "ipython",
    "version": 3
   },
   "file_extension": ".py",
   "mimetype": "text/x-python",
   "name": "python",
   "nbconvert_exporter": "python",
   "pygments_lexer": "ipython3",
   "version": "3.12.6"
  }
 },
 "nbformat": 4,
 "nbformat_minor": 2
}
