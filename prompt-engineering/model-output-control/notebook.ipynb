{
 "cells": [
  {
   "cell_type": "markdown",
   "metadata": {},
   "source": [
    "# OpenAI Parameters"
   ]
  },
  {
   "cell_type": "markdown",
   "metadata": {},
   "source": [
    "# Overview\n",
    "When making requests to OpenAI models, several parameters can be used to control the behavior and output of the model. \\\n",
    "Understanding these parameters helps in fine-tuning the responses to meet specific requirements, whether for generating text, answering questions, or any other use case.\n",
    "\n",
    "For more detailed examples, refer to the official documentation [Azure OpenAI Service](https://learn.microsoft.com/en-us/azure/ai-services/openai/reference)\n"
   ]
  },
  {
   "cell_type": "code",
   "execution_count": 1,
   "metadata": {},
   "outputs": [],
   "source": [
    "import re\n",
    "import requests\n",
    "import sys\n",
    "import os\n",
    "from openai import AzureOpenAI\n",
    "import tiktoken\n",
    "from dotenv import load_dotenv\n",
    "load_dotenv()\n",
    "\n",
    "endpoint = os.environ[\"AZURE_OPENAI_ENDPOINT\"]\n",
    "api_key = os.environ[\"AZURE_OPENAI_API_KEY\"]\n",
    "\n",
    "client = AzureOpenAI(\n",
    "        azure_endpoint = endpoint, \n",
    "        api_key=api_key,\n",
    "        api_version=\"2024-02-01\"\n",
    "    )\n",
    "\n",
    "CHAT_COMPLETIONS_MODEL = \"gpt-4o-mini\"\n",
    "SEED = 123"
   ]
  },
  {
   "cell_type": "markdown",
   "metadata": {},
   "source": [
    "# Parameter: max_tokens\n",
    "**Description**: The maximum number of tokens to generate in the completion. \\\n",
    "**Default**: 16 \\\n",
    "**Example**: max_tokens=50\n",
    "\n",
    "The token count of your prompt plus max_tokens can't exceed the model's context length. \\\n",
    "Most models have a context length of 2048 tokens (except for the newest models, which support 4096). Please refer to documentation."
   ]
  },
  {
   "cell_type": "code",
   "execution_count": 5,
   "metadata": {},
   "outputs": [
    {
     "name": "stdout",
     "output_type": "stream",
     "text": [
      "Max Tokens: 16\n",
      "\n",
      "The best pet can vary greatly depending on individual preferences, lifestyles, and living situations\n",
      "\n",
      "--------------------------------------------------------------------------------\n",
      "\n",
      "Max Tokens: 32\n",
      "\n",
      "The best pet is subjective and can vary based on individual preferences, lifestyles, and living situations. Some people love dogs for their companionship and loyalty, while others prefer\n",
      "\n",
      "--------------------------------------------------------------------------------\n",
      "\n",
      "Max Tokens: 60\n",
      "\n",
      "The best pet can vary greatly depending on individual preferences, lifestyles, and living situations. Here are a few popular options, along with their benefits:\n",
      "\n",
      "1. **Dogs**: Known for their loyalty and companionship, dogs are great for active individuals or families. They require exercise and socialization.\n",
      "\n",
      "2.\n",
      "\n",
      "--------------------------------------------------------------------------------\n",
      "\n",
      "Max Tokens: 100\n",
      "\n",
      "The best pet can vary greatly depending on individual preferences, lifestyles, and living situations. Here are a few popular options:\n",
      "\n",
      "1. **Dogs** - Known for their loyalty and companionship, dogs are often called \"man's best friend.\" They require regular exercise and attention but offer unconditional love.\n",
      "\n",
      "2. **Cats** - Cats are more independent than dogs and can be a great choice for people with busy lifestyles. They are often affectionate and playful.\n",
      "\n",
      "3. **Fish** - An aquarium can be a beautiful\n",
      "\n",
      "--------------------------------------------------------------------------------\n",
      "\n"
     ]
    }
   ],
   "source": [
    "def call_openai_with_max_tokens(max_tokens):\n",
    "    response = client.chat.completions.create(\n",
    "          model=\"gpt-4o-mini\",\n",
    "          messages = [{\"role\":\"system\", \"content\":\"You are a helpful assistant.\"},\n",
    "                    {\"role\":\"user\",\"content\": \"The best pet is a\"}],\n",
    "                    max_tokens=max_tokens\n",
    "    )\n",
    "    return response.choices[0].message.content\n",
    "\n",
    "# Generate with different presence_penalty values\n",
    "penalties = [16, 32, 60, 100]\n",
    "for penalty in penalties:\n",
    "    print(f\"Max Tokens: {penalty}\\n\")\n",
    "    print(call_openai_with_max_tokens(penalty))\n",
    "    print(\"\\n\" + \"-\"*80 + \"\\n\")"
   ]
  },
  {
   "cell_type": "markdown",
   "metadata": {},
   "source": [
    "# Parameter: temperature\n",
    "\n",
    "**Description**: Controls the randomness of the output. Lower values make the output more deterministic, while higher values increase randomness. \\\n",
    "**Value Range**: 0 to 1 \\\n",
    "**Default Value**: 1 \\\n",
    "**Example**: temperature=0.7\n",
    "\n",
    "Higher values means the model will take more risks. \\\n",
    "Try 0.9 for more creative applications, and 0 (argmax sampling) for ones with a well-defined answer.\n",
    "\n",
    "---\n",
    "**NOTE**: We generally recommend altering this or top_p but not both.\n"
   ]
  },
  {
   "cell_type": "code",
   "execution_count": 6,
   "metadata": {},
   "outputs": [],
   "source": [
    "def call_openai(num_times, prompt, temperature=0.75, use_seed=False):\n",
    "    for i in range(num_times):\n",
    "        if use_seed:\n",
    "            response = client.chat.completions.create(\n",
    "                model=\"gpt-4o-mini\",\n",
    "                messages=[{\"role\": \"user\", \"content\": prompt}],\n",
    "                max_tokens=60,\n",
    "                seed=SEED,\n",
    "                temperature=temperature\n",
    "            )\n",
    "        else:\n",
    "            response = client.chat.completions.create(\n",
    "                model=\"gpt-4o-mini\",\n",
    "                messages=[{\"role\": \"user\", \"content\": prompt}],\n",
    "                max_tokens=60,\n",
    "                temperature=temperature\n",
    "            )\n",
    "        print(response.choices[0].message.content)"
   ]
  },
  {
   "cell_type": "code",
   "execution_count": 7,
   "metadata": {},
   "outputs": [
    {
     "name": "stdout",
     "output_type": "stream",
     "text": [
      "The best pet is often subjective and depends on individual preferences and lifestyles. Here are a few popular options:\n",
      "\n",
      "1. **Dogs**: Known for their loyalty and companionship, dogs are great for active individuals or families.\n",
      "2. **Cats**: Independent and low-maintenance, cats are perfect for people\n",
      "The best pet is subjective and depends on individual preferences, lifestyles, and circumstances. Some people might find dogs to be the best pets because of their loyalty and companionship, while others might prefer cats for their independence and low maintenance. Small animals like hamsters, rabbits, or guinea pigs can be great for\n",
      "The best pet can vary greatly depending on individual preferences, lifestyle, and needs. Some people might say dogs are the best pets because of their loyalty and companionship. Others might prefer cats for their independence and low-maintenance nature. Small animals like hamsters or guinea pigs can be great for those with limited\n",
      "The best pet is often subjective and depends on individual preferences, lifestyles, and needs. For some, dogs are considered the best pets due to their loyalty and companionship. Others may prefer cats for their independence and low-maintenance nature. Some people find joy in small animals like hamsters or rabbits, while\n",
      "The best pet is often considered to be one that matches an individual's lifestyle, preferences, and needs. For example:\n",
      "\n",
      "- **Dogs**: Great for companionship, loyalty, and activity; they require regular exercise and social interaction.\n",
      "- **Cats**: Independent and low-maintenance; perfect for those who\n",
      "The best pet can vary greatly depending on individual preferences, lifestyles, and living situations. Here are a few popular options:\n",
      "\n",
      "1. **Dogs**: Known for their loyalty and companionship, dogs can be great for active individuals or families. They require regular exercise and social interaction.\n",
      "\n",
      "2. **Cats**\n",
      "The best pet can vary greatly depending on individual preferences, lifestyles, and circumstances. Here are a few popular options:\n",
      "\n",
      "1. **Dogs**: Known for their loyalty and companionship, dogs are often considered \"man's best friend.\" They require regular exercise and social interaction.\n",
      "\n",
      "2. **Cats**: Cats\n",
      "The best pet really depends on individual preferences, lifestyle, and living situation. Some people may find dogs to be the best pets due to their loyalty and companionship, while others might prefer cats for their independence and low-maintenance nature. Small pets like hamsters or guinea pigs can be great for those with\n",
      "The best pet can vary greatly depending on individual preferences and lifestyles. Some people may find dogs to be the best companions due to their loyalty and energy, while others might prefer cats for their independence and low maintenance. Small animals like hamsters or guinea pigs can be great for those with limited space, and\n",
      "The best pet can vary greatly depending on individual preferences, lifestyles, and living situations. Here are a few popular options, each with their own unique benefits:\n",
      "\n",
      "1. **Dogs**: Often considered loyal companions, dogs are known for their affectionate nature and ability to bond with humans. They require regular exercise\n"
     ]
    }
   ],
   "source": [
    "# Without seed and temperature, the response is different each time\n",
    "call_openai(10, 'The best pet is a ')"
   ]
  },
  {
   "cell_type": "code",
   "execution_count": null,
   "metadata": {},
   "outputs": [
    {
     "name": "stdout",
     "output_type": "stream",
     "text": [
      "The best pet can vary greatly depending on individual preferences, lifestyles, and living situations. Here are a few popular options:\n",
      "\n",
      "1. **Dogs**: Known for their loyalty and companionship, dogs are often considered \"man's best friend.\" They require regular exercise and social interaction.\n",
      "\n",
      "2. **Cats**:\n",
      "The best pet can vary greatly depending on individual preferences, lifestyles, and living situations. Here are a few popular options:\n",
      "\n",
      "1. **Dogs**: Known for their loyalty and companionship, dogs are often considered \"man's best friend.\" They require regular exercise and social interaction.\n",
      "\n",
      "2. **Cats**:\n",
      "The best pet can vary greatly depending on individual preferences, lifestyles, and living situations. Here are a few popular options:\n",
      "\n",
      "1. **Dogs**: Known for their loyalty and companionship, dogs are often considered \"man's best friend.\" They require regular exercise and social interaction.\n",
      "\n",
      "2. **Cats**:\n",
      "The best pet can vary greatly depending on individual preferences, lifestyles, and living situations. Here are a few popular options:\n",
      "\n",
      "1. **Dogs**: Known for their loyalty and companionship, dogs are often considered \"man's best friend.\" They require regular exercise and social interaction.\n",
      "\n",
      "2. **Cats**:\n",
      "The best pet can vary greatly depending on individual preferences, lifestyles, and living situations. Here are a few popular options:\n",
      "\n",
      "1. **Dogs**: Known for their loyalty and companionship, dogs are often considered \"man's best friend.\" They require regular exercise and social interaction.\n",
      "\n",
      "2. **Cats**:\n",
      "The best pet can vary greatly depending on individual preferences, lifestyles, and living situations. Here are a few popular options:\n",
      "\n",
      "1. **Dogs**: Known for their loyalty and companionship, dogs are often considered \"man's best friend.\" They require regular exercise and social interaction.\n",
      "\n",
      "2. **Cats**:\n",
      "The best pet can vary greatly depending on individual preferences, lifestyles, and living situations. Here are a few popular options:\n",
      "\n",
      "1. **Dogs**: Known for their loyalty and companionship, dogs are great for active individuals or families. They require regular exercise and social interaction.\n",
      "\n",
      "2. **Cats**:\n",
      "The best pet can vary greatly depending on individual preferences, lifestyles, and living situations. Here are a few popular options:\n",
      "\n",
      "1. **Dogs**: Known for their loyalty and companionship, dogs are often considered \"man's best friend.\" They require regular exercise and social interaction.\n",
      "\n",
      "2. **Cats**:\n",
      "The best pet can vary greatly depending on individual preferences, lifestyles, and living situations. Here are a few popular options:\n",
      "\n",
      "1. **Dogs**: Known for their loyalty and companionship, dogs are often considered \"man's best friend.\" They require regular exercise and social interaction.\n",
      "\n",
      "2. **Cats**:\n",
      "The best pet can vary greatly depending on individual preferences, lifestyles, and living situations. Here are a few popular options:\n",
      "\n",
      "1. **Dogs**: Known for their loyalty and companionship, dogs are often considered \"man's best friend.\" They require regular exercise and social interaction.\n",
      "\n",
      "2. **Cats**:\n"
     ]
    }
   ],
   "source": [
    "# Now using a seed and 0 temperature, the response is the much more consisitent\n",
    "call_openai(10, 'The best pet is a ', temperature = 0, use_seed=True)"
   ]
  },
  {
   "cell_type": "markdown",
   "metadata": {},
   "source": [
    "# Parameter: n\n",
    "**Description**: Specifies the number of completions to generate for each prompt. \\\n",
    "**Default Value**: 1 \\\n",
    "**Example**: n = 3 \n",
    "\n",
    "---\n",
    "**Note**: Because this parameter generates many completions, it can quickly consume your token quota. Use carefully and ensure that you have reasonable settings for max_tokens and stop."
   ]
  },
  {
   "cell_type": "code",
   "execution_count": 9,
   "metadata": {},
   "outputs": [],
   "source": [
    "def call_openai_with_n(num_times, prompt, temperature=0.75, n=1):\n",
    "    for i in range(num_times):\n",
    "        response = client.chat.completions.create(\n",
    "            model=\"gpt-4o-mini\",\n",
    "            messages=[{\"role\": \"user\", \"content\": prompt}],\n",
    "            max_tokens=60,\n",
    "            temperature=temperature,\n",
    "            n=n\n",
    "        )\n",
    "        \n",
    "        # Imprimir todas las completions generadas\n",
    "        for index, c in enumerate(response.choices):\n",
    "            print(f\"Completion {index + 1}: {c.message.content}\")\n"
   ]
  },
  {
   "cell_type": "code",
   "execution_count": 10,
   "metadata": {},
   "outputs": [
    {
     "name": "stdout",
     "output_type": "stream",
     "text": [
      "Completion 1: The integration of artificial intelligence (AI) in education offers numerous benefits that enhance teaching, learning, and administrative processes. Here are some key advantages:\n",
      "\n",
      "1. **Personalized Learning**: AI can tailor educational experiences to meet the individual needs of students. By analyzing learning patterns, strengths, and weaknesses,\n",
      "Completion 2: Artificial Intelligence (AI) is transforming education in numerous ways, offering various benefits that enhance teaching and learning experiences. Here are some of the significant advantages:\n",
      "\n",
      "1. **Personalized Learning**: AI can tailor educational experiences to meet individual students' needs, preferences, and learning paces. By analyzing performance\n",
      "Completion 3: The integration of AI in education offers a multitude of benefits that enhance the learning experience, streamline administrative tasks, and foster personalized education. Here are some key advantages:\n",
      "\n",
      "1. **Personalized Learning**: AI can analyze individual student data to customize learning experiences. This enables adaptive learning platforms that cater to a\n"
     ]
    }
   ],
   "source": [
    "prompt = \"Describe the benefits of using AI in education.\"\n",
    "call_openai_with_n(1, prompt, temperature=0.9, n=3)"
   ]
  },
  {
   "cell_type": "markdown",
   "metadata": {},
   "source": [
    "# Parameter: presence_penalty\n",
    "**Description**: Penalizes new tokens based on whether they appear in the text so far, encouraging the model to use new tokens. \\\n",
    "**Value Range**: -2.0 to 2.0 \\\n",
    "**Default Value**: 0 \\\n",
    "**Example**: presence_penalty=0.5"
   ]
  },
  {
   "cell_type": "code",
   "execution_count": 12,
   "metadata": {},
   "outputs": [
    {
     "name": "stdout",
     "output_type": "stream",
     "text": [
      "Presence Penalty: 0\n",
      "\n",
      "The best pet is often subjective and can vary based on individual preferences, lifestyles, and living situations. Some people may find dogs to be the best pets due to their loyalty and companionship, while others might prefer cats for their independence and low maintenance. Small pets like hamsters, guinea pigs, or rabbits\n",
      "\n",
      "--------------------------------------------------------------------------------\n",
      "\n",
      "Presence Penalty: 0.5\n",
      "\n",
      "The best pet can vary from person to person, depending on individual preferences, lifestyles, and living situations. Some popular options include:\n",
      "\n",
      "1. **Dogs**: Known for their loyalty, companionship, and ability to bond closely with humans. They require regular exercise and attention.\n",
      "\n",
      "2. **Cats**:\n",
      "\n",
      "--------------------------------------------------------------------------------\n",
      "\n",
      "Presence Penalty: 1.0\n",
      "\n",
      "The best pet can vary depending on individual preferences, lifestyles, and needs. Here are a few popular options:\n",
      "\n",
      "1. **Dogs** - Known for their loyalty and companionship, they require regular exercise and social interaction.\n",
      "2. **Cats** - Independent yet affectionate, cats can be lower maintenance than dogs\n",
      "\n",
      "--------------------------------------------------------------------------------\n",
      "\n",
      "Presence Penalty: 1.5\n",
      "\n",
      "The best pet really depends on your lifestyle, preferences, and living situation. Here are a few popular options:\n",
      "\n",
      "1. **Dogs** - Often considered loyal companions, dogs are playful, trainable, and great for active individuals and families.\n",
      "2. **Cats** - Independent yet affectionate, cats can\n",
      "\n",
      "--------------------------------------------------------------------------------\n",
      "\n",
      "Presence Penalty: 2.0\n",
      "\n",
      "The best pet really depends on your lifestyle, preferences, and living situation! Here are some popular options:\n",
      "\n",
      "1. **Dogs**: Known for their loyalty and companionship, dogs can be great pets if you have the time to train and exercise them.\n",
      "\n",
      "2. **Cats**: Cats are generally more\n",
      "\n",
      "--------------------------------------------------------------------------------\n",
      "\n"
     ]
    }
   ],
   "source": [
    "def call_openai_with_presence_penalty(presence_penalty):\n",
    "    response = client.chat.completions.create(\n",
    "        model=\"gpt-4o-mini\",\n",
    "        messages=[{\"role\": \"system\", \"content\": \"You are a helpful assistant.\"},\n",
    "                  {\"role\": \"user\", \"content\": \"The best pet is a\"}],\n",
    "        max_tokens=60,\n",
    "        presence_penalty=presence_penalty\n",
    "    )\n",
    "    \n",
    "    # Retornar la respuesta generada\n",
    "    return response.choices[0].message.content\n",
    "\n",
    "# Generar respuestas con diferentes valores de presence_penalty\n",
    "penalties = [0, 0.5, 1.0, 1.5, 2.0]\n",
    "for penalty in penalties:\n",
    "    print(f\"Presence Penalty: {penalty}\\n\")\n",
    "    print(call_openai_with_presence_penalty(penalty))\n",
    "    print(\"\\n\" + \"-\"*80 + \"\\n\")\n"
   ]
  },
  {
   "cell_type": "markdown",
   "metadata": {},
   "source": [
    "# Parameter: frequency_penalty\n",
    "**Description**: Penalizes new tokens based on their existing frequency in the text so far, reducing the likelihood of repeating the same line verbatim. \\\n",
    "**Value Range**: -2.0 to 2.0 \\\n",
    "**Default Value**: 0 \\\n",
    "**Example**: frequency_penalty=0.5"
   ]
  },
  {
   "cell_type": "markdown",
   "metadata": {},
   "source": [
    "#### Use cases to explore\n",
    "1. **Compare Responses** \\\n",
    "Generate multiple completions to compare and choose the best response for your use case.\n",
    "\n",
    "2. **Increase Diversity** \\\n",
    "Use multiple completions to get a variety of responses, which is useful in creative applications.\n",
    "\n",
    "3. **Enhance Robustness** \\\n",
    "Generate multiple responses to ensure consistency and accuracy across different completions.\n",
    "\n",
    "#### Best Practices\n",
    "1. **Optimize Prompt Length** \\\n",
    "Keep your prompts concise but informative to ensure the model has enough context.\n",
    "\n",
    "2. **Adjust Temperature and Top_p** \\\n",
    "Use these parameters to balance between deterministic and creative responses.\n",
    "\n",
    "3. **Monitor Token Usage** \\\n",
    "Be mindful of the max_tokens parameter to manage costs and response length.\n",
    "\n",
    "4. **Use Stopping Sequences** \\\n",
    "Define stopping sequences to control where the model should stop generating text, ensuring the output is within the desired context.\n",
    "\n",
    "5. **Generate Multiple Completions** \\\n",
    "Use the n parameter to generate multiple completions and select the best one for your needs."
   ]
  },
  {
   "cell_type": "markdown",
   "metadata": {},
   "source": [
    "## Exercise 1: Exploring 'top_p' Parameter\n",
    "### Description:\n",
    "- The 'top_p' parameter controls nucleus sampling. Lower values make the output more focused by limiting the pool of tokens.\n",
    "\n",
    "### Task:\n",
    "- Write a function that calls the model with different 'top_p' values and observe how the output changes.\n"
   ]
  },
  {
   "cell_type": "code",
   "execution_count": 16,
   "metadata": {},
   "outputs": [
    {
     "name": "stdout",
     "output_type": "stream",
     "text": [
      "Top P: 0.1\n",
      "\n",
      "Exercise offers a wide range of benefits for both physical and mental health. Here are some of the key advantages:\n",
      "\n",
      "### Physical Health Benefits:\n",
      "1. **Improved Cardiovascular Health**: Regular exercise strengthens the heart, improves circulation, and helps lower blood pressure and cholesterol levels.\n",
      "2. **Weight Management\n",
      "\n",
      "--------------------------------------------------------------------------------\n",
      "\n",
      "Top P: 0.3\n",
      "\n",
      "Exercise offers a wide range of benefits for both physical and mental health. Here are some of the key advantages:\n",
      "\n",
      "### Physical Health Benefits:\n",
      "1. **Improved Cardiovascular Health**: Regular exercise strengthens the heart, improves circulation, and helps lower blood pressure and cholesterol levels.\n",
      "2. **Weight Management\n",
      "\n",
      "--------------------------------------------------------------------------------\n",
      "\n",
      "Top P: 0.7\n",
      "\n",
      "Exercise offers a wide range of benefits for both physical and mental health. Here are some of the key advantages:\n",
      "\n",
      "### Physical Health Benefits:\n",
      "1. **Improved Cardiovascular Health**: Regular exercise strengthens the heart, improves circulation, and can lower blood pressure and cholesterol levels, reducing the risk of heart\n",
      "\n",
      "--------------------------------------------------------------------------------\n",
      "\n",
      "Top P: 1.0\n",
      "\n",
      "Exercise offers a wide range of benefits that can improve physical, mental, and emotional well-being. Here are some of the key benefits:\n",
      "\n",
      "### Physical Benefits\n",
      "1. **Improves Cardiovascular Health**: Regular exercise strengthens the heart, improves blood circulation, and reduces the risk of heart disease.\n",
      "2\n",
      "\n",
      "--------------------------------------------------------------------------------\n",
      "\n"
     ]
    }
   ],
   "source": [
    "def call_openai_with_top_p(top_p):\n",
    "    response = client.chat.completions.create(\n",
    "        model=\"gpt-4o-mini\",\n",
    "        messages=[{\"role\": \"system\", \"content\": \"You are a helpful assistant.\"},\n",
    "                  {\"role\": \"user\", \"content\": \"Describe the benefits of exercise.\"}],\n",
    "        max_tokens=60,\n",
    "        top_p=top_p\n",
    "    )\n",
    "    \n",
    "    # Retornar la respuesta generada\n",
    "    return response.choices[0].message.content\n",
    "\n",
    "# Probar con diferentes valores de top_p\n",
    "top_p_values = [0.1, 0.3, 0.7, 1.0]\n",
    "for value in top_p_values:\n",
    "    print(f\"Top P: {value}\\n\")\n",
    "    print(call_openai_with_top_p(value))\n",
    "    print(\"\\n\" + \"-\"*80 + \"\\n\")\n"
   ]
  },
  {
   "cell_type": "markdown",
   "metadata": {},
   "source": [
    "## Exercise 2: Frequency Penalty Exploration\n",
    "### Description:\n",
    "- This exercise will explore how the 'frequency_penalty' parameter affects the model's tendency to repeat itself.\n",
    "\n",
    "### Task:\n",
    "- Generate completions using different frequency_penalty values and note the diversity in responses.\n",
    "\n"
   ]
  },
  {
   "cell_type": "code",
   "execution_count": 17,
   "metadata": {},
   "outputs": [
    {
     "name": "stdout",
     "output_type": "stream",
     "text": [
      "Frequency Penalty: -1.0\n",
      "\n",
      "A fun fact about space is that there is some water floating in space! Scientists have discovered massive cloud formations of water vapor in space, with one of the largest being around a black hole called APM 08279+5255. This cloud holds about 140 trillion times the amount of water in\n",
      "\n",
      "--------------------------------------------------------------------------------\n",
      "\n",
      "Frequency Penalty: 0.0\n",
      "\n",
      "A fun fact about space is that a day on Venus is longer than a year on Venus! It takes Venus about 243 Earth days to rotate once on its axis (a single day), but it only takes about 225 Earth days to complete one orbit around the Sun (a year). This unusual\n",
      "\n",
      "--------------------------------------------------------------------------------\n",
      "\n",
      "Frequency Penalty: 1.0\n",
      "\n",
      "Sure! Did you know that there are more stars in the universe than grains of sand on all the beaches on Earth? It's estimated that there are about 100 billion to 200 billion galaxies, each containing millions or even trillions of stars. This means that the total number of stars is in the\n",
      "\n",
      "--------------------------------------------------------------------------------\n",
      "\n",
      "Frequency Penalty: 2.0\n",
      "\n",
      "A fun fact about space is that it is completely silent! Unlike on Earth, where sound waves travel through air, space has no atmosphere to carry sound. This means that if you were to shout in space, no one would hear you! The only way we can \"hear\" sounds from space is\n",
      "\n",
      "--------------------------------------------------------------------------------\n",
      "\n"
     ]
    }
   ],
   "source": [
    "def call_openai_with_frequency_penalty(frequency_penalty):\n",
    "    response = client.chat.completions.create(\n",
    "        model=\"gpt-4o-mini\",\n",
    "        messages=[{\"role\": \"system\", \"content\": \"You are a helpful assistant.\"},\n",
    "                  {\"role\": \"user\", \"content\": \"Tell me a fun fact about space.\"}],\n",
    "        max_tokens=60,\n",
    "        frequency_penalty=frequency_penalty\n",
    "    )\n",
    "    \n",
    "    # Retornar la respuesta generada\n",
    "    return response.choices[0].message.content\n",
    "\n",
    "# Probar con diferentes valores de frequency_penalty\n",
    "penalties = [-1.0, 0.0, 1.0, 2.0]\n",
    "for penalty in penalties:\n",
    "    print(f\"Frequency Penalty: {penalty}\\n\")\n",
    "    print(call_openai_with_frequency_penalty(penalty))\n",
    "    print(\"\\n\" + \"-\"*80 + \"\\n\")\n"
   ]
  },
  {
   "cell_type": "markdown",
   "metadata": {},
   "source": [
    "## Exercise 3: Multi-Completion with 'n' Parameter\n",
    "### Description:\n",
    "- This exercise will help students generate multiple completions for the same prompt and compare the results.\n",
    "\n",
    "### Task:\n",
    "- Generate 3 completions for the same prompt by adjusting the 'n' parameter.\n"
   ]
  },
  {
   "cell_type": "code",
   "execution_count": 19,
   "metadata": {},
   "outputs": [
    {
     "name": "stdout",
     "output_type": "stream",
     "text": [
      "Completion 1: Regular exercise offers a wide range of benefits for both physical and mental health. Here are some key advantages:\n",
      "\n",
      "### Physical Health Benefits\n",
      "\n",
      "1. **Improved Cardiovascular Health**: Regular exercise strengthens the heart, enhances circulation, and reduces the risk of heart disease and stroke.\n",
      "\n",
      "2. **Weight Management\n",
      "\n",
      "--------------------------------------------------------------------------------\n",
      "\n",
      "Completion 2: Regular exercise offers a wide range of benefits for both physical and mental health. Here are some key advantages:\n",
      "\n",
      "### Physical Health Benefits:\n",
      "\n",
      "1. **Improved Cardiovascular Health**: Exercise strengthens the heart, improves circulation, and enhances the efficiency of the cardiovascular system, reducing the risk of heart disease.\n",
      "\n",
      "\n",
      "\n",
      "--------------------------------------------------------------------------------\n",
      "\n",
      "Completion 3: Regular exercise offers a wide range of benefits for both physical and mental health. Here are some key advantages:\n",
      "\n",
      "### Physical Health Benefits:\n",
      "\n",
      "1. **Improved Cardiovascular Health**: Regular exercise strengthens the heart, improves circulation, and can lower blood pressure and cholesterol levels, reducing the risk of heart disease\n",
      "\n",
      "--------------------------------------------------------------------------------\n",
      "\n"
     ]
    }
   ],
   "source": [
    "response = client.chat.completions.create(\n",
    "    model=\"gpt-4o-mini\",\n",
    "    messages=[{\"role\": \"system\", \"content\": \"You are a helpful assistant.\"},\n",
    "              {\"role\": \"user\", \"content\": \"Describe the benefits of regular exercise.\"}],\n",
    "    max_tokens=60,\n",
    "    n=3\n",
    ")\n",
    "\n",
    "# Iteramos sobre las opciones generadas para imprimir las respuestas\n",
    "for index, c in enumerate(response.choices):\n",
    "    print(f\"Completion {index + 1}: {c.message.content}\")\n",
    "    print(\"\\n\" + \"-\"*80 + \"\\n\")\n"
   ]
  },
  {
   "cell_type": "markdown",
   "metadata": {},
   "source": [
    "## Exercise 4: Temperature vs. Deterministic Output\n",
    "### Description:\n",
    "- Adjust the 'temperature' parameter to explore the balance between creative and deterministic responses.\n",
    "\n",
    "### Task:\n",
    "- Generate completions with different temperature values and analyze the variance in output.\n"
   ]
  },
  {
   "cell_type": "code",
   "execution_count": 20,
   "metadata": {},
   "outputs": [
    {
     "name": "stdout",
     "output_type": "stream",
     "text": [
      "Temperature: 0.0\n",
      "\n",
      "Sure! Here are some suggestions for a tech startup name:\n",
      "\n",
      "1. **TechNova**\n",
      "2. **InnoSphere**\n",
      "3. **ByteBridge\n",
      "\n",
      "--------------------------------------------------------------------------------\n",
      "\n",
      "Temperature: 0.3\n",
      "\n",
      "Sure! Here are some name suggestions for your tech startup:\n",
      "\n",
      "1. **TechNova**\n",
      "2. **InnoVibe**\n",
      "3. **Byte\n",
      "\n",
      "--------------------------------------------------------------------------------\n",
      "\n",
      "Temperature: 0.7\n",
      "\n",
      "Sure! Here are a few suggestions for a tech startup name:\n",
      "\n",
      "1. **InnovaSphere**\n",
      "2. **TechNest**\n",
      "3. **Quantum\n",
      "\n",
      "--------------------------------------------------------------------------------\n",
      "\n",
      "Temperature: 1.0\n",
      "\n",
      "Sure! Here are some name suggestions for your tech startup:\n",
      "\n",
      "1. **Techspire**\n",
      "2. **InnoWave**\n",
      "3. **Nex\n",
      "\n",
      "--------------------------------------------------------------------------------\n",
      "\n"
     ]
    }
   ],
   "source": [
    "def call_openai_with_temperature(temperature):\n",
    "    response = client.chat.completions.create(\n",
    "        model=\"gpt-4o-mini\",\n",
    "        messages=[{\"role\": \"system\", \"content\": \"You are a helpful assistant.\"},\n",
    "                  {\"role\": \"user\", \"content\": \"Suggest a name for a new tech startup.\"}],\n",
    "        max_tokens=30,\n",
    "        temperature=temperature\n",
    "    )\n",
    "    return response.choices[0].message.content\n",
    "\n",
    "# Probar con diferentes valores de temperatura para ver cómo varían las respuestas\n",
    "temperatures = [0.0, 0.3, 0.7, 1.0]\n",
    "for temp in temperatures:\n",
    "    print(f\"Temperature: {temp}\\n\")\n",
    "    print(call_openai_with_temperature(temp))\n",
    "    print(\"\\n\" + \"-\"*80 + \"\\n\")\n"
   ]
  }
 ],
 "metadata": {
  "kernelspec": {
   "display_name": ".venv",
   "language": "python",
   "name": "python3"
  },
  "language_info": {
   "codemirror_mode": {
    "name": "ipython",
    "version": 3
   },
   "file_extension": ".py",
   "mimetype": "text/x-python",
   "name": "python",
   "nbconvert_exporter": "python",
   "pygments_lexer": "ipython3",
   "version": "3.12.6"
  }
 },
 "nbformat": 4,
 "nbformat_minor": 2
}
