{
 "cells": [
  {
   "cell_type": "markdown",
   "id": "537de6a0",
   "metadata": {},
   "source": [
    "<h1 align =\"center\"> REST API Reference Samples</h1>\n",
    "<hr>\n",
    "   \n",
    "# Get Embeddings\n",
    "   \n",
    "Get a vector representation of a given input that can be easily consumed by machine learning models and other algorithms.\n",
    "In this example, we'll see how to get embeddings using REST API Call."
   ]
  },
  {
   "cell_type": "code",
   "execution_count": 1,
   "id": "bb6cdd7c",
   "metadata": {},
   "outputs": [],
   "source": [
    "import json\n",
    "import requests\n",
    "import openai\n",
    "import os"
   ]
  },
  {
   "cell_type": "markdown",
   "id": "9d490675",
   "metadata": {},
   "source": [
    "### Setup Parameters\n",
    "\n",
    "\n",
    "Here we will load the configurations from _config.json_ file to setup deployment_name, openai_api_base, openai_api_key and openai_api_version."
   ]
  },
  {
   "cell_type": "code",
   "execution_count": null,
   "id": "49c86877",
   "metadata": {},
   "outputs": [],
   "source": [
    "# Load config values\n",
    "with open(r'config.json') as config_file:\n",
    "    config_details = json.load(config_file)\n",
    "    \n",
    "# Setting up the deployment name\n",
    "deployment_name = config_details['EMBEDDINGS_MODEL']\n",
    "\n",
    "# The base URL for your Azure OpenAI resource. e.g. \"https://<your resource name>.openai.azure.com\"\n",
    "openai_api_base = config_details['OPENAI_API_BASE']\n",
    "\n",
    "# The API key for your Azure OpenAI resource.\n",
    "openai_api_key = config_details['OPENAI_API_KEY']\n",
    "\n",
    "# Currently OPENAI API have the following versions available: 2022-12-01\n",
    "openai_api_version = config_details['OPENAI_API_VERSION']\n",
    "\n",
    "print (deployment_name,openai_api_base,openai_api_key)"
   ]
  },
  {
   "cell_type": "code",
   "execution_count": 3,
   "id": "2ae6ba1d",
   "metadata": {},
   "outputs": [
    {
     "name": "stdout",
     "output_type": "stream",
     "text": [
      "[0.0023481972, -0.009284899, 0.01570119, -0.007710972, -0.0047217803, 0.014863454, -0.009849736, -0.038281962, -0.006930355, -0.028660698, 0.025182828, 0.018112851, -0.0036048, -0.02557631, 0.00049978524, -0.016361222, 0.02827991, 0.0053500817, 0.009652995, -0.016386608]\n"
     ]
    }
   ],
   "source": [
    "# Request URL\n",
    "api_url = f\"{openai_api_base}/openai/deployments/{deployment_name}/embeddings?api-version={openai_api_version}\"\n",
    "\n",
    "# Example prompt for request payload\n",
    "input=\"The food was delicious and the waiter...\"\n",
    "\n",
    "# Json payload\n",
    "json_data = {\n",
    "  \"input\": input\n",
    "}\n",
    "\n",
    "# Setting the API key in the HTTP headers\n",
    "headers =  {\"api-key\": openai_api_key}\n",
    "\n",
    "try:\n",
    "    # The response will contain embeddings, which you can extract, save, and use.\n",
    "    response = requests.post(api_url, json=json_data, headers=headers)\n",
    "\n",
    "    # Getting the JSON object of the result\n",
    "    embeddings = response.json()\n",
    "    \n",
    "    # Print embeddings\n",
    "    print(embeddings['data'][0]['embedding'][:20])\n",
    "    \n",
    "except:\n",
    "    print(\"An exception has occurred. \\n\")\n",
    "    print(\"Error Message:\", embeddings['error']['message'])"
   ]
  },
  {
   "cell_type": "markdown",
   "id": "d02bcff9-878d-4e32-9c6d-bac4d41566f1",
   "metadata": {},
   "source": [
    "### Ejercicio 1: Comparar la similitud entre dos frases usando embeddings\n",
    "# Genera embeddings para dos frases diferentes y calcula la similitud coseno entre ellos."
   ]
  },
  {
   "cell_type": "code",
   "execution_count": 5,
   "id": "34e21b0e-45df-4996-87a8-1d7b4251f6dd",
   "metadata": {},
   "outputs": [
    {
     "name": "stdout",
     "output_type": "stream",
     "text": [
      "Similarity between sentences: 0.9481576082430035\n"
     ]
    }
   ],
   "source": [
    "from sklearn.metrics.pairwise import cosine_similarity\n",
    "import numpy as np\n",
    "\n",
    "sentence1 = \"The food was amazing and the atmosphere was great.\"\n",
    "sentence2 = \"The meal was tasty and the environment was pleasant.\"\n",
    "\n",
    "json_data1 = {\"input\": sentence1}\n",
    "json_data2 = {\"input\": sentence2}\n",
    "\n",
    "response1 = requests.post(api_url, json=json_data1, headers=headers)\n",
    "response2 = requests.post(api_url, json=json_data2, headers=headers)\n",
    "\n",
    "embedding1 = response1.json()['data'][0]['embedding']\n",
    "embedding2 = response2.json()['data'][0]['embedding']\n",
    "\n",
    "# Convertimos los embeddings a matrices numpy 2D para usar cosine_similarity\n",
    "embedding1 = np.array(embedding1).reshape(1, -1)\n",
    "embedding2 = np.array(embedding2).reshape(1, -1)\n",
    "\n",
    "similarity = cosine_similarity(embedding1, embedding2)\n",
    "print(f\"Similarity between sentences: {similarity[0][0]}\")\n"
   ]
  },
  {
   "cell_type": "markdown",
   "id": "331bb542-4dcb-4272-9296-e90f0c5a9c08",
   "metadata": {},
   "source": [
    "### Ejercicio 2: Clasificación de texto simple usando embeddings\n",
    "# Genera embeddings para un conjunto de textos y clasifica si pertenecen a la categoría 'positivo' o 'negativo'.\n"
   ]
  },
  {
   "cell_type": "code",
   "execution_count": 6,
   "id": "abd44208-b371-4fb4-ab11-94332f6a792b",
   "metadata": {},
   "outputs": [
    {
     "name": "stdout",
     "output_type": "stream",
     "text": [
      "Text: I love this product! - Label: positive - Embedding: [-0.01093095, 0.0032429998, -0.011792726, -0.022535771, -0.013918009]\n",
      "Text: It's terrible, I will not buy it again. - Label: negative - Embedding: [-0.022774734, -0.00881582, -0.015034635, -0.001327147, -0.018764649]\n",
      "Text: Absolutely fantastic experience. - Label: positive - Embedding: [-0.012397227, -0.0013213849, 0.005783872, -0.02723789, -0.028446747]\n",
      "Text: The worst service ever. - Label: negative - Embedding: [-0.014438531, -0.019273035, 0.0043763956, -0.006647443, -0.015881086]\n"
     ]
    }
   ],
   "source": [
    "texts = [\"I love this product!\", \"It's terrible, I will not buy it again.\", \"Absolutely fantastic experience.\", \"The worst service ever.\"]\n",
    "labels = [\"positive\", \"negative\", \"positive\", \"negative\"]\n",
    "\n",
    "embeddings = []\n",
    "for text in texts:\n",
    "    json_data = {\"input\": text}\n",
    "    response = requests.post(api_url, json=json_data, headers=headers)\n",
    "    embeddings.append(response.json()['data'][0]['embedding'])\n",
    "\n",
    "for i, embedding in enumerate(embeddings):\n",
    "    print(f\"Text: {texts[i]} - Label: {labels[i]} - Embedding: {embedding[:5]}\")\n"
   ]
  },
  {
   "cell_type": "markdown",
   "id": "9b5f6d9a-f6eb-41ec-9692-a9fb8f1a67dc",
   "metadata": {},
   "source": [
    "### Ejercicio 3: Visualización de embeddings en 2D usando PCA\n",
    "# Usa PCA para reducir las dimensiones de los embeddings y visualízalos en un gráfico 2D."
   ]
  },
  {
   "cell_type": "code",
   "execution_count": 9,
   "id": "e6d9e4a3-209e-4f02-bad3-5cf2334128db",
   "metadata": {},
   "outputs": [
    {
     "data": {
      "image/png": "[encoded data removed]",
      "text/plain": [
       "<Figure size 640x480 with 1 Axes>"
      ]
     },
     "metadata": {},
     "output_type": "display_data"
    }
   ],
   "source": [
    "from sklearn.decomposition import PCA\n",
    "import matplotlib.pyplot as plt\n",
    "\n",
    "pca = PCA(n_components=2)\n",
    "embeddings_2d = pca.fit_transform(embeddings)\n",
    "\n",
    "plt.scatter(embeddings_2d[:, 0], embeddings_2d[:, 1])\n",
    "for i, text in enumerate(texts):\n",
    "    plt.annotate(text[:10], (embeddings_2d[i, 0], embeddings_2d[i, 1]))\n",
    "plt.title(\"2D Visualization of Text Embeddings\")\n",
    "plt.show()"
   ]
  },
  {
   "cell_type": "markdown",
   "id": "54270759-6381-4485-9457-a296f534f7c3",
   "metadata": {},
   "source": [
    "### Ejercicio 4: Búsqueda de texto similar en una base de datos de embeddings\n",
    "# Dado un texto de consulta, encuentra el texto más cercano en una lista de documentos almacenados."
   ]
  },
  {
   "cell_type": "code",
   "execution_count": 17,
   "id": "e31166a9-e9ab-48ec-8a41-4d829dd4796b",
   "metadata": {},
   "outputs": [
    {
     "name": "stdout",
     "output_type": "stream",
     "text": [
      "Most similar text to query: Absolutely fantastic experience.\n"
     ]
    }
   ],
   "source": [
    "query = \"I really enjoyed the food.\"\n",
    "json_data_query = {\"input\": query}\n",
    "response_query = requests.post(api_url, json=json_data_query, headers=headers)\n",
    "query_embedding = response_query.json()['data'][0]['embedding']\n",
    "\n",
    "similarities = cosine_similarity([query_embedding], embeddings)\n",
    "most_similar_index = np.argmax(similarities)\n",
    "\n",
    "print(f\"Most similar text to query: {texts[most_similar_index]}\")"
   ]
  }
 ],
 "metadata": {
  "kernelspec": {
   "display_name": ".venv",
   "language": "python",
   "name": "python3"
  },
  "language_info": {
   "codemirror_mode": {
    "name": "ipython",
    "version": 3
   },
   "file_extension": ".py",
   "mimetype": "text/x-python",
   "name": "python",
   "nbconvert_exporter": "python",
   "pygments_lexer": "ipython3",
   "version": "3.12.6"
  }
 },
 "nbformat": 4,
 "nbformat_minor": 5
}
