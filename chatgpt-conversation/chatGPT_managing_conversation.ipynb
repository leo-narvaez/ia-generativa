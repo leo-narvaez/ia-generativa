{
 "cells": [
  {
   "cell_type": "markdown",
   "metadata": {},
   "source": [
    "# Managing conversation history with the ChatGPT model\n",
    "This sample notebook demonstrates a couple of simple patterns you can use for managing the prompts and conversation history with the ChatGPT model."
   ]
  },
  {
   "cell_type": "code",
   "execution_count": null,
   "metadata": {},
   "outputs": [],
   "source": [
    "# if needed, install and/or upgrade to the latest version of the OpenAI Python library\n",
    "!pip install --upgrade -r requirements.txt"
   ]
  },
  {
   "cell_type": "code",
   "execution_count": 4,
   "metadata": {},
   "outputs": [
    {
     "data": {
      "text/plain": [
       "True"
      ]
     },
     "execution_count": 4,
     "metadata": {},
     "output_type": "execute_result"
    }
   ],
   "source": [
    "# import os module & the OpenAI Python library for calling the OpenAI API\n",
    "# please make sure you have installed required libraries via pip install -r requirements.txt\n",
    "import os, dotenv\n",
    "from openai  import AzureOpenAI\n",
    "\n",
    "dotenv.load_dotenv()"
   ]
  },
  {
   "cell_type": "code",
   "execution_count": 5,
   "metadata": {},
   "outputs": [],
   "source": [
    "# Setting up the deployment name\n",
    "deployment_name = \"gpt-4o-mini\"\n",
    "\n",
    "# The base URL for your Azure OpenAI resource. e.g. \"https://<your resource name>.openai.azure.com\"\n",
    "# This is the value of the endpoint for your Azure OpenAI resource\n",
    "azure_endpoint = os.environ['AZURE_OPENAI_ENDPOINT']\n",
    "\n",
    "# The API key for your Azure OpenAI resource.\n",
    "api_key = os.environ['AZURE_OPENAI_API_KEY']\n",
    "\n",
    "# Currently OPENAI API have the following versions available: https://learn.microsoft.com/azure/ai-services/openai/reference\n",
    "api_version = \"2024-07-01-preview\"\n",
    "\n",
    "client = AzureOpenAI(\n",
    "  azure_endpoint = os.getenv(\"AZURE_OPENAI_ENDPOINT\"), \n",
    "  api_key = os.getenv(\"AZURE_OPENAI_API_KEY\"),  \n",
    "  api_version=\"2024-02-15-preview\"\n",
    ")"
   ]
  },
  {
   "cell_type": "markdown",
   "metadata": {},
   "source": [
    "## 1.0 Create the system message for ChatGPT"
   ]
  },
  {
   "cell_type": "code",
   "execution_count": 6,
   "metadata": {},
   "outputs": [
    {
     "name": "stdout",
     "output_type": "stream",
     "text": [
      "You are a helpful assistant.\n"
     ]
    }
   ],
   "source": [
    "base_system_message = \"You are a helpful assistant.\"\n",
    "\n",
    "system_message = f\"{base_system_message.strip()}\"\n",
    "print(system_message)"
   ]
  },
  {
   "cell_type": "markdown",
   "metadata": {},
   "source": [
    "## 2.0 Define helper functions\n",
    "\n"
   ]
  },
  {
   "cell_type": "code",
   "execution_count": 7,
   "metadata": {},
   "outputs": [],
   "source": [
    "import tiktoken\n",
    "\n",
    "def num_tokens_from_messages(messages, model=\"gpt-3.5-turbo-0301\"):\n",
    "    encoding = tiktoken.encoding_for_model(model)\n",
    "    num_tokens = 0\n",
    "    for message in messages:\n",
    "        num_tokens += 4  # every message follows <im_start>{role/name}\\n{content}<im_end>\\n\n",
    "        for key, value in message.items():\n",
    "            num_tokens += len(encoding.encode(value))\n",
    "            if key == \"name\":  # if there's a name, the role is omitted\n",
    "                num_tokens += -1  # role is always required and always 1 token\n",
    "    num_tokens += 2  # every reply is primed with <im_start>assistant\n",
    "    return num_tokens"
   ]
  },
  {
   "cell_type": "code",
   "execution_count": 31,
   "metadata": {},
   "outputs": [],
   "source": [
    "# Defining a function to send the prompt to the ChatGPT model\n",
    "# More info : https://learn.microsoft.com/en-us/azure/cognitive-services/openai/how-to/chatgpt?pivots=programming-language-chat-completions\n",
    "def send_message(messages, model_name, max_response_tokens=500, temperature=0):\n",
    "    response = client.chat.completions.create(\n",
    "        model=model_name,\n",
    "        messages=messages,\n",
    "        max_tokens=max_response_tokens,\n",
    "        temperature=temperature\n",
    "    )\n",
    "    return response.choices[0].message.content\n",
    "\n",
    "# Defining a function to print out the conversation in a readable format\n",
    "def print_conversation(messages):\n",
    "    for message in messages:\n",
    "        print(f\"[{message['role'].upper()}]\")\n",
    "        print(message['content'])\n",
    "        print()"
   ]
  },
  {
   "cell_type": "markdown",
   "metadata": {},
   "source": [
    "## 3.0 Start the conversation"
   ]
  },
  {
   "cell_type": "code",
   "execution_count": 9,
   "metadata": {},
   "outputs": [],
   "source": [
    "# This is the first user message that will be sent to the model. Feel free to update this.\n",
    "user_message = \"I want to write a blog post about the impact of AI on the future of work.\""
   ]
  },
  {
   "cell_type": "code",
   "execution_count": 10,
   "metadata": {},
   "outputs": [
    {
     "name": "stdout",
     "output_type": "stream",
     "text": [
      "[SYSTEM]\n",
      "You are a helpful assistant.\n",
      "\n",
      "[USER]\n",
      "I want to write a blog post about the impact of AI on the future of work.\n",
      "\n"
     ]
    }
   ],
   "source": [
    "# Create the list of messages. role can be either \"user\" or \"assistant\" \n",
    "messages = [\n",
    "    {\"role\": \"system\", \"content\": base_system_message},\n",
    "    {\"role\": \"user\", \"content\": user_message} \n",
    "]\n",
    "print_conversation(messages)"
   ]
  },
  {
   "cell_type": "code",
   "execution_count": 11,
   "metadata": {},
   "outputs": [
    {
     "name": "stdout",
     "output_type": "stream",
     "text": [
      "Token count: 36\n"
     ]
    }
   ],
   "source": [
    "token_count = num_tokens_from_messages(messages)\n",
    "print(f\"Token count: {token_count}\")"
   ]
  },
  {
   "cell_type": "code",
   "execution_count": 12,
   "metadata": {},
   "outputs": [
    {
     "name": "stdout",
     "output_type": "stream",
     "text": [
      "[SYSTEM]\n",
      "You are a helpful assistant.\n",
      "\n",
      "[USER]\n",
      "I want to write a blog post about the impact of AI on the future of work.\n",
      "\n",
      "[ASSISTANT]\n",
      "### The Impact of AI on the Future of Work\n",
      "\n",
      "As we navigate through the early decades of the 21st century, the rapid advancement of artificial intelligence (AI) is reshaping our workplaces and transforming the way we perform our jobs. From automating repetitive tasks to enhancing decision-making and creativity, AI's impact on the future of work is profound and multi-faceted. In this blog post, we’ll explore how AI is influencing various aspects of the workplace and what it means for employees, businesses\n",
      "\n"
     ]
    }
   ],
   "source": [
    "max_response_tokens = 100\n",
    "\n",
    "response = send_message(messages, deployment_name, max_response_tokens)\n",
    "messages.append({\"role\": \"assistant\", \"content\": response})\n",
    "\n",
    "print_conversation(messages)"
   ]
  },
  {
   "cell_type": "markdown",
   "metadata": {},
   "source": [
    "## 4.0 Continue the conversation\n",
    "\n",
    "When working with the ChatGPT model, it's your responsibity to make sure you stay within the token limits of the model. The model can handle a maximum of 4096 tokens, and this includes the number of tokens in the prompt as well as the `max_tokens` you're requesting from the model. If you exceed these limits, the model will return an error.\n",
    "\n",
    "You should also consider the trade-off between maintaining more of the conversation history and the cost/latency that you'll incur by including those tokens in the prompt. Shorter prompts are cheaper and faster. The amount of the previous conversation you include also makes a difference in how the model responds.\n",
    "\n",
    "In this notebook, we'll show two strategies for managing the conversation history when working with the ChatGPT model.\n",
    "- Option 1: Keep the conversation within a given token limit\n",
    "- Option 2: Keep the conversation within a given number of turns"
   ]
  },
  {
   "cell_type": "markdown",
   "metadata": {},
   "source": [
    "### Option 1: Keep the conversation within a given token limit\n",
    "\n",
    "`overall_max_tokens` is the maximum number of tokens that you want to include in the prompt. Th maximum number this can be set to is 4096 but you can also consider reducing this number to reduce the cost and latency of the request."
   ]
  },
  {
   "cell_type": "code",
   "execution_count": 13,
   "metadata": {},
   "outputs": [],
   "source": [
    "overall_max_tokens = 1096\n",
    "prompt_max_tokens = overall_max_tokens - max_response_tokens"
   ]
  },
  {
   "cell_type": "markdown",
   "metadata": {},
   "source": [
    "You can continue the conversation below by editing the user_message and running the cell as many times as you would like."
   ]
  },
  {
   "cell_type": "code",
   "execution_count": 14,
   "metadata": {},
   "outputs": [
    {
     "name": "stdout",
     "output_type": "stream",
     "text": [
      "Token count: 164\n",
      "[SYSTEM]\n",
      "You are a helpful assistant.\n",
      "\n",
      "[USER]\n",
      "I want to write a blog post about the impact of AI on the future of work.\n",
      "\n",
      "[ASSISTANT]\n",
      "### The Impact of AI on the Future of Work\n",
      "\n",
      "As we navigate through the early decades of the 21st century, the rapid advancement of artificial intelligence (AI) is reshaping our workplaces and transforming the way we perform our jobs. From automating repetitive tasks to enhancing decision-making and creativity, AI's impact on the future of work is profound and multi-faceted. In this blog post, we’ll explore how AI is influencing various aspects of the workplace and what it means for employees, businesses\n",
      "\n",
      "[USER]\n",
      "The target audience for the blog post should be business leaders working in the tech industry.\n",
      "\n",
      "[USER]\n",
      "### The Impact of AI on the Future of Work: A Guide for Tech Industry Leaders\n",
      "\n",
      "As business leaders in the tech industry, you are at the forefront of one of the most significant transformations in the workplace—artificial intelligence (AI). The integration of AI technologies is not just a trend; it’s a fundamental shift that will redefine operations, workforce dynamics, and business strategies for years to come. In this blog post, we’ll delve into the various ways AI is shaping the future of work, providing insights to help you leverage these changes for growth and innovation.\n",
      "\n",
      "#### 1. **Enhancing Productivity Through Automation**\n",
      "\n",
      "One of the most immediate impacts of AI in the workplace is automation. Routine and repetitive tasks, such as data entry, scheduling, and reporting, can be efficiently managed by AI tools. This automation not only streamlines operations but also frees up valuable time for employees. By reallocating human resources to more strategic tasks—such as problem-solving and creative thinking—companies can boost overall productivity and enhance employee satisfaction.\n",
      "\n",
      "**Action Point:** Invest in AI-driven solutions that can automate mundane tasks, allowing your teams to focus on high-impact work that drives innovation and value.\n",
      "\n",
      "#### 2. **Data-Driven Decision Making**\n",
      "\n",
      "AI's ability to analyze vast amounts of data quickly and accurately enables businesses to make informed decisions. By utilizing machine learning algorithms and predictive analytics, companies can gain insights into market trends, customer behaviors, and operational efficiencies. Data-driven decision-making not only enhances strategic planning but also allows for agile responses to changing market conditions.\n",
      "\n",
      "**Action Point:** Foster a culture of data literacy within your organization. Encourage teams to embrace AI analytics tools that provide actionable insights, enabling them to make informed decisions faster.\n",
      "\n",
      "#### 3. **Transforming Skill Requirements**\n",
      "\n",
      "With AI taking over routine tasks, there is a growing demand for new skill sets. Employees will need to adapt to a work environment where digital literacy, critical thinking, and emotional intelligence are paramount. Business leaders must anticipate these shifts and invest in upskilling and reskilling initiatives to ensure that their workforce remains competitive and relevant.\n",
      "\n",
      "**Action Point:** Develop ongoing training programs that focus on enhancing digital skills, data analysis, and collaboration with AI tools. This will empower your workforce to thrive in a changing technological landscape.\n",
      "\n",
      "#### 4. **Augmenting Human Capabilities**\n",
      "\n",
      "AI is not just about replacing jobs; it’s about augmenting human capabilities. Employees can leverage AI tools to enhance their creativity, design thinking, and collaboration.\n",
      "\n"
     ]
    }
   ],
   "source": [
    "user_message = \"The target audience for the blog post should be business leaders working in the tech industry.\"\n",
    "#user_message = \"Let's talk about generative AI and keep the tone informational but also friendly.\"\n",
    "#user_message = \"Show me a few more examples\"\n",
    "messages.append({\"role\": \"user\", \"content\": user_message})\n",
    "\n",
    "token_count = num_tokens_from_messages(messages)\n",
    "print(f\"Token count: {token_count}\")\n",
    "\n",
    "# remove first message while over the token limit\n",
    "while token_count > prompt_max_tokens:\n",
    "    messages.pop(0)\n",
    "    token_count = num_tokens_from_messages(messages)\n",
    "\n",
    "response = send_message(messages, deployment_name)\n",
    "\n",
    "#Append assistance response \n",
    "messages.append({\"role\": \"user\", \"content\": response})\n",
    "print_conversation(messages)"
   ]
  },
  {
   "cell_type": "markdown",
   "metadata": {},
   "source": [
    "### Option 2: Keep the conversation within a given number of turns"
   ]
  },
  {
   "cell_type": "code",
   "execution_count": 15,
   "metadata": {},
   "outputs": [],
   "source": [
    "max_messages = 10\n",
    "\n",
    "overall_max_tokens = 4096\n",
    "prompt_max_tokens = overall_max_tokens - max_response_tokens"
   ]
  },
  {
   "cell_type": "markdown",
   "metadata": {},
   "source": [
    "You can continue the conversation below by editing the user_message and running the cell as many times as you would like."
   ]
  },
  {
   "cell_type": "code",
   "execution_count": 16,
   "metadata": {},
   "outputs": [
    {
     "name": "stdout",
     "output_type": "stream",
     "text": [
      "[SYSTEM]\n",
      "You are a helpful assistant.\n",
      "\n",
      "[USER]\n",
      "I want to write a blog post about the impact of AI on the future of work.\n",
      "\n",
      "[ASSISTANT]\n",
      "### The Impact of AI on the Future of Work\n",
      "\n",
      "As we navigate through the early decades of the 21st century, the rapid advancement of artificial intelligence (AI) is reshaping our workplaces and transforming the way we perform our jobs. From automating repetitive tasks to enhancing decision-making and creativity, AI's impact on the future of work is profound and multi-faceted. In this blog post, we’ll explore how AI is influencing various aspects of the workplace and what it means for employees, businesses\n",
      "\n",
      "[USER]\n",
      "The target audience for the blog post should be business leaders working in the tech industry.\n",
      "\n",
      "[USER]\n",
      "### The Impact of AI on the Future of Work: A Guide for Tech Industry Leaders\n",
      "\n",
      "As business leaders in the tech industry, you are at the forefront of one of the most significant transformations in the workplace—artificial intelligence (AI). The integration of AI technologies is not just a trend; it’s a fundamental shift that will redefine operations, workforce dynamics, and business strategies for years to come. In this blog post, we’ll delve into the various ways AI is shaping the future of work, providing insights to help you leverage these changes for growth and innovation.\n",
      "\n",
      "#### 1. **Enhancing Productivity Through Automation**\n",
      "\n",
      "One of the most immediate impacts of AI in the workplace is automation. Routine and repetitive tasks, such as data entry, scheduling, and reporting, can be efficiently managed by AI tools. This automation not only streamlines operations but also frees up valuable time for employees. By reallocating human resources to more strategic tasks—such as problem-solving and creative thinking—companies can boost overall productivity and enhance employee satisfaction.\n",
      "\n",
      "**Action Point:** Invest in AI-driven solutions that can automate mundane tasks, allowing your teams to focus on high-impact work that drives innovation and value.\n",
      "\n",
      "#### 2. **Data-Driven Decision Making**\n",
      "\n",
      "AI's ability to analyze vast amounts of data quickly and accurately enables businesses to make informed decisions. By utilizing machine learning algorithms and predictive analytics, companies can gain insights into market trends, customer behaviors, and operational efficiencies. Data-driven decision-making not only enhances strategic planning but also allows for agile responses to changing market conditions.\n",
      "\n",
      "**Action Point:** Foster a culture of data literacy within your organization. Encourage teams to embrace AI analytics tools that provide actionable insights, enabling them to make informed decisions faster.\n",
      "\n",
      "#### 3. **Transforming Skill Requirements**\n",
      "\n",
      "With AI taking over routine tasks, there is a growing demand for new skill sets. Employees will need to adapt to a work environment where digital literacy, critical thinking, and emotional intelligence are paramount. Business leaders must anticipate these shifts and invest in upskilling and reskilling initiatives to ensure that their workforce remains competitive and relevant.\n",
      "\n",
      "**Action Point:** Develop ongoing training programs that focus on enhancing digital skills, data analysis, and collaboration with AI tools. This will empower your workforce to thrive in a changing technological landscape.\n",
      "\n",
      "#### 4. **Augmenting Human Capabilities**\n",
      "\n",
      "AI is not just about replacing jobs; it’s about augmenting human capabilities. Employees can leverage AI tools to enhance their creativity, design thinking, and collaboration.\n",
      "\n",
      "[USER]\n",
      "Make the post about generative AI aimed at business leaders who have some knowledge of the technology.\n",
      "\n",
      "[USER]\n",
      "### The Impact of Generative AI on the Future of Work: Insights for Tech Industry Leaders\n",
      "\n",
      "As business leaders in the tech industry, you are likely aware of the transformative potential of generative AI technologies. These advanced systems, capable of creating text, images, music, and more, are redefining workflows, driving innovation, and altering the dynamics of creativity in the workplace. In this blog post, we’ll explore how generative AI is shaping the future of work, highlighting key considerations for leaders like you who are guiding their organizations through this evolution.\n",
      "\n",
      "#### 1. **Catalyzing Creativity and Innovation**\n",
      "\n",
      "Generative AI tools can serve as a catalyst for creativity, offering new ways to brainstorm, visualize concepts, and produce original content. Whether it's generating marketing copy, creating prototypes, or designing user interfaces, these tools empower teams to explore uncharted territories without the constraints of traditional processes. This capability allows for faster iteration and the potential to discover unique insights and solutions.\n",
      "\n",
      "**Action Point:** Encourage your teams to integrate generative AI into their creative processes. This could involve training them on tools that can assist in content creation, product design, or customer engagement strategies.\n",
      "\n",
      "#### 2. **Enhancing Personalization at Scale**\n",
      "\n",
      "In today’s competitive landscape, personalization is key to customer engagement and loyalty. Generative AI can analyze customer data to create tailored experiences, from personalized marketing messages to customized product recommendations. By leveraging AI to generate content and solutions that are bespoke to individual preferences, businesses can significantly enhance their customer relationships.\n",
      "\n",
      "**Action Point:** Implement generative AI capabilities within customer-facing applications. This could enhance marketing campaigns, customer service interactions, and product offerings, making them more aligned with user interests.\n",
      "\n",
      "#### 3. **Streamlining Content Production**\n",
      "\n",
      "The ability of generative AI to produce high-quality content rapidly can revolutionize how companies approach content marketing, product documentation, and internal communication. AI can assist in drafting articles, reports, or even code, drastically reducing the time spent on these tasks. This efficiency allows companies to maintain a steady flow of fresh content, essential in a fast-paced digital environment.\n",
      "\n",
      "**Action Point:** Explore generative AI content tools that can aid in writing, coding, or even graphic design. This could help your organization reduce costs while enhancing output quality.\n",
      "\n",
      "#### 4. **Facilitating Data-Driven Insights**\n",
      "\n",
      "Generative AI can also aid in transforming raw data into meaningful narratives and insights. Leadership can leverage these AI-generated insights to inform strategic decisions, drive operational improvements\n",
      "\n"
     ]
    }
   ],
   "source": [
    "user_message = \"Make the post about generative AI aimed at business leaders who have some knowledge of the technology.\"\n",
    "messages.append({\"role\": \"user\", \"content\": user_message})\n",
    "\n",
    "while len(messages) > max_messages:\n",
    "    messages.pop(0)\n",
    "\n",
    "token_count = num_tokens_from_messages(messages)\n",
    "\n",
    "while token_count > prompt_max_tokens:\n",
    "    # remove first message from messages\n",
    "    messages.pop(0)\n",
    "    token_count = num_tokens_from_messages(messages)\n",
    "\n",
    "response = send_message(messages, deployment_name)\n",
    "\n",
    "#Append assistant response\n",
    "messages.append({\"role\": \"user\", \"content\": response})\n",
    "print_conversation(messages)\n"
   ]
  },
  {
   "cell_type": "markdown",
   "metadata": {},
   "source": [
    "## Ejercicio 1: Modificar el Mensaje del Sistema\n",
    "Enunciado:\n",
    "Crea un mensaje del sistema que defina a ChatGPT como un \"analista financiero experto\". Imprime el mensaje del sistema resultante y utilízalo en un mensaje inicial del usuario que pregunte:\n",
    "\"¿Cuáles son las tendencias actuales en el mercado de acciones tecnológicas?\".\n"
   ]
  },
  {
   "cell_type": "code",
   "execution_count": 17,
   "metadata": {},
   "outputs": [
    {
     "name": "stdout",
     "output_type": "stream",
     "text": [
      "You are a financial analyst expert.\n",
      "[USER]\n",
      "¿Cuáles son las tendencias actuales en el mercado de valores tecnológico?\n",
      "\n",
      "[ASSISTANT]\n",
      "Hasta octubre de 2023, las tendencias en el mercado de valores tecnológico incluyen varios factores clave:\n",
      "\n",
      "1. **Inteligencia Artificial (IA)**: Las empresas de tecnología están invirtiendo fuertemente en IA y aprendizaje automático. La adopción de soluciones basadas en IA para la automatización, análisis de datos y personalización está impulsando el crecimiento de este sector.\n",
      "\n",
      "2. **Ciberseguridad**: Con el aumento de las amenazas cibernéticas, la demanda por soluciones de ciberseguridad sigue en auge. Las empresas que ofrecen tecnología para proteger datos y sistemas están experimentando un crecimiento significativo.\n",
      "\n",
      "3. **5G y Conectividad**: La implementación de redes 5G está transformando industrias. Las empresas que desarrollan infraestructura y dispositivos compatibles con 5G están capitalizando esta tendencia.\n",
      "\n",
      "4. **Sostenibilidad y Tecnología Verde**: Hay un enfoque creciente en la sostenibilidad. Las empresas tecnológicas que adoptan prácticas sostenibles y desarrollan tecnologías que reducen la huella de carbono están ganando atención.\n",
      "\n",
      "5. **Teletrabajo y Herramientas Digitales**: La transición hacia modelos de trabajo híbridos ha generado una demanda sostenida por herramientas de colaboración y software diseñado para facilitar el trabajo remoto.\n",
      "\n",
      "6. **Criptomonedas y Blockchain**: La evolución del mercado de criptomonedas y las aplicaciones de la tecnología blockchain en diversas industrias continúan siendo un área de interés, aunque con alta volatilidad.\n",
      "\n",
      "7. **Realidad Aumentada (RA) y Realidad Virtual (RV)**: La RA y la RV están ganando popularidad en sectores como entretenimiento, educación y capacitación, lo que está impulsando la inversión en este tipo de tecnologías.\n",
      "\n",
      "8. **Acuerdos de fusión y adquisiciones**: El mercado tecnológico ha visto un aumento en las fusiones y adquisiciones, lo que puede ser indicativo de un consolidación en el sector.\n",
      "\n",
      "Estas tendencias reflejan un entorno en constante cambio en el sector tecnológico, impulsado por la innovación y la necesidad de adaptación frente a nuevos desafíos y oportunidades.\n",
      "\n"
     ]
    }
   ],
   "source": [
    "\n",
    "# Mensaje del sistema\n",
    "base_system_message = \"You are a financial analyst expert.\"\n",
    "system_message = f\"{base_system_message.strip()}\"\n",
    "print(system_message)\n",
    "\n",
    "# Crear lista de mensajes\n",
    "user_message = \"¿Cuáles son las tendencias actuales en el mercado de valores tecnológico?\"\n",
    "messages = [{\"role\": \"user\", \"content\": user_message}]\n",
    "\n",
    "# Enviar mensaje y recibir respuesta\n",
    "response = send_message(messages, deployment_name)\n",
    "\n",
    "messages.append({\"role\": \"assistant\", \"content\": response})\n",
    "print_conversation(messages)\n"
   ]
  },
  {
   "cell_type": "markdown",
   "metadata": {},
   "source": [
    "## Ejercicio 2: Contar Tokens en una Conversación Extendida\n",
    "Enunciado:\n",
    "Dado un conjunto inicial de mensajes, agrega tres mensajes adicionales:\n",
    "\n",
    "\"Explain the impact of inflation on stock prices.\"\n",
    "\"What are the top stocks to watch in 2025?\"\n",
    "\"Summarize the latest market news in 50 words.\"\n",
    "Calcula y muestra el número total de tokens tras añadir cada mensaje.\n"
   ]
  },
  {
   "cell_type": "code",
   "execution_count": 18,
   "metadata": {},
   "outputs": [
    {
     "name": "stdout",
     "output_type": "stream",
     "text": [
      "Token count after adding 'Explica el impacto de la inflación en los precios de las acciones.': 54\n",
      "Token count after adding '¿Cuáles son las principales acciones a seguir en 2025?': 74\n",
      "Token count after adding 'Resume las últimas noticias del mercado en 50 palabras.': 91\n"
     ]
    }
   ],
   "source": [
    "\n",
    "# Mensajes iniciales\n",
    "messages = [\n",
    "    {\"role\": \"system\", \"content\": \"You are a helpful assistant specialized in financial topics.\"},\n",
    "    {\"role\": \"user\", \"content\": \"What are the current trends in the tech stock market?\"}\n",
    "]\n",
    "\n",
    "# Mensajes adicionales\n",
    "additional_messages = [\n",
    "    \"Explica el impacto de la inflación en los precios de las acciones.\",\n",
    "    \"¿Cuáles son las principales acciones a seguir en 2025?\",\n",
    "    \"Resume las últimas noticias del mercado en 50 palabras.\"\n",
    "]\n",
    "# Agregar mensajes y calcular tokens\n",
    "for msg in additional_messages:\n",
    "    messages.append({\"role\": \"user\", \"content\": msg})\n",
    "    token_count = num_tokens_from_messages(messages)\n",
    "    print(f\"Token count after adding '{msg}': {token_count}\")\n"
   ]
  },
  {
   "cell_type": "markdown",
   "metadata": {},
   "source": [
    "## Ejercicio 3: Personalizar el Mensaje del Sistema Según el Usuario\n",
    "Enunciado:\n",
    "Escribe un programa que permita al usuario definir el rol de ChatGPT mediante una entrada de texto (input). Una vez definido, responde al mensaje:\n",
    "\"What are your key skills as an assistant?\"\n",
    "Usa el mensaje del sistema definido por el usuario.\n"
   ]
  },
  {
   "cell_type": "code",
   "execution_count": 19,
   "metadata": {},
   "outputs": [
    {
     "name": "stdout",
     "output_type": "stream",
     "text": [
      "[SYSTEM]\n",
      "You are comentarista deportivo.\n",
      "\n",
      "[USER]\n",
      "¿Cuáles son tus habilidades clave como asistente?\n",
      "\n",
      "[ASSISTANT]\n",
      "Como asistente, mis habilidades clave incluyen:\n",
      "\n",
      "1. **Análisis de Datos**: Puedo procesar y analizar grandes volúmenes de información para ofrecer estadísticas y tendencias relevantes en deportes.\n",
      "\n",
      "2. **Conocimiento Deportivo**: Tengo un amplio conocimiento sobre diversas disciplinas, desde las reglas hasta la historia y los eventos más destacados.\n",
      "\n",
      "3. **Comunicación Clara**: Puedo explicar conceptos complejos de manera sencilla, lo que es esencial para transmitir información a la audiencia.\n",
      "\n",
      "4. **Actualización Constante**: Estoy entrenado con información más reciente hasta octubre de 2023, lo que me permite ofrecer análisis actuales y relevantes.\n",
      "\n",
      "5. **Predicciones y Proyecciones**: Puedo utilizar datos y estadísticas para hacer predicciones sobre el rendimiento de equipos y jugadores, analizando factores como forma reciente, lesiones y emparejamientos.\n",
      "\n",
      "6. **Comprensión de Estrategias de Juego**: Tengo la capacidad de analizar tácticas y estrategias utilizadas por los equipos, lo que permite profundizar en la narrativa de los partidos.\n",
      "\n",
      "7. **Adaptabilidad**: Puedo ajustarme a diferentes estilos de análisis, ya sea para un enfoque técnico, emocional o narrativo, según lo que la audiencia necesite. \n",
      "\n",
      "Estas habilidades me permiten ofrecer comentarios informados y atractivos sobre eventos deportivos, enriqueciendo la experiencia de los aficionados.\n",
      "\n"
     ]
    }
   ],
   "source": [
    "\n",
    "# Entrada del usuario para definir el mensaje del sistema\n",
    "user_defined_role = input(\"Define the role of the assistant: \")\n",
    "system_message = f\"You are {user_defined_role.strip()}.\"\n",
    "\n",
    "# Crear lista de mensajes\n",
    "messages = [\n",
    "    {\"role\": \"system\", \"content\": system_message},\n",
    "    {\"role\": \"user\", \"content\": \"¿Cuáles son tus habilidades clave como asistente?\"}\n",
    "]\n",
    "\n",
    "# Enviar mensaje y recibir respuesta\n",
    "response = send_message(messages, deployment_name)\n",
    "\n",
    "messages.append({\"role\": \"assistant\", \"content\": response})\n",
    "\n",
    "# Mostrar la conversación\n",
    "print_conversation(messages)\n"
   ]
  },
  {
   "cell_type": "markdown",
   "metadata": {},
   "source": [
    "## Ejercicio 4: Crear un Generador de Respuestas Creativo\n",
    "Enunciado:\n",
    "Diseña un programa que permita configurar la creatividad del modelo (temperatura) a través de una entrada del usuario. Una vez configurado, responde a la pregunta:\n",
    "\"Can you suggest an out-of-the-box idea for a startup?\"\n",
    "\n"
   ]
  },
  {
   "cell_type": "code",
   "execution_count": 40,
   "metadata": {},
   "outputs": [
    {
     "name": "stdout",
     "output_type": "stream",
     "text": [
      "¡Por supuesto! Aquí tienes una idea innovadora para una startup:\n",
      "\n",
      "**Plataforma de Conexión Intergeneracional: \"Sabiduría Compartida\"**\n",
      "\n",
      "**Concepto:**\n",
      "Desarrolla una plataforma en línea que conecte a personas mayores con jóvenes, promoviendo el intercambio de conocimientos, experiencias y habilidades. La idea es crear un espacio donde las generaciones puedan aprender unas de otras, fomentando el entendimiento mutuo y fortaleciendo la cohesión social.\n",
      "\n",
      "**Funcionalidades\n"
     ]
    }
   ],
   "source": [
    "# Entrada del usuario para definir la creatividad\n",
    "temperature = float(input(\"Set the creativity level (0.0 - 1.0): \"))\n",
    "if not (0.0 <= temperature <= 1.0):\n",
    "    raise ValueError(\"Creativity level must be between 0.0 and 1.0.\")\n",
    "\n",
    "# Crear lista de mensajes\n",
    "system_message = \"You are a highly creative assistant.\"\n",
    "messages = [\n",
    "    {\"role\": \"system\", \"content\": system_message},\n",
    "    {\"role\": \"user\", \"content\": \"¿Puedes sugerir una idea innovadora para una startup?\"}\n",
    "]\n",
    "\n",
    "# Enviar mensaje con creatividad ajustada\n",
    "response = send_message(messages, deployment_name, max_response_tokens, temperature)\n",
    "\n",
    "# Mostrar la respuesta\n",
    "print(response)"
   ]
  },
  {
   "cell_type": "markdown",
   "metadata": {},
   "source": [
    "## Ejercicio 5: Cambiar el Tono del Mensaje\n",
    "Enunciado:\n",
    "Configura el mensaje del sistema para que ChatGPT responda en un tono humorístico y escribe una respuesta al mensaje:\n",
    "\"Explain quantum computing in a funny way.\"\n"
   ]
  },
  {
   "cell_type": "code",
   "execution_count": 47,
   "metadata": {},
   "outputs": [
    {
     "name": "stdout",
     "output_type": "stream",
     "text": [
      "[SYSTEM]\n",
      "You are a humorous assistant.\n",
      "\n",
      "[USER]\n",
      "Explica la computación cuántica de una manera divertida.\n",
      "\n",
      "[ASSISTANT]\n",
      "¡Claro! Imagina que la computación cuántica es como una fiesta de disfraces en la que todos los asistentes son partículas subatómicas. En esta fiesta, las partículas no solo pueden estar en un lugar, sino que pueden estar en varios lugares al mismo tiempo, como si estuvieran haciendo un \"moonwalk\" cuántico. ¡Es como si Michael Jackson hubiera sido un electrón!\n",
      "\n",
      "En el mundo clásico, los bits son como monedas: pueden ser cara (0) o cruz (1). Pero en la computación cuántica, los qubits son como monedas que están girando en el aire. No sabes si caerán en cara o cruz hasta que las observes. ¡Es como si tuvieras una moneda mágica que, al lanzarla, te dice que es ambas cosas a la vez hasta que la atrapes!\n",
      "\n",
      "Además, en esta fiesta cuántica, las partículas pueden \"entrelazarse\", lo que significa que si tienes dos qubits entrelazados, lo que le pase a uno afecta al otro, sin importar la distancia. Es como si tu amigo en la fiesta estuviera a miles de kilómetros, pero aún así pudieras sentir que se le cayó el refresco. ¡Eso sí que es una conexión profunda!\n",
      "\n",
      "Así que, en resumen, la computación cuántica es como una fiesta de partículas donde todos están en múltiples lugares a la vez, tienen conexiones misteriosas y, en lugar de seguir las reglas clásicas, deciden hacer lo que les plazca. ¡Y todo esto con un toque de magia cuántica! 🎉✨\n",
      "\n"
     ]
    }
   ],
   "source": [
    "\n",
    "# Mensaje del sistema humorístico\n",
    "system_message = \"You are a humorous assistant.\"\n",
    "messages = [\n",
    "    {\"role\": \"system\", \"content\": system_message},\n",
    "    {\"role\": \"user\", \"content\": \"Explica la computación cuántica de una manera divertida.\"}\n",
    "]\n",
    "\n",
    "# Enviar mensaje y recibir respuesta\n",
    "response = send_message(messages, deployment_name)\n",
    "\n",
    "#append assistant response\n",
    "messages.append({\"role\": \"assistant\", \"content\": response})\n",
    "print_conversation(messages)\n"
   ]
  },
  {
   "cell_type": "markdown",
   "metadata": {},
   "source": [
    "## Ejercicio 6: Resumir Mensajes Previos\n",
    "Enunciado:\n",
    "Dado un historial de conversación de 5 mensajes, crea una función que resuma el contenido de los mensajes del usuario en una sola oración.\n",
    "\n"
   ]
  },
  {
   "cell_type": "code",
   "execution_count": 46,
   "metadata": {},
   "outputs": [
    {
     "name": "stdout",
     "output_type": "stream",
     "text": [
      "User messages summary: La inteligencia artificial se basa en el aprendizaje automático, que utiliza redes neuronales para procesar datos y tiene aplicaciones en diversas áreas como la visión por computadora, el procesamiento del lenguaje natural y la automatización.\n"
     ]
    }
   ],
   "source": [
    "\n",
    "# Historial de mensajes\n",
    "messages = [\n",
    "    {\"role\": \"system\", \"content\": \"Eres un asistente útil.\"},\n",
    "    {\"role\": \"user\", \"content\": \"Háblame sobre la inteligencia artificial.\"},\n",
    "    {\"role\": \"user\", \"content\": \"¿Cómo funciona el aprendizaje automático?\"},\n",
    "    {\"role\": \"user\", \"content\": \"¿Puedes explicar las redes neuronales?\"},\n",
    "    {\"role\": \"user\", \"content\": \"¿Cuáles son las aplicaciones del aprendizaje profundo?\"}\n",
    "]\n",
    "\n",
    "# Resumir mensajes del usuario\n",
    "def summarize_user_messages(messages):\n",
    "    user_messages = [msg['content'] for msg in messages if msg['role'] == 'user']\n",
    "    summary_prompt = \"Resume los siguientes mensajes en una sola frase: \" + \" \".join(user_messages)\n",
    "    summary = send_message([{\"role\": \"system\", \"content\": \"You are a helpful assistant.\"},\n",
    "                            {\"role\": \"user\", \"content\": summary_prompt}], deployment_name)\n",
    "    return summary\n",
    "\n",
    "# Obtener y mostrar el resumen\n",
    "summary = summarize_user_messages(messages)\n",
    "print(f\"User messages summary: {summary}\")\n"
   ]
  },
  {
   "cell_type": "markdown",
   "metadata": {},
   "source": [
    "## Ejercicio 7: Configuración de Temperatura y Tono\n",
    "Enunciado:\n",
    "Escribe un programa que cambie la configuración de temperatura a 0.9 para obtener respuestas más creativas y responde al mensaje:\n",
    "\"Suggest a unique title for a blog about AI in education.\"\n",
    "\n"
   ]
  },
  {
   "cell_type": "code",
   "execution_count": 45,
   "metadata": {},
   "outputs": [
    {
     "name": "stdout",
     "output_type": "stream",
     "text": [
      "\"Inteligencia Artificial: Transformando el Aula del Futuro\"\n"
     ]
    }
   ],
   "source": [
    "\n",
    "# Mensajes iniciales\n",
    "messages = [\n",
    "    {\"role\": \"system\", \"content\": \"You are a creative assistant.\"},\n",
    "    {\"role\": \"user\", \"content\": \"Sugerir un título único para un blog sobre IA en la educación.\"}\n",
    "]\n",
    "temperature = float(0.9)\n",
    "\n",
    "# Ajustar temperatura y enviar mensaje\n",
    "response = send_message(messages, deployment_name, max_response_tokens, temperature)\n",
    "\n",
    "# Mostrar la respuesta\n",
    "print(response)\n"
   ]
  },
  {
   "cell_type": "code",
   "execution_count": null,
   "metadata": {},
   "outputs": [],
   "source": []
  }
 ],
 "metadata": {
  "kernelspec": {
   "display_name": ".venv",
   "language": "python",
   "name": "python3"
  },
  "language_info": {
   "codemirror_mode": {
    "name": "ipython",
    "version": 3
   },
   "file_extension": ".py",
   "mimetype": "text/x-python",
   "name": "python",
   "nbconvert_exporter": "python",
   "pygments_lexer": "ipython3",
   "version": "3.12.6"
  }
 },
 "nbformat": 4,
 "nbformat_minor": 4
}
